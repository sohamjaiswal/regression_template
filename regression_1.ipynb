{
 "cells": [
  {
   "cell_type": "markdown",
   "metadata": {},
   "source": [
    "# Intro to AI\n",
    "\n",
    "## Prelude\n",
    "Hi, this is gonna be one of my first introductions to ✨ *AI* ✨\n",
    "This is also gonna serve as one of my templates for future AI quick starters.\n",
    "\n",
    "## About this project\n",
    "We will take data of a simple equation **(y = x + 10)** (we only know the equation here in this example, cuz this is a demo)\n",
    "And make our model predict values by making it guess this equation"
   ]
  },
  {
   "cell_type": "markdown",
   "metadata": {},
   "source": [
    "### Normal import stuff"
   ]
  },
  {
   "cell_type": "code",
   "execution_count": 91,
   "metadata": {},
   "outputs": [
    {
     "name": "stdout",
     "output_type": "stream",
     "text": [
      "2.10.0\n"
     ]
    }
   ],
   "source": [
    "# Import TensorFlow\n",
    "import tensorflow as tf\n",
    "print(tf.__version__)"
   ]
  },
  {
   "cell_type": "code",
   "execution_count": 92,
   "metadata": {},
   "outputs": [],
   "source": [
    "import numpy as np\n",
    "import matplotlib.pyplot as plt"
   ]
  },
  {
   "cell_type": "markdown",
   "metadata": {},
   "source": [
    "### Creating *Features*\n",
    "We are gonna follow simple mathematical name schemes/notations (Capitals for tensors/matrices/vectors)"
   ]
  },
  {
   "cell_type": "markdown",
   "metadata": {},
   "source": [
    "#### ELI5 (FEATURES)\n",
    "Imagine you want to predict how tall a plant will grow based on some information you have about it. In a regression model, \"features\" are like the pieces of information you use to make that prediction.\n",
    "\n",
    "Let's say you know three things about the plant: how much sunlight it gets each day, how much water you give it, and how old it is. These three things are the features in your regression model.\n",
    "\n",
    "So, in a nutshell, features are the specific pieces of information or data you use to make predictions in a regression model. In the case of predicting plant height, your features are the amount of sunlight, water, and the age of the plant. The model then uses these features to estimate or \"regress\" to predict the height of the plant."
   ]
  },
  {
   "cell_type": "code",
   "execution_count": 93,
   "metadata": {},
   "outputs": [],
   "source": [
    "X = np.array([-7.0, -4.0, -1.0, 2.0, 5.0, 8.0, 11.0, 14.0])"
   ]
  },
  {
   "cell_type": "markdown",
   "metadata": {},
   "source": [
    "### Creating Labels\n",
    "Same as above, we are gonna follow simple mathematical name schemes (Capitals for tensors/matrices/vectors)"
   ]
  },
  {
   "cell_type": "markdown",
   "metadata": {},
   "source": [
    "#### ELI5 (LABELS)\n",
    "Let's stick with the example of trying to predict how tall a plant will grow. In a regression model, the \"labels\" are like the answers or outcomes we want to predict.\n",
    "\n",
    "Think of labels as the thing you're trying to figure out. So, in this case, the label would be the actual height of the plant. You want to predict how tall the plant will be, but you don't know that in advance. That's where the regression model comes in.\n",
    "\n",
    "You use the features (like sunlight, water, and age) to help the model make its best guess at the label, which is the plant's height. The label is the answer or the target value you're trying to get as close to as possible with your predictions.\n",
    "\n",
    "So, in simple terms, labels in a regression model are the things you're trying to predict or find out, like how tall the plant will grow. The model's job is to use the features to make a good estimate of these labels."
   ]
  },
  {
   "cell_type": "code",
   "execution_count": 94,
   "metadata": {},
   "outputs": [],
   "source": [
    "Y = np.array([3.0, 6.0, 9.0, 12.0, 15.0, 18.0, 21.0, 24.0])"
   ]
  },
  {
   "cell_type": "markdown",
   "metadata": {},
   "source": [
    "For confirming that our entered data, we will visualize it."
   ]
  },
  {
   "cell_type": "code",
   "execution_count": 95,
   "metadata": {},
   "outputs": [
    {
     "data": {
      "text/plain": [
       "<matplotlib.collections.PathCollection at 0x1bba15bf0d0>"
      ]
     },
     "execution_count": 95,
     "metadata": {},
     "output_type": "execute_result"
    },
    {
     "data": {
      "image/png": "[encoded data removed]",
      "text/plain": [
       "<Figure size 640x480 with 1 Axes>"
      ]
     },
     "metadata": {},
     "output_type": "display_data"
    }
   ],
   "source": [
    "plt.scatter(X, Y)"
   ]
  },
  {
   "cell_type": "code",
   "execution_count": 96,
   "metadata": {},
   "outputs": [
    {
     "data": {
      "text/plain": [
       "array([ True,  True,  True,  True,  True,  True,  True,  True])"
      ]
     },
     "execution_count": 96,
     "metadata": {},
     "output_type": "execute_result"
    }
   ],
   "source": [
    "# confirming we are indeed following it but programmatically this time\n",
    "Y == X + 10"
   ]
  },
  {
   "cell_type": "markdown",
   "metadata": {},
   "source": [
    "The model is going to use the features to predict the labels for unknown values. \n",
    "\n",
    "The sets above represent \"training data\" which would be fed to the model first for it to \"learn\" the behaviour/interactions b/w the features and labels. As the programmers behind this model, it its important to have consistency between the input and output data. This consistency can be achieved by having same/similar labels (output) *shapes* for same/similar features (input) *shapes*.\n",
    "\n",
    "We will observe the shapes of our training data, now."
   ]
  },
  {
   "cell_type": "code",
   "execution_count": 97,
   "metadata": {},
   "outputs": [
    {
     "data": {
      "text/plain": [
       "(-7.0, 3.0)"
      ]
     },
     "execution_count": 97,
     "metadata": {},
     "output_type": "execute_result"
    }
   ],
   "source": [
    "X[0], Y[0]"
   ]
  },
  {
   "cell_type": "markdown",
   "metadata": {},
   "source": [
    "Just trying out logging, inputs and outputs for once."
   ]
  },
  {
   "cell_type": "code",
   "execution_count": 98,
   "metadata": {},
   "outputs": [
    {
     "data": {
      "text/plain": [
       "((8,), (8,))"
      ]
     },
     "execution_count": 98,
     "metadata": {},
     "output_type": "execute_result"
    }
   ],
   "source": [
    "training_input_shape = X.shape\n",
    "training_output_shape = Y.shape\n",
    "\n",
    "singular_training_input_shape = X[0].shape\n",
    "singular_training_output_shape = Y[0].shape\n",
    "\n",
    "training_input_shape, training_output_shape"
   ]
  },
  {
   "cell_type": "markdown",
   "metadata": {},
   "source": [
    "8 columns, visibly, makes sense"
   ]
  },
  {
   "cell_type": "code",
   "execution_count": 99,
   "metadata": {},
   "outputs": [
    {
     "data": {
      "text/plain": [
       "((), ())"
      ]
     },
     "execution_count": 99,
     "metadata": {},
     "output_type": "execute_result"
    }
   ],
   "source": [
    "singular_training_input_shape, singular_training_output_shape"
   ]
  },
  {
   "cell_type": "markdown",
   "metadata": {},
   "source": [
    "Empty? why? our data's single element is not vector, not a matrix, it's a scalar, scalars do not have dimensions/shape, thus an empty tuple, similarly, to check it's n dimensions..."
   ]
  },
  {
   "cell_type": "code",
   "execution_count": 100,
   "metadata": {},
   "outputs": [
    {
     "data": {
      "text/plain": [
       "0"
      ]
     },
     "execution_count": 100,
     "metadata": {},
     "output_type": "execute_result"
    }
   ],
   "source": [
    "X[0].ndim"
   ]
  },
  {
   "cell_type": "markdown",
   "metadata": {},
   "source": [
    "Obviously 0, cuz its a scalar."
   ]
  },
  {
   "cell_type": "markdown",
   "metadata": {},
   "source": [
    "# Note: TensorFlow 2.7.0+\n",
    "\n",
    "You might see this error:\n",
    "\n",
    "ValueError: Exception encountered when calling layer \"sequential\" (type Sequential).\n",
    "    \n",
    "    Input 0 of layer \"dense\" is incompatible with the layer: expected min_ndim=2, found ndim=1. Full shape received: (None,)\n",
    "    \n",
    "    Call arguments received:\n",
    "      • inputs=tf.Tensor(shape=(None,), dtype=float32)\n",
    "      • training=True\n",
    "      • mask=None\n",
    "This happens because model.fit() no longer automatically upscales inputs from shape (batch_size, ) to (batch_size, 1).\n",
    "\n",
    "This results in a shape error (remember one of most common errors in deep learning is input and output shapes).\n",
    "\n",
    "To fix this, you can update the shape.\n",
    "\n",
    "Fix\n",
    "If you're running TensorFlow 2.7.0+ and you're passing a vector to a model, you need to expand its dimensions.\n",
    "\n",
    "### OLD\n",
    "#### Fit the model\n",
    "model.fit(X, y, epochs=5) # this will break with TensorFlow 2.7.0+\n",
    " \n",
    "### New\n",
    "#### Fit the model\n",
    "model.fit(tf.expand_dims(X, axis=-1), y, epochs=5) # <- updated line\n",
    "The code adds an extra dimension to X on the last axis, turning it ndim=1 to ndim=2 (what the model requires)."
   ]
  },
  {
   "cell_type": "markdown",
   "metadata": {},
   "source": [
    "Firstly let's convert our numpy arrays to tensorflow tensors."
   ]
  },
  {
   "cell_type": "code",
   "execution_count": 101,
   "metadata": {},
   "outputs": [
    {
     "data": {
      "text/plain": [
       "(<tf.Tensor: shape=(8,), dtype=float32, numpy=array([-7., -4., -1.,  2.,  5.,  8., 11., 14.], dtype=float32)>,\n",
       " <tf.Tensor: shape=(8,), dtype=float32, numpy=array([ 3.,  6.,  9., 12., 15., 18., 21., 24.], dtype=float32)>)"
      ]
     },
     "execution_count": 101,
     "metadata": {},
     "output_type": "execute_result"
    }
   ],
   "source": [
    "# Turn our NumPy arrays into tensors with dtype float32\n",
    "X = tf.constant(X, dtype=tf.float32)\n",
    "Y = tf.constant(Y, dtype=tf.float32)\n",
    "\n",
    "X, Y"
   ]
  },
  {
   "cell_type": "markdown",
   "metadata": {},
   "source": [
    "Reconfirming shape mutation in tf (there would be none...)"
   ]
  },
  {
   "cell_type": "code",
   "execution_count": 102,
   "metadata": {},
   "outputs": [
    {
     "data": {
      "text/plain": [
       "(TensorShape([]), TensorShape([]))"
      ]
     },
     "execution_count": 102,
     "metadata": {},
     "output_type": "execute_result"
    }
   ],
   "source": [
    "input_shape = X[0].shape\n",
    "output_shape = Y[0].shape\n",
    "\n",
    "input_shape, output_shape"
   ]
  },
  {
   "cell_type": "markdown",
   "metadata": {},
   "source": [
    "there is none !\n",
    "\n",
    "![yay](assets/image.png)\n",
    "\n",
    "let's plot a scatter graph too while at it... (versatility and interoperability of these python libs really at show here...)"
   ]
  },
  {
   "cell_type": "code",
   "execution_count": 103,
   "metadata": {},
   "outputs": [
    {
     "data": {
      "text/plain": [
       "<matplotlib.collections.PathCollection at 0x1bba1606440>"
      ]
     },
     "execution_count": 103,
     "metadata": {},
     "output_type": "execute_result"
    },
    {
     "data": {
      "image/png": "[encoded data removed]",
      "text/plain": [
       "<Figure size 640x480 with 1 Axes>"
      ]
     },
     "metadata": {},
     "output_type": "display_data"
    }
   ],
   "source": [
    "plt.scatter(X,Y)"
   ]
  },
  {
   "cell_type": "markdown",
   "metadata": {},
   "source": [
    "#### Steps in modelling with TensorFlow\n",
    "\n",
    "1. **Creating a model** - Define the input and output layers, as well as the hidden layers of the deep learning model.\n",
    "2. **Compiling a model** - Define the loss function (the function which tells us how wrong our model is) and the optimizer (tells out model how to improve the patterns of it's learning) and evaluation metrics (that we can use to interpret the performance of our model)\n",
    "3. **Fitting a model** - Let the model try to find patterns between the features and labels"
   ]
  },
  {
   "cell_type": "markdown",
   "metadata": {},
   "source": [
    "# 0. Set seed to get a certain amount of reproducability"
   ]
  },
  {
   "cell_type": "code",
   "execution_count": 104,
   "metadata": {},
   "outputs": [],
   "source": [
    "# Set random seed\n",
    "\n",
    "# 42 the answer to universe bebe\n",
    "tf.random.set_seed(42)"
   ]
  },
  {
   "cell_type": "markdown",
   "metadata": {},
   "source": [
    "# 1. Create a model using the sequential api"
   ]
  },
  {
   "cell_type": "code",
   "execution_count": 105,
   "metadata": {},
   "outputs": [],
   "source": [
    "model = tf.keras.Sequential([\n",
    "    tf.keras.layers.Dense(1)\n",
    "])"
   ]
  },
  {
   "cell_type": "markdown",
   "metadata": {},
   "source": [
    "# 2. Compile the model"
   ]
  },
  {
   "cell_type": "markdown",
   "metadata": {},
   "source": [
    "##### What is MAE (ELI5)\n",
    " Let's explain mean absolute error (MAE) in the context of TensorFlow modeling.\n",
    "\n",
    "Imagine you have a robot that's trying to play darts and hit a target on a dartboard. The robot throws several darts, but some land closer to the target, and some land farther away.\n",
    "\n",
    "The \"error\" in this case is how far each dart landed from the center of the target. Some errors are positive (darts that landed too far to the right or above the center), and some are negative (darts that landed too far to the left or below the center).\n",
    "\n",
    "Now, the \"mean\" in mean absolute error simply means you're going to calculate the average of all these errors. You add up the errors from all the darts and then divide by the total number of darts to find the average error.\n",
    "\n",
    "So, in TensorFlow modeling, MAE is a way to measure how far off your model's predictions are from the actual values. It calculates the average of these differences, and the lower the MAE, the better your model is at making accurate predictions. Just like the robot trying to hit the target, you want your model to have a low MAE, meaning it's making predictions that are, on average, very close to the actual values.\n",
    "\n",
    "##### What is SGD (ELI5)\n",
    "Let's break down stochastic gradient descent (SGD) in the context of TensorFlow modeling:\n",
    "\n",
    "Imagine you have a big jigsaw puzzle, and you want to find the best way to put all the pieces together. The problem is that there are many pieces, and it's challenging to figure out the right order all at once. So, you decide to solve it step by step.\n",
    "\n",
    "Stochastic gradient descent is like having a magic hand that helps you find the best piece to add to the puzzle. Here's how it works:\n",
    "\n",
    "Stochastic: This means \"random\" or \"chance.\" Instead of looking at all the puzzle pieces at once, you randomly pick a small group of pieces.\n",
    "\n",
    "Gradient: Think of this as a slope or hill. In our puzzle example, the gradient tells you which direction to move the puzzle piece to make it fit better.\n",
    "\n",
    "Descent: This means going downhill. Your goal is to move the puzzle piece in the direction that makes it fit better with the pieces you've already placed.\n",
    "\n",
    "Now, imagine you start with a piece and randomly pick a few more pieces. You look at those pieces and use the gradient to figure out how to adjust them to make them fit better with the ones you've already placed.\n",
    "\n",
    "In TensorFlow modeling, this is like adjusting the \"pieces\" of your model, which are the parameters (like weights and biases). You don't try to figure out the best values for all the parameters at once, which could be very complicated. Instead, you randomly pick a small batch of data (like a few puzzle pieces) and adjust the parameters based on the gradient (the direction that makes your predictions fit the data better).\n",
    "\n",
    "You repeat this process, picking different batches of data and adjusting the parameters, until your model gets better and better at making accurate predictions.\n",
    "\n",
    "So, in simple terms, stochastic gradient descent in TensorFlow is like solving a jigsaw puzzle one piece at a time, using randomness and gradients to find the best way to make your model fit the data. It helps your model learn and improve gradually."
   ]
  },
  {
   "cell_type": "code",
   "execution_count": 106,
   "metadata": {},
   "outputs": [],
   "source": [
    "# mae is short for mean absolute error\n",
    "model.compile(loss=tf.keras.losses.mae, optimizer=tf.keras.optimizers.SGD(), metrics=[\"mae\"])"
   ]
  },
  {
   "cell_type": "markdown",
   "metadata": {},
   "source": [
    "# 3. Fit the model\n",
    "\n",
    "Refer [New > Fit the model](#fit-the-model-1)"
   ]
  },
  {
   "cell_type": "code",
   "execution_count": 107,
   "metadata": {},
   "outputs": [
    {
     "name": "stdout",
     "output_type": "stream",
     "text": [
      "Epoch 1/5\n",
      "1/1 [==============================] - 0s 346ms/step - loss: 7.7282 - mae: 7.7282\n",
      "Epoch 2/5\n",
      "1/1 [==============================] - 0s 4ms/step - loss: 7.5957 - mae: 7.5957\n",
      "Epoch 3/5\n",
      "1/1 [==============================] - 0s 5ms/step - loss: 7.4850 - mae: 7.4850\n",
      "Epoch 4/5\n",
      "1/1 [==============================] - 0s 6ms/step - loss: 7.4794 - mae: 7.4794\n",
      "Epoch 5/5\n",
      "1/1 [==============================] - 0s 5ms/step - loss: 7.4738 - mae: 7.4738\n"
     ]
    },
    {
     "data": {
      "text/plain": [
       "<keras.callbacks.History at 0x1bba1682ef0>"
      ]
     },
     "execution_count": 107,
     "metadata": {},
     "output_type": "execute_result"
    }
   ],
   "source": [
    "model.fit(tf.expand_dims(X, axis=-1), Y, epochs=10)"
   ]
  },
  {
   "cell_type": "code",
   "execution_count": 108,
   "metadata": {},
   "outputs": [
    {
     "data": {
      "text/plain": [
       "(<tf.Tensor: shape=(8,), dtype=float32, numpy=array([-7., -4., -1.,  2.,  5.,  8., 11., 14.], dtype=float32)>,\n",
       " <tf.Tensor: shape=(8,), dtype=float32, numpy=array([ 3.,  6.,  9., 12., 15., 18., 21., 24.], dtype=float32)>)"
      ]
     },
     "execution_count": 108,
     "metadata": {},
     "output_type": "execute_result"
    }
   ],
   "source": [
    "# Check out X & Y again\n",
    "X, Y"
   ]
  },
  {
   "cell_type": "code",
   "execution_count": 111,
   "metadata": {},
   "outputs": [
    {
     "name": "stdout",
     "output_type": "stream",
     "text": [
      "1/1 [==============================] - 0s 40ms/step\n"
     ]
    },
    {
     "data": {
      "text/plain": [
       "([12.0, 22.0, 33.0, 37.0, 47.5, 67.2, 74.6, 82.3, 99.9],\n",
       " array([[ 20.671364],\n",
       "        [ 37.862083],\n",
       "        [ 56.771873],\n",
       "        [ 63.648163],\n",
       "        [ 81.698425],\n",
       "        [115.56413 ],\n",
       "        [128.28526 ],\n",
       "        [141.52213 ],\n",
       "        [171.77779 ]], dtype=float32))"
      ]
     },
     "execution_count": 111,
     "metadata": {},
     "output_type": "execute_result"
    }
   ],
   "source": [
    "# Try and make a prediction using our model\n",
    "prediction_features = [12.0, 22.0, 33.0, 37.0, 47.5, 67.2, 74.6, 82.3, 99.9]\n",
    "prediction_labels = model.predict(prediction_features)\n",
    "prediction_features, prediction_labels"
   ]
  },
  {
   "cell_type": "code",
   "execution_count": 112,
   "metadata": {},
   "outputs": [
    {
     "data": {
      "text/plain": [
       "<matplotlib.collections.PathCollection at 0x1bba1875510>"
      ]
     },
     "execution_count": 112,
     "metadata": {},
     "output_type": "execute_result"
    },
    {
     "data": {
      "image/png": "[encoded data removed]",
      "text/plain": [
       "<Figure size 640x480 with 1 Axes>"
      ]
     },
     "metadata": {},
     "output_type": "display_data"
    }
   ],
   "source": [
    "plt.scatter(prediction_features, prediction_labels)"
   ]
  }
 ],
 "metadata": {
  "kernelspec": {
   "display_name": ".venv",
   "language": "python",
   "name": "python3"
  },
  "language_info": {
   "codemirror_mode": {
    "name": "ipython",
    "version": 3
   },
   "file_extension": ".py",
   "mimetype": "text/x-python",
   "name": "python",
   "nbconvert_exporter": "python",
   "pygments_lexer": "ipython3",
   "version": "3.10.11"
  },
  "orig_nbformat": 4
 },
 "nbformat": 4,
 "nbformat_minor": 2
}
