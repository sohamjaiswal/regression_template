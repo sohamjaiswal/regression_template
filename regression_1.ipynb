{
 "cells": [
  {
   "cell_type": "markdown",
   "metadata": {},
   "source": [
    "# Intro to AI\n",
    "\n",
    "## Prelude\n",
    "Hi, this is gonna be one of my first introductions to ✨ *AI* ✨\n",
    "This is also gonna serve as one of my templates for future AI quick starters.\n",
    "\n",
    "## About this project\n",
    "We will take data of a simple equation **(y = x + 10)** (we only know the equation here in this example, cuz this is a demo)\n",
    "And make our model predict values by making it guess this equation"
   ]
  },
  {
   "cell_type": "markdown",
   "metadata": {},
   "source": [
    "### Normal import stuff"
   ]
  },
  {
   "cell_type": "code",
   "execution_count": 39,
   "metadata": {},
   "outputs": [
    {
     "name": "stdout",
     "output_type": "stream",
     "text": [
      "2.10.0\n"
     ]
    }
   ],
   "source": [
    "# Import TensorFlow\n",
    "import tensorflow as tf\n",
    "print(tf.__version__)"
   ]
  },
  {
   "cell_type": "code",
   "execution_count": 40,
   "metadata": {},
   "outputs": [],
   "source": [
    "import numpy as np\n",
    "import matplotlib.pyplot as plt"
   ]
  },
  {
   "cell_type": "markdown",
   "metadata": {},
   "source": [
    "### Creating *Features*\n",
    "We are gonna follow simple mathematical name schemes/notations (Capitals for tensors/matrices/vectors)"
   ]
  },
  {
   "cell_type": "markdown",
   "metadata": {},
   "source": [
    "#### ELI5 (FEATURES)\n",
    "Imagine you want to predict how tall a plant will grow based on some information you have about it. In a regression model, \"features\" are like the pieces of information you use to make that prediction.\n",
    "\n",
    "Let's say you know three things about the plant: how much sunlight it gets each day, how much water you give it, and how old it is. These three things are the features in your regression model.\n",
    "\n",
    "So, in a nutshell, features are the specific pieces of information or data you use to make predictions in a regression model. In the case of predicting plant height, your features are the amount of sunlight, water, and the age of the plant. The model then uses these features to estimate or \"regress\" to predict the height of the plant."
   ]
  },
  {
   "cell_type": "code",
   "execution_count": 41,
   "metadata": {},
   "outputs": [],
   "source": [
    "X = np.array([-7.0, -4.0, -1.0, 2.0, 5.0, 8.0, 11.0, 14.0])"
   ]
  },
  {
   "cell_type": "markdown",
   "metadata": {},
   "source": [
    "### Creating Labels\n",
    "Same as above, we are gonna follow simple mathematical name schemes (Capitals for tensors/matrices/vectors)"
   ]
  },
  {
   "cell_type": "markdown",
   "metadata": {},
   "source": [
    "#### ELI5 (LABELS)\n",
    "Let's stick with the example of trying to predict how tall a plant will grow. In a regression model, the \"labels\" are like the answers or outcomes we want to predict.\n",
    "\n",
    "Think of labels as the thing you're trying to figure out. So, in this case, the label would be the actual height of the plant. You want to predict how tall the plant will be, but you don't know that in advance. That's where the regression model comes in.\n",
    "\n",
    "You use the features (like sunlight, water, and age) to help the model make its best guess at the label, which is the plant's height. The label is the answer or the target value you're trying to get as close to as possible with your predictions.\n",
    "\n",
    "So, in simple terms, labels in a regression model are the things you're trying to predict or find out, like how tall the plant will grow. The model's job is to use the features to make a good estimate of these labels."
   ]
  },
  {
   "cell_type": "code",
   "execution_count": 42,
   "metadata": {},
   "outputs": [],
   "source": [
    "Y = np.array([3.0, 6.0, 9.0, 12.0, 15.0, 18.0, 21.0, 24.0])"
   ]
  },
  {
   "cell_type": "markdown",
   "metadata": {},
   "source": [
    "For confirming that our entered data, we will visualize it."
   ]
  },
  {
   "cell_type": "code",
   "execution_count": 43,
   "metadata": {},
   "outputs": [
    {
     "data": {
      "text/plain": [
       "<matplotlib.collections.PathCollection at 0x2221c0097b0>"
      ]
     },
     "execution_count": 43,
     "metadata": {},
     "output_type": "execute_result"
    },
    {
     "data": {
      "image/png": "[encoded data removed]",
      "text/plain": [
       "<Figure size 640x480 with 1 Axes>"
      ]
     },
     "metadata": {},
     "output_type": "display_data"
    }
   ],
   "source": [
    "plt.scatter(X, Y)"
   ]
  },
  {
   "cell_type": "code",
   "execution_count": 44,
   "metadata": {},
   "outputs": [
    {
     "data": {
      "text/plain": [
       "array([ True,  True,  True,  True,  True,  True,  True,  True])"
      ]
     },
     "execution_count": 44,
     "metadata": {},
     "output_type": "execute_result"
    }
   ],
   "source": [
    "# confirming we are indeed following it but programmatically this time\n",
    "Y == X + 10"
   ]
  },
  {
   "cell_type": "markdown",
   "metadata": {},
   "source": [
    "The model is going to use the features to predict the labels for unknown values. \n",
    "\n",
    "The sets above represent \"training data\" which would be fed to the model first for it to \"learn\" the behaviour/interactions b/w the features and labels. As the programmers behind this model, it its important to have consistency between the input and output data. This consistency can be achieved by having same/similar labels (output) *shapes* for same/similar features (input) *shapes*.\n",
    "\n",
    "We will observe the shapes of our training data, now."
   ]
  },
  {
   "cell_type": "code",
   "execution_count": 45,
   "metadata": {},
   "outputs": [
    {
     "data": {
      "text/plain": [
       "(-7.0, 3.0)"
      ]
     },
     "execution_count": 45,
     "metadata": {},
     "output_type": "execute_result"
    }
   ],
   "source": [
    "X[0], Y[0]"
   ]
  },
  {
   "cell_type": "markdown",
   "metadata": {},
   "source": [
    "Just trying out logging, inputs and outputs for once."
   ]
  },
  {
   "cell_type": "code",
   "execution_count": 46,
   "metadata": {},
   "outputs": [
    {
     "data": {
      "text/plain": [
       "((8,), (8,))"
      ]
     },
     "execution_count": 46,
     "metadata": {},
     "output_type": "execute_result"
    }
   ],
   "source": [
    "training_input_shape = X.shape\n",
    "training_output_shape = Y.shape\n",
    "\n",
    "singular_training_input_shape = X[0].shape\n",
    "singular_training_output_shape = Y[0].shape\n",
    "\n",
    "training_input_shape, training_output_shape"
   ]
  },
  {
   "cell_type": "markdown",
   "metadata": {},
   "source": [
    "8 columns, visibly, makes sense"
   ]
  },
  {
   "cell_type": "code",
   "execution_count": 47,
   "metadata": {},
   "outputs": [
    {
     "data": {
      "text/plain": [
       "((), ())"
      ]
     },
     "execution_count": 47,
     "metadata": {},
     "output_type": "execute_result"
    }
   ],
   "source": [
    "singular_training_input_shape, singular_training_output_shape"
   ]
  },
  {
   "cell_type": "markdown",
   "metadata": {},
   "source": [
    "Empty? why? our data's single element is not vector, not a matrix, it's a scalar, scalars do not have dimensions/shape, thus an empty tuple, similarly, to check it's n dimensions..."
   ]
  },
  {
   "cell_type": "code",
   "execution_count": 48,
   "metadata": {},
   "outputs": [
    {
     "data": {
      "text/plain": [
       "0"
      ]
     },
     "execution_count": 48,
     "metadata": {},
     "output_type": "execute_result"
    }
   ],
   "source": [
    "X[0].ndim"
   ]
  },
  {
   "cell_type": "markdown",
   "metadata": {},
   "source": [
    "Obviously 0, cuz its a scalar."
   ]
  },
  {
   "cell_type": "markdown",
   "metadata": {},
   "source": [
    "# Note: TensorFlow 2.7.0+\n",
    "\n",
    "You might see this error:\n",
    "\n",
    "ValueError: Exception encountered when calling layer \"sequential\" (type Sequential).\n",
    "    \n",
    "    Input 0 of layer \"dense\" is incompatible with the layer: expected min_ndim=2, found ndim=1. Full shape received: (None,)\n",
    "    \n",
    "    Call arguments received:\n",
    "      • inputs=tf.Tensor(shape=(None,), dtype=float32)\n",
    "      • training=True\n",
    "      • mask=None\n",
    "This happens because model.fit() no longer automatically upscales inputs from shape (batch_size, ) to (batch_size, 1).\n",
    "\n",
    "This results in a shape error (remember one of most common errors in deep learning is input and output shapes).\n",
    "\n",
    "To fix this, you can update the shape.\n",
    "\n",
    "Fix\n",
    "If you're running TensorFlow 2.7.0+ and you're passing a vector to a model, you need to expand its dimensions.\n",
    "\n",
    "### OLD\n",
    "#### Fit the model\n",
    "model.fit(X, y, epochs=5) # this will break with TensorFlow 2.7.0+\n",
    " \n",
    "### New\n",
    "#### Fit the model\n",
    "model.fit(tf.expand_dims(X, axis=-1), y, epochs=5) # <- updated line\n",
    "The code adds an extra dimension to X on the last axis, turning it ndim=1 to ndim=2 (what the model requires)."
   ]
  },
  {
   "cell_type": "markdown",
   "metadata": {},
   "source": [
    "Firstly let's convert our numpy arrays to tensorflow tensors."
   ]
  },
  {
   "cell_type": "code",
   "execution_count": 49,
   "metadata": {},
   "outputs": [
    {
     "data": {
      "text/plain": [
       "(<tf.Tensor: shape=(8,), dtype=float32, numpy=array([-7., -4., -1.,  2.,  5.,  8., 11., 14.], dtype=float32)>,\n",
       " <tf.Tensor: shape=(8,), dtype=float32, numpy=array([ 3.,  6.,  9., 12., 15., 18., 21., 24.], dtype=float32)>)"
      ]
     },
     "execution_count": 49,
     "metadata": {},
     "output_type": "execute_result"
    }
   ],
   "source": [
    "# Turn our NumPy arrays into tensors with dtype float32\n",
    "X = tf.constant(X, dtype=tf.float32)\n",
    "Y = tf.constant(Y, dtype=tf.float32)\n",
    "\n",
    "X, Y"
   ]
  },
  {
   "cell_type": "markdown",
   "metadata": {},
   "source": [
    "Reconfirming shape mutation in tf (there would be none...)"
   ]
  },
  {
   "cell_type": "code",
   "execution_count": 50,
   "metadata": {},
   "outputs": [
    {
     "data": {
      "text/plain": [
       "(TensorShape([]), TensorShape([]))"
      ]
     },
     "execution_count": 50,
     "metadata": {},
     "output_type": "execute_result"
    }
   ],
   "source": [
    "input_shape = X[0].shape\n",
    "output_shape = Y[0].shape\n",
    "\n",
    "input_shape, output_shape"
   ]
  },
  {
   "cell_type": "markdown",
   "metadata": {},
   "source": [
    "there is none !\n",
    "\n",
    "![yay](assets/image.png)\n",
    "\n",
    "let's plot a scatter graph too while at it... (versatility and interoperability of these python libs really at show here...)"
   ]
  },
  {
   "cell_type": "code",
   "execution_count": 51,
   "metadata": {},
   "outputs": [
    {
     "data": {
      "text/plain": [
       "<matplotlib.collections.PathCollection at 0x2221c113e80>"
      ]
     },
     "execution_count": 51,
     "metadata": {},
     "output_type": "execute_result"
    },
    {
     "data": {
      "image/png": "[encoded data removed]",
      "text/plain": [
       "<Figure size 640x480 with 1 Axes>"
      ]
     },
     "metadata": {},
     "output_type": "display_data"
    }
   ],
   "source": [
    "plt.scatter(X,Y)"
   ]
  },
  {
   "cell_type": "markdown",
   "metadata": {},
   "source": [
    "#### Steps in modelling with TensorFlow\n",
    "\n",
    "1. **Creating a model** - Define the input and output layers, as well as the hidden layers of the deep learning model.\n",
    "2. **Compiling a model** - Define the loss function (the function which tells us how wrong our model is) and the optimizer (tells out model how to improve the patterns of it's learning) and evaluation metrics (that we can use to interpret the performance of our model)\n",
    "3. **Fitting a model** - Let the model try to find patterns between the features and labels"
   ]
  },
  {
   "cell_type": "markdown",
   "metadata": {},
   "source": [
    "# 0. Set seed to get a certain amount of reproducability"
   ]
  },
  {
   "cell_type": "code",
   "execution_count": 52,
   "metadata": {},
   "outputs": [],
   "source": [
    "# Set random seed\n",
    "\n",
    "# 42 the answer to universe bebe\n",
    "tf.random.set_seed(42)"
   ]
  },
  {
   "cell_type": "markdown",
   "metadata": {},
   "source": [
    "# 1. Create a model using the sequential api"
   ]
  },
  {
   "cell_type": "code",
   "execution_count": 53,
   "metadata": {},
   "outputs": [],
   "source": [
    "model = tf.keras.Sequential([\n",
    "    tf.keras.layers.Dense(1)\n",
    "])"
   ]
  },
  {
   "cell_type": "markdown",
   "metadata": {},
   "source": [
    "# 2. Compile the model"
   ]
  },
  {
   "cell_type": "markdown",
   "metadata": {},
   "source": [
    "##### What is MAE (ELI5)\n",
    " Let's explain mean absolute error (MAE) in the context of TensorFlow modeling.\n",
    "\n",
    "Imagine you have a robot that's trying to play darts and hit a target on a dartboard. The robot throws several darts, but some land closer to the target, and some land farther away.\n",
    "\n",
    "The \"error\" in this case is how far each dart landed from the center of the target. Some errors are positive (darts that landed too far to the right or above the center), and some are negative (darts that landed too far to the left or below the center).\n",
    "\n",
    "Now, the \"mean\" in mean absolute error simply means you're going to calculate the average of all these errors. You add up the errors from all the darts and then divide by the total number of darts to find the average error.\n",
    "\n",
    "So, in TensorFlow modeling, MAE is a way to measure how far off your model's predictions are from the actual values. It calculates the average of these differences, and the lower the MAE, the better your model is at making accurate predictions. Just like the robot trying to hit the target, you want your model to have a low MAE, meaning it's making predictions that are, on average, very close to the actual values.\n",
    "\n",
    "##### What is SGD (ELI5)\n",
    "Let's break down stochastic gradient descent (SGD) in the context of TensorFlow modeling:\n",
    "\n",
    "Imagine you have a big jigsaw puzzle, and you want to find the best way to put all the pieces together. The problem is that there are many pieces, and it's challenging to figure out the right order all at once. So, you decide to solve it step by step.\n",
    "\n",
    "Stochastic gradient descent is like having a magic hand that helps you find the best piece to add to the puzzle. Here's how it works:\n",
    "\n",
    "Stochastic: This means \"random\" or \"chance.\" Instead of looking at all the puzzle pieces at once, you randomly pick a small group of pieces.\n",
    "\n",
    "Gradient: Think of this as a slope or hill. In our puzzle example, the gradient tells you which direction to move the puzzle piece to make it fit better.\n",
    "\n",
    "Descent: This means going downhill. Your goal is to move the puzzle piece in the direction that makes it fit better with the pieces you've already placed.\n",
    "\n",
    "Now, imagine you start with a piece and randomly pick a few more pieces. You look at those pieces and use the gradient to figure out how to adjust them to make them fit better with the ones you've already placed.\n",
    "\n",
    "In TensorFlow modeling, this is like adjusting the \"pieces\" of your model, which are the parameters (like weights and biases). You don't try to figure out the best values for all the parameters at once, which could be very complicated. Instead, you randomly pick a small batch of data (like a few puzzle pieces) and adjust the parameters based on the gradient (the direction that makes your predictions fit the data better).\n",
    "\n",
    "You repeat this process, picking different batches of data and adjusting the parameters, until your model gets better and better at making accurate predictions.\n",
    "\n",
    "So, in simple terms, stochastic gradient descent in TensorFlow is like solving a jigsaw puzzle one piece at a time, using randomness and gradients to find the best way to make your model fit the data. It helps your model learn and improve gradually."
   ]
  },
  {
   "cell_type": "code",
   "execution_count": 54,
   "metadata": {},
   "outputs": [],
   "source": [
    "# mae is short for mean absolute error\n",
    "model.compile(loss=tf.keras.losses.mae, optimizer=tf.keras.optimizers.SGD(), metrics=[\"mae\"])"
   ]
  },
  {
   "cell_type": "markdown",
   "metadata": {},
   "source": [
    "# 3. Fit the model\n",
    "\n",
    "Refer [New > Fit the model](#fit-the-model-1)"
   ]
  },
  {
   "cell_type": "code",
   "execution_count": 55,
   "metadata": {},
   "outputs": [
    {
     "name": "stdout",
     "output_type": "stream",
     "text": [
      "Epoch 1/10\n",
      "1/1 [==============================] - 0s 256ms/step - loss: 8.9015 - mae: 8.9015\n",
      "Epoch 2/10\n",
      "1/1 [==============================] - 0s 7ms/step - loss: 8.7690 - mae: 8.7690\n",
      "Epoch 3/10\n",
      "1/1 [==============================] - 0s 3ms/step - loss: 8.6365 - mae: 8.6365\n",
      "Epoch 4/10\n",
      "1/1 [==============================] - 0s 3ms/step - loss: 8.5040 - mae: 8.5040\n",
      "Epoch 5/10\n",
      "1/1 [==============================] - 0s 3ms/step - loss: 8.3715 - mae: 8.3715\n",
      "Epoch 6/10\n",
      "1/1 [==============================] - 0s 3ms/step - loss: 8.2390 - mae: 8.2390\n",
      "Epoch 7/10\n",
      "1/1 [==============================] - 0s 3ms/step - loss: 8.1065 - mae: 8.1065\n",
      "Epoch 8/10\n",
      "1/1 [==============================] - 0s 5ms/step - loss: 7.9740 - mae: 7.9740\n",
      "Epoch 9/10\n",
      "1/1 [==============================] - 0s 4ms/step - loss: 7.8415 - mae: 7.8415\n",
      "Epoch 10/10\n",
      "1/1 [==============================] - 0s 3ms/step - loss: 7.7090 - mae: 7.7090\n"
     ]
    },
    {
     "data": {
      "text/plain": [
       "<keras.callbacks.History at 0x2221c162e30>"
      ]
     },
     "execution_count": 55,
     "metadata": {},
     "output_type": "execute_result"
    }
   ],
   "source": [
    "model.fit(tf.expand_dims(X, axis=-1), Y, epochs=10)"
   ]
  },
  {
   "cell_type": "code",
   "execution_count": 56,
   "metadata": {},
   "outputs": [
    {
     "data": {
      "text/plain": [
       "(<tf.Tensor: shape=(8,), dtype=float32, numpy=array([-7., -4., -1.,  2.,  5.,  8., 11., 14.], dtype=float32)>,\n",
       " <tf.Tensor: shape=(8,), dtype=float32, numpy=array([ 3.,  6.,  9., 12., 15., 18., 21., 24.], dtype=float32)>)"
      ]
     },
     "execution_count": 56,
     "metadata": {},
     "output_type": "execute_result"
    }
   ],
   "source": [
    "# Check out X & Y again\n",
    "X, Y"
   ]
  },
  {
   "cell_type": "code",
   "execution_count": 57,
   "metadata": {},
   "outputs": [
    {
     "name": "stdout",
     "output_type": "stream",
     "text": [
      "WARNING:tensorflow:6 out of the last 6 calls to <function Model.make_predict_function.<locals>.predict_function at 0x000002221C180670> triggered tf.function retracing. Tracing is expensive and the excessive number of tracings could be due to (1) creating @tf.function repeatedly in a loop, (2) passing tensors with different shapes, (3) passing Python objects instead of tensors. For (1), please define your @tf.function outside of the loop. For (2), @tf.function has reduce_retracing=True option that can avoid unnecessary retracing. For (3), please refer to https://www.tensorflow.org/guide/function#controlling_retracing and https://www.tensorflow.org/api_docs/python/tf/function for  more details.\n",
      "1/1 [==============================] - 0s 79ms/step\n"
     ]
    },
    {
     "data": {
      "text/plain": [
       "([12.0, 22.0, 33.0, 37.0, 47.5, 67.2, 74.6, 82.3, 99.9],\n",
       " array([[ 20.066357],\n",
       "        [ 36.704987],\n",
       "        [ 55.00748 ],\n",
       "        [ 61.662933],\n",
       "        [ 79.13349 ],\n",
       "        [111.91159 ],\n",
       "        [124.22418 ],\n",
       "        [137.03593 ],\n",
       "        [166.31993 ]], dtype=float32))"
      ]
     },
     "execution_count": 57,
     "metadata": {},
     "output_type": "execute_result"
    }
   ],
   "source": [
    "# Try and make a prediction using our model\n",
    "prediction_features = [12.0, 22.0, 33.0, 37.0, 47.5, 67.2, 74.6, 82.3, 99.9]\n",
    "prediction_labels = model.predict(prediction_features)\n",
    "prediction_features, prediction_labels"
   ]
  },
  {
   "cell_type": "code",
   "execution_count": 58,
   "metadata": {},
   "outputs": [
    {
     "data": {
      "text/plain": [
       "<matplotlib.collections.PathCollection at 0x2221c208220>"
      ]
     },
     "execution_count": 58,
     "metadata": {},
     "output_type": "execute_result"
    },
    {
     "data": {
      "image/png": "[encoded data removed]",
      "text/plain": [
       "<Figure size 640x480 with 1 Axes>"
      ]
     },
     "metadata": {},
     "output_type": "display_data"
    }
   ],
   "source": [
    "plt.scatter(prediction_features, prediction_labels)"
   ]
  },
  {
   "cell_type": "markdown",
   "metadata": {},
   "source": [
    "# It's Shit! \n",
    "\n",
    "We have discovered that our model is pretty shitty as it's deviations are unreal for higher features like 99, (expected output was 109, but we got 171?! wtf?). \n",
    "Now clearly, the next question is, how to improve it?\n",
    "\n",
    "## We can improve our models following the same steps we took in creating it...\n",
    "1. **Creating a model** - Here we might add more layers, increase the number of hidden units (all called neurons) within each of the hidden layers, change the activation function of each layer.\n",
    "2. **Compiling a model** - Here we might change the optimization function or perhaps the **learning rate** of said optimization function.\n",
    "3. **Fitting a model** - Here we might fit a model for more **epochs** (leave it training for longer) or on more data (give the model more examples to learn from)."
   ]
  },
  {
   "cell_type": "code",
   "execution_count": 59,
   "metadata": {},
   "outputs": [
    {
     "name": "stdout",
     "output_type": "stream",
     "text": [
      "Epoch 1/100\n",
      "1/1 [==============================] - 0s 399ms/step - loss: 10.7285 - mae: 10.7285\n",
      "Epoch 2/100\n",
      "1/1 [==============================] - 0s 3ms/step - loss: 10.5960 - mae: 10.5960\n",
      "Epoch 3/100\n",
      "1/1 [==============================] - 0s 4ms/step - loss: 10.4635 - mae: 10.4635\n",
      "Epoch 4/100\n",
      "1/1 [==============================] - 0s 4ms/step - loss: 10.3310 - mae: 10.3310\n",
      "Epoch 5/100\n",
      "1/1 [==============================] - 0s 4ms/step - loss: 10.1985 - mae: 10.1985\n",
      "Epoch 6/100\n",
      "1/1 [==============================] - 0s 4ms/step - loss: 10.0660 - mae: 10.0660\n",
      "Epoch 7/100\n",
      "1/1 [==============================] - 0s 4ms/step - loss: 9.9335 - mae: 9.9335\n",
      "Epoch 8/100\n",
      "1/1 [==============================] - 0s 4ms/step - loss: 9.8010 - mae: 9.8010\n",
      "Epoch 9/100\n",
      "1/1 [==============================] - 0s 3ms/step - loss: 9.6685 - mae: 9.6685\n",
      "Epoch 10/100\n",
      "1/1 [==============================] - 0s 3ms/step - loss: 9.5360 - mae: 9.5360\n",
      "Epoch 11/100\n",
      "1/1 [==============================] - 0s 5ms/step - loss: 9.4035 - mae: 9.4035\n",
      "Epoch 12/100\n",
      "1/1 [==============================] - 0s 5ms/step - loss: 9.2710 - mae: 9.2710\n",
      "Epoch 13/100\n",
      "1/1 [==============================] - 0s 4ms/step - loss: 9.1385 - mae: 9.1385\n",
      "Epoch 14/100\n",
      "1/1 [==============================] - 0s 3ms/step - loss: 9.0060 - mae: 9.0060\n",
      "Epoch 15/100\n",
      "1/1 [==============================] - 0s 4ms/step - loss: 8.8735 - mae: 8.8735\n",
      "Epoch 16/100\n",
      "1/1 [==============================] - 0s 6ms/step - loss: 8.7410 - mae: 8.7410\n",
      "Epoch 17/100\n",
      "1/1 [==============================] - 0s 4ms/step - loss: 8.6085 - mae: 8.6085\n",
      "Epoch 18/100\n",
      "1/1 [==============================] - 0s 6ms/step - loss: 8.4760 - mae: 8.4760\n",
      "Epoch 19/100\n",
      "1/1 [==============================] - 0s 3ms/step - loss: 8.3435 - mae: 8.3435\n",
      "Epoch 20/100\n",
      "1/1 [==============================] - 0s 3ms/step - loss: 8.2110 - mae: 8.2110\n",
      "Epoch 21/100\n",
      "1/1 [==============================] - 0s 3ms/step - loss: 8.0785 - mae: 8.0785\n",
      "Epoch 22/100\n",
      "1/1 [==============================] - 0s 4ms/step - loss: 7.9460 - mae: 7.9460\n",
      "Epoch 23/100\n",
      "1/1 [==============================] - 0s 3ms/step - loss: 7.8135 - mae: 7.8135\n",
      "Epoch 24/100\n",
      "1/1 [==============================] - 0s 3ms/step - loss: 7.6810 - mae: 7.6810\n",
      "Epoch 25/100\n",
      "1/1 [==============================] - 0s 3ms/step - loss: 7.5485 - mae: 7.5485\n",
      "Epoch 26/100\n",
      "1/1 [==============================] - 0s 4ms/step - loss: 7.4160 - mae: 7.4160\n",
      "Epoch 27/100\n",
      "1/1 [==============================] - 0s 3ms/step - loss: 7.3050 - mae: 7.3050\n",
      "Epoch 28/100\n",
      "1/1 [==============================] - 0s 3ms/step - loss: 7.2994 - mae: 7.2994\n",
      "Epoch 29/100\n",
      "1/1 [==============================] - 0s 3ms/step - loss: 7.2938 - mae: 7.2938\n",
      "Epoch 30/100\n",
      "1/1 [==============================] - 0s 3ms/step - loss: 7.2881 - mae: 7.2881\n",
      "Epoch 31/100\n",
      "1/1 [==============================] - 0s 3ms/step - loss: 7.2825 - mae: 7.2825\n",
      "Epoch 32/100\n",
      "1/1 [==============================] - 0s 3ms/step - loss: 7.2769 - mae: 7.2769\n",
      "Epoch 33/100\n",
      "1/1 [==============================] - 0s 5ms/step - loss: 7.2712 - mae: 7.2712\n",
      "Epoch 34/100\n",
      "1/1 [==============================] - 0s 5ms/step - loss: 7.2656 - mae: 7.2656\n",
      "Epoch 35/100\n",
      "1/1 [==============================] - 0s 5ms/step - loss: 7.2600 - mae: 7.2600\n",
      "Epoch 36/100\n",
      "1/1 [==============================] - 0s 4ms/step - loss: 7.2544 - mae: 7.2544\n",
      "Epoch 37/100\n",
      "1/1 [==============================] - 0s 4ms/step - loss: 7.2487 - mae: 7.2487\n",
      "Epoch 38/100\n",
      "1/1 [==============================] - 0s 5ms/step - loss: 7.2431 - mae: 7.2431\n",
      "Epoch 39/100\n",
      "1/1 [==============================] - 0s 4ms/step - loss: 7.2375 - mae: 7.2375\n",
      "Epoch 40/100\n",
      "1/1 [==============================] - 0s 4ms/step - loss: 7.2319 - mae: 7.2319\n",
      "Epoch 41/100\n",
      "1/1 [==============================] - 0s 3ms/step - loss: 7.2262 - mae: 7.2262\n",
      "Epoch 42/100\n",
      "1/1 [==============================] - 0s 4ms/step - loss: 7.2206 - mae: 7.2206\n",
      "Epoch 43/100\n",
      "1/1 [==============================] - 0s 5ms/step - loss: 7.2150 - mae: 7.2150\n",
      "Epoch 44/100\n",
      "1/1 [==============================] - 0s 5ms/step - loss: 7.2094 - mae: 7.2094\n",
      "Epoch 45/100\n",
      "1/1 [==============================] - 0s 5ms/step - loss: 7.2038 - mae: 7.2038\n",
      "Epoch 46/100\n",
      "1/1 [==============================] - 0s 4ms/step - loss: 7.1981 - mae: 7.1981\n",
      "Epoch 47/100\n",
      "1/1 [==============================] - 0s 4ms/step - loss: 7.1925 - mae: 7.1925\n",
      "Epoch 48/100\n",
      "1/1 [==============================] - 0s 3ms/step - loss: 7.1869 - mae: 7.1869\n",
      "Epoch 49/100\n",
      "1/1 [==============================] - 0s 5ms/step - loss: 7.1813 - mae: 7.1813\n",
      "Epoch 50/100\n",
      "1/1 [==============================] - 0s 3ms/step - loss: 7.1756 - mae: 7.1756\n",
      "Epoch 51/100\n",
      "1/1 [==============================] - 0s 4ms/step - loss: 7.1700 - mae: 7.1700\n",
      "Epoch 52/100\n",
      "1/1 [==============================] - 0s 4ms/step - loss: 7.1644 - mae: 7.1644\n",
      "Epoch 53/100\n",
      "1/1 [==============================] - 0s 4ms/step - loss: 7.1588 - mae: 7.1588\n",
      "Epoch 54/100\n",
      "1/1 [==============================] - 0s 3ms/step - loss: 7.1531 - mae: 7.1531\n",
      "Epoch 55/100\n",
      "1/1 [==============================] - 0s 3ms/step - loss: 7.1475 - mae: 7.1475\n",
      "Epoch 56/100\n",
      "1/1 [==============================] - 0s 3ms/step - loss: 7.1419 - mae: 7.1419\n",
      "Epoch 57/100\n",
      "1/1 [==============================] - 0s 4ms/step - loss: 7.1363 - mae: 7.1363\n",
      "Epoch 58/100\n",
      "1/1 [==============================] - 0s 4ms/step - loss: 7.1306 - mae: 7.1306\n",
      "Epoch 59/100\n",
      "1/1 [==============================] - 0s 3ms/step - loss: 7.1250 - mae: 7.1250\n",
      "Epoch 60/100\n",
      "1/1 [==============================] - 0s 3ms/step - loss: 7.1194 - mae: 7.1194\n",
      "Epoch 61/100\n",
      "1/1 [==============================] - 0s 3ms/step - loss: 7.1138 - mae: 7.1138\n",
      "Epoch 62/100\n",
      "1/1 [==============================] - 0s 4ms/step - loss: 7.1081 - mae: 7.1081\n",
      "Epoch 63/100\n",
      "1/1 [==============================] - 0s 4ms/step - loss: 7.1025 - mae: 7.1025\n",
      "Epoch 64/100\n",
      "1/1 [==============================] - 0s 4ms/step - loss: 7.0969 - mae: 7.0969\n",
      "Epoch 65/100\n",
      "1/1 [==============================] - 0s 4ms/step - loss: 7.0912 - mae: 7.0912\n",
      "Epoch 66/100\n",
      "1/1 [==============================] - 0s 4ms/step - loss: 7.0856 - mae: 7.0856\n",
      "Epoch 67/100\n",
      "1/1 [==============================] - 0s 5ms/step - loss: 7.0800 - mae: 7.0800\n",
      "Epoch 68/100\n",
      "1/1 [==============================] - 0s 5ms/step - loss: 7.0744 - mae: 7.0744\n",
      "Epoch 69/100\n",
      "1/1 [==============================] - 0s 4ms/step - loss: 7.0688 - mae: 7.0688\n",
      "Epoch 70/100\n",
      "1/1 [==============================] - 0s 4ms/step - loss: 7.0631 - mae: 7.0631\n",
      "Epoch 71/100\n",
      "1/1 [==============================] - 0s 3ms/step - loss: 7.0575 - mae: 7.0575\n",
      "Epoch 72/100\n",
      "1/1 [==============================] - 0s 4ms/step - loss: 7.0519 - mae: 7.0519\n",
      "Epoch 73/100\n",
      "1/1 [==============================] - 0s 5ms/step - loss: 7.0463 - mae: 7.0463\n",
      "Epoch 74/100\n",
      "1/1 [==============================] - 0s 4ms/step - loss: 7.0406 - mae: 7.0406\n",
      "Epoch 75/100\n",
      "1/1 [==============================] - 0s 4ms/step - loss: 7.0350 - mae: 7.0350\n",
      "Epoch 76/100\n",
      "1/1 [==============================] - 0s 2ms/step - loss: 7.0294 - mae: 7.0294\n",
      "Epoch 77/100\n",
      "1/1 [==============================] - 0s 3ms/step - loss: 7.0238 - mae: 7.0238\n",
      "Epoch 78/100\n",
      "1/1 [==============================] - 0s 4ms/step - loss: 7.0181 - mae: 7.0181\n",
      "Epoch 79/100\n",
      "1/1 [==============================] - 0s 3ms/step - loss: 7.0125 - mae: 7.0125\n",
      "Epoch 80/100\n",
      "1/1 [==============================] - 0s 4ms/step - loss: 7.0069 - mae: 7.0069\n",
      "Epoch 81/100\n",
      "1/1 [==============================] - 0s 4ms/step - loss: 7.0013 - mae: 7.0013\n",
      "Epoch 82/100\n",
      "1/1 [==============================] - 0s 4ms/step - loss: 6.9956 - mae: 6.9956\n",
      "Epoch 83/100\n",
      "1/1 [==============================] - 0s 4ms/step - loss: 6.9900 - mae: 6.9900\n",
      "Epoch 84/100\n",
      "1/1 [==============================] - 0s 4ms/step - loss: 6.9844 - mae: 6.9844\n",
      "Epoch 85/100\n",
      "1/1 [==============================] - 0s 4ms/step - loss: 6.9788 - mae: 6.9788\n",
      "Epoch 86/100\n",
      "1/1 [==============================] - 0s 3ms/step - loss: 6.9731 - mae: 6.9731\n",
      "Epoch 87/100\n",
      "1/1 [==============================] - 0s 5ms/step - loss: 6.9675 - mae: 6.9675\n",
      "Epoch 88/100\n",
      "1/1 [==============================] - 0s 5ms/step - loss: 6.9619 - mae: 6.9619\n",
      "Epoch 89/100\n",
      "1/1 [==============================] - 0s 4ms/step - loss: 6.9563 - mae: 6.9563\n",
      "Epoch 90/100\n",
      "1/1 [==============================] - 0s 3ms/step - loss: 6.9506 - mae: 6.9506\n",
      "Epoch 91/100\n",
      "1/1 [==============================] - 0s 4ms/step - loss: 6.9450 - mae: 6.9450\n",
      "Epoch 92/100\n",
      "1/1 [==============================] - 0s 3ms/step - loss: 6.9394 - mae: 6.9394\n",
      "Epoch 93/100\n",
      "1/1 [==============================] - 0s 3ms/step - loss: 6.9338 - mae: 6.9338\n",
      "Epoch 94/100\n",
      "1/1 [==============================] - 0s 3ms/step - loss: 6.9281 - mae: 6.9281\n",
      "Epoch 95/100\n",
      "1/1 [==============================] - 0s 4ms/step - loss: 6.9225 - mae: 6.9225\n",
      "Epoch 96/100\n",
      "1/1 [==============================] - 0s 3ms/step - loss: 6.9169 - mae: 6.9169\n",
      "Epoch 97/100\n",
      "1/1 [==============================] - 0s 2ms/step - loss: 6.9113 - mae: 6.9113\n",
      "Epoch 98/100\n",
      "1/1 [==============================] - 0s 3ms/step - loss: 6.9056 - mae: 6.9056\n",
      "Epoch 99/100\n",
      "1/1 [==============================] - 0s 4ms/step - loss: 6.9000 - mae: 6.9000\n",
      "Epoch 100/100\n",
      "1/1 [==============================] - 0s 3ms/step - loss: 6.8944 - mae: 6.8944\n"
     ]
    },
    {
     "data": {
      "text/plain": [
       "<keras.callbacks.History at 0x2221c26b8e0>"
      ]
     },
     "execution_count": 59,
     "metadata": {},
     "output_type": "execute_result"
    }
   ],
   "source": [
    "# Let's rebuild our model\n",
    "\n",
    "# 1. Create the model\n",
    "\n",
    "model = tf.keras.Sequential([\n",
    "    tf.keras.layers.Dense(1)\n",
    "])\n",
    "\n",
    "# 2. Compile the model\n",
    "\n",
    "model.compile(loss=tf.keras.losses.mae, optimizer=tf.keras.optimizers.SGD(), metrics=[\"mae\"])\n",
    "\n",
    "# 3. Fit the model\n",
    "\n",
    "model.fit(tf.expand_dims(X, axis=-1), Y, epochs=100)"
   ]
  },
  {
   "cell_type": "code",
   "execution_count": 60,
   "metadata": {},
   "outputs": [
    {
     "name": "stdout",
     "output_type": "stream",
     "text": [
      "1/1 [==============================] - 0s 69ms/step\n"
     ]
    },
    {
     "data": {
      "text/plain": [
       "([12.0, 22.0, 33.0, 37.0, 47.5, 67.2, 74.6, 82.3, 99.9],\n",
       " array([[ 21.237152],\n",
       "        [ 38.25561 ],\n",
       "        [ 56.97592 ],\n",
       "        [ 63.783306],\n",
       "        [ 81.652695],\n",
       "        [115.179054],\n",
       "        [127.77272 ],\n",
       "        [140.87694 ],\n",
       "        [170.82944 ]], dtype=float32))"
      ]
     },
     "execution_count": 60,
     "metadata": {},
     "output_type": "execute_result"
    }
   ],
   "source": [
    "# Let's use the new model...\n",
    "prediction_features = [12.0, 22.0, 33.0, 37.0, 47.5, 67.2, 74.6, 82.3, 99.9]\n",
    "prediction_labels = model.predict(prediction_features)\n",
    "prediction_features, prediction_labels"
   ]
  },
  {
   "cell_type": "markdown",
   "metadata": {},
   "source": [
    "So much better by just training it more lol, let's see what else we can do..."
   ]
  },
  {
   "cell_type": "code",
   "execution_count": 61,
   "metadata": {},
   "outputs": [
    {
     "name": "stdout",
     "output_type": "stream",
     "text": [
      "Epoch 1/100\n",
      "1/1 [==============================] - 0s 315ms/step - loss: 13.0274 - mae: 13.0274\n",
      "Epoch 2/100\n",
      "1/1 [==============================] - 0s 4ms/step - loss: 12.4910 - mae: 12.4910\n",
      "Epoch 3/100\n",
      "1/1 [==============================] - 0s 4ms/step - loss: 11.9493 - mae: 11.9493\n",
      "Epoch 4/100\n",
      "1/1 [==============================] - 0s 5ms/step - loss: 11.4031 - mae: 11.4031\n",
      "Epoch 5/100\n",
      "1/1 [==============================] - 0s 3ms/step - loss: 10.8430 - mae: 10.8430\n",
      "Epoch 6/100\n",
      "1/1 [==============================] - 0s 5ms/step - loss: 10.2610 - mae: 10.2610\n",
      "Epoch 7/100\n",
      "1/1 [==============================] - 0s 4ms/step - loss: 9.6544 - mae: 9.6544\n",
      "Epoch 8/100\n",
      "1/1 [==============================] - 0s 5ms/step - loss: 9.0146 - mae: 9.0146\n",
      "Epoch 9/100\n",
      "1/1 [==============================] - 0s 5ms/step - loss: 8.3395 - mae: 8.3395\n",
      "Epoch 10/100\n",
      "1/1 [==============================] - 0s 6ms/step - loss: 7.6294 - mae: 7.6294\n",
      "Epoch 11/100\n",
      "1/1 [==============================] - 0s 5ms/step - loss: 6.9196 - mae: 6.9196\n",
      "Epoch 12/100\n",
      "1/1 [==============================] - 0s 4ms/step - loss: 6.1652 - mae: 6.1652\n",
      "Epoch 13/100\n",
      "1/1 [==============================] - 0s 5ms/step - loss: 5.3405 - mae: 5.3405\n",
      "Epoch 14/100\n",
      "1/1 [==============================] - 0s 6ms/step - loss: 4.4445 - mae: 4.4445\n",
      "Epoch 15/100\n",
      "1/1 [==============================] - 0s 5ms/step - loss: 3.9761 - mae: 3.9761\n",
      "Epoch 16/100\n",
      "1/1 [==============================] - 0s 4ms/step - loss: 3.9264 - mae: 3.9264\n",
      "Epoch 17/100\n",
      "1/1 [==============================] - 0s 5ms/step - loss: 3.9501 - mae: 3.9501\n",
      "Epoch 18/100\n",
      "1/1 [==============================] - 0s 6ms/step - loss: 3.9329 - mae: 3.9329\n",
      "Epoch 19/100\n",
      "1/1 [==============================] - 0s 6ms/step - loss: 3.9241 - mae: 3.9241\n",
      "Epoch 20/100\n",
      "1/1 [==============================] - 0s 5ms/step - loss: 3.9442 - mae: 3.9442\n",
      "Epoch 21/100\n",
      "1/1 [==============================] - 0s 5ms/step - loss: 3.9066 - mae: 3.9066\n",
      "Epoch 22/100\n",
      "1/1 [==============================] - 0s 5ms/step - loss: 3.9553 - mae: 3.9553\n",
      "Epoch 23/100\n",
      "1/1 [==============================] - 0s 4ms/step - loss: 3.8870 - mae: 3.8870\n",
      "Epoch 24/100\n",
      "1/1 [==============================] - 0s 4ms/step - loss: 3.9543 - mae: 3.9543\n",
      "Epoch 25/100\n",
      "1/1 [==============================] - 0s 4ms/step - loss: 3.8935 - mae: 3.8935\n",
      "Epoch 26/100\n",
      "1/1 [==============================] - 0s 4ms/step - loss: 3.9281 - mae: 3.9281\n",
      "Epoch 27/100\n",
      "1/1 [==============================] - 0s 4ms/step - loss: 3.9002 - mae: 3.9002\n",
      "Epoch 28/100\n",
      "1/1 [==============================] - 0s 4ms/step - loss: 3.9056 - mae: 3.9056\n",
      "Epoch 29/100\n",
      "1/1 [==============================] - 0s 4ms/step - loss: 3.9162 - mae: 3.9162\n",
      "Epoch 30/100\n",
      "1/1 [==============================] - 0s 3ms/step - loss: 3.8840 - mae: 3.8840\n",
      "Epoch 31/100\n",
      "1/1 [==============================] - 0s 3ms/step - loss: 3.9230 - mae: 3.9230\n",
      "Epoch 32/100\n",
      "1/1 [==============================] - 0s 4ms/step - loss: 3.8574 - mae: 3.8574\n",
      "Epoch 33/100\n",
      "1/1 [==============================] - 0s 2ms/step - loss: 3.9299 - mae: 3.9299\n",
      "Epoch 34/100\n",
      "1/1 [==============================] - 0s 3ms/step - loss: 3.8617 - mae: 3.8617\n",
      "Epoch 35/100\n",
      "1/1 [==============================] - 0s 3ms/step - loss: 3.9048 - mae: 3.9048\n",
      "Epoch 36/100\n",
      "1/1 [==============================] - 0s 2ms/step - loss: 3.8707 - mae: 3.8707\n",
      "Epoch 37/100\n",
      "1/1 [==============================] - 0s 4ms/step - loss: 3.8868 - mae: 3.8868\n",
      "Epoch 38/100\n",
      "1/1 [==============================] - 0s 7ms/step - loss: 3.8848 - mae: 3.8848\n",
      "Epoch 39/100\n",
      "1/1 [==============================] - 0s 3ms/step - loss: 3.8601 - mae: 3.8601\n",
      "Epoch 40/100\n",
      "1/1 [==============================] - 0s 4ms/step - loss: 3.8918 - mae: 3.8918\n",
      "Epoch 41/100\n",
      "1/1 [==============================] - 0s 3ms/step - loss: 3.8332 - mae: 3.8332\n",
      "Epoch 42/100\n",
      "1/1 [==============================] - 0s 6ms/step - loss: 3.8989 - mae: 3.8989\n",
      "Epoch 43/100\n",
      "1/1 [==============================] - 0s 4ms/step - loss: 3.8311 - mae: 3.8311\n",
      "Epoch 44/100\n",
      "1/1 [==============================] - 0s 4ms/step - loss: 3.8811 - mae: 3.8811\n",
      "Epoch 45/100\n",
      "1/1 [==============================] - 0s 5ms/step - loss: 3.8473 - mae: 3.8473\n",
      "Epoch 46/100\n",
      "1/1 [==============================] - 0s 4ms/step - loss: 3.8619 - mae: 3.8619\n",
      "Epoch 47/100\n",
      "1/1 [==============================] - 0s 5ms/step - loss: 3.8545 - mae: 3.8545\n",
      "Epoch 48/100\n",
      "1/1 [==============================] - 0s 4ms/step - loss: 3.8349 - mae: 3.8349\n",
      "Epoch 49/100\n",
      "1/1 [==============================] - 0s 4ms/step - loss: 3.8617 - mae: 3.8617\n",
      "Epoch 50/100\n",
      "1/1 [==============================] - 0s 4ms/step - loss: 3.8078 - mae: 3.8078\n",
      "Epoch 51/100\n",
      "1/1 [==============================] - 0s 3ms/step - loss: 3.8691 - mae: 3.8691\n",
      "Epoch 52/100\n",
      "1/1 [==============================] - 0s 3ms/step - loss: 3.8016 - mae: 3.8016\n",
      "Epoch 53/100\n",
      "1/1 [==============================] - 0s 3ms/step - loss: 3.8623 - mae: 3.8623\n",
      "Epoch 54/100\n",
      "1/1 [==============================] - 0s 4ms/step - loss: 3.8180 - mae: 3.8180\n",
      "Epoch 55/100\n",
      "1/1 [==============================] - 0s 4ms/step - loss: 3.8357 - mae: 3.8357\n",
      "Epoch 56/100\n",
      "1/1 [==============================] - 0s 3ms/step - loss: 3.8254 - mae: 3.8254\n",
      "Epoch 57/100\n",
      "1/1 [==============================] - 0s 5ms/step - loss: 3.8084 - mae: 3.8084\n",
      "Epoch 58/100\n",
      "1/1 [==============================] - 0s 4ms/step - loss: 3.8328 - mae: 3.8328\n",
      "Epoch 59/100\n",
      "1/1 [==============================] - 0s 5ms/step - loss: 3.7810 - mae: 3.7810\n",
      "Epoch 60/100\n",
      "1/1 [==============================] - 0s 10ms/step - loss: 3.8403 - mae: 3.8403\n",
      "Epoch 61/100\n",
      "1/1 [==============================] - 0s 4ms/step - loss: 3.7789 - mae: 3.7789\n",
      "Epoch 62/100\n",
      "1/1 [==============================] - 0s 5ms/step - loss: 3.8357 - mae: 3.8357\n",
      "Epoch 63/100\n",
      "1/1 [==============================] - 0s 5ms/step - loss: 3.7898 - mae: 3.7898\n",
      "Epoch 64/100\n",
      "1/1 [==============================] - 0s 4ms/step - loss: 3.8082 - mae: 3.8082\n",
      "Epoch 65/100\n",
      "1/1 [==============================] - 0s 5ms/step - loss: 3.7973 - mae: 3.7973\n",
      "Epoch 66/100\n",
      "1/1 [==============================] - 0s 4ms/step - loss: 3.7806 - mae: 3.7806\n",
      "Epoch 67/100\n",
      "1/1 [==============================] - 0s 4ms/step - loss: 3.8050 - mae: 3.8050\n",
      "Epoch 68/100\n",
      "1/1 [==============================] - 0s 4ms/step - loss: 3.7529 - mae: 3.7529\n",
      "Epoch 69/100\n",
      "1/1 [==============================] - 0s 5ms/step - loss: 3.8162 - mae: 3.8162\n",
      "Epoch 70/100\n"
     ]
    },
    {
     "name": "stdout",
     "output_type": "stream",
     "text": [
      "1/1 [==============================] - 0s 4ms/step - loss: 3.7550 - mae: 3.7550\n",
      "Epoch 71/100\n",
      "1/1 [==============================] - 0s 4ms/step - loss: 3.8071 - mae: 3.8071\n",
      "Epoch 72/100\n",
      "1/1 [==============================] - 0s 5ms/step - loss: 3.7626 - mae: 3.7626\n",
      "Epoch 73/100\n",
      "1/1 [==============================] - 0s 3ms/step - loss: 3.7793 - mae: 3.7793\n",
      "Epoch 74/100\n",
      "1/1 [==============================] - 0s 4ms/step - loss: 3.7704 - mae: 3.7704\n",
      "Epoch 75/100\n",
      "1/1 [==============================] - 0s 2ms/step - loss: 3.7515 - mae: 3.7515\n",
      "Epoch 76/100\n",
      "1/1 [==============================] - 0s 6ms/step - loss: 3.7782 - mae: 3.7782\n",
      "Epoch 77/100\n",
      "1/1 [==============================] - 0s 5ms/step - loss: 3.7252 - mae: 3.7252\n",
      "Epoch 78/100\n",
      "1/1 [==============================] - 0s 5ms/step - loss: 3.7952 - mae: 3.7952\n",
      "Epoch 79/100\n",
      "1/1 [==============================] - 0s 4ms/step - loss: 3.7286 - mae: 3.7286\n",
      "Epoch 80/100\n",
      "1/1 [==============================] - 0s 6ms/step - loss: 3.7773 - mae: 3.7773\n",
      "Epoch 81/100\n",
      "1/1 [==============================] - 0s 25ms/step - loss: 3.7365 - mae: 3.7365\n",
      "Epoch 82/100\n",
      "1/1 [==============================] - 0s 5ms/step - loss: 3.7492 - mae: 3.7492\n",
      "Epoch 83/100\n",
      "1/1 [==============================] - 0s 8ms/step - loss: 3.7444 - mae: 3.7444\n",
      "Epoch 84/100\n",
      "1/1 [==============================] - 0s 5ms/step - loss: 3.7209 - mae: 3.7209\n",
      "Epoch 85/100\n",
      "1/1 [==============================] - 0s 5ms/step - loss: 3.7526 - mae: 3.7526\n",
      "Epoch 86/100\n",
      "1/1 [==============================] - 0s 5ms/step - loss: 3.7009 - mae: 3.7009\n",
      "Epoch 87/100\n",
      "1/1 [==============================] - 0s 3ms/step - loss: 3.7698 - mae: 3.7698\n",
      "Epoch 88/100\n",
      "1/1 [==============================] - 0s 4ms/step - loss: 3.7033 - mae: 3.7033\n",
      "Epoch 89/100\n",
      "1/1 [==============================] - 0s 5ms/step - loss: 3.7461 - mae: 3.7461\n",
      "Epoch 90/100\n",
      "1/1 [==============================] - 0s 4ms/step - loss: 3.7113 - mae: 3.7113\n",
      "Epoch 91/100\n",
      "1/1 [==============================] - 0s 5ms/step - loss: 3.7176 - mae: 3.7176\n",
      "Epoch 92/100\n",
      "1/1 [==============================] - 0s 5ms/step - loss: 3.7195 - mae: 3.7195\n",
      "Epoch 93/100\n",
      "1/1 [==============================] - 0s 5ms/step - loss: 3.6891 - mae: 3.6891\n",
      "Epoch 94/100\n",
      "1/1 [==============================] - 0s 4ms/step - loss: 3.7337 - mae: 3.7337\n",
      "Epoch 95/100\n",
      "1/1 [==============================] - 0s 4ms/step - loss: 3.6709 - mae: 3.6709\n",
      "Epoch 96/100\n",
      "1/1 [==============================] - 0s 4ms/step - loss: 3.7421 - mae: 3.7421\n",
      "Epoch 97/100\n",
      "1/1 [==============================] - 0s 4ms/step - loss: 3.6790 - mae: 3.6790\n",
      "Epoch 98/100\n",
      "1/1 [==============================] - 0s 4ms/step - loss: 3.7135 - mae: 3.7135\n",
      "Epoch 99/100\n",
      "1/1 [==============================] - 0s 4ms/step - loss: 3.6872 - mae: 3.6872\n",
      "Epoch 100/100\n",
      "1/1 [==============================] - 0s 3ms/step - loss: 3.6847 - mae: 3.6847\n"
     ]
    },
    {
     "data": {
      "text/plain": [
       "<keras.callbacks.History at 0x2221c029180>"
      ]
     },
     "execution_count": 61,
     "metadata": {},
     "output_type": "execute_result"
    }
   ],
   "source": [
    "# 1. Create the model\n",
    "\n",
    "model = tf.keras.Sequential([\n",
    "    tf.keras.layers.Dense(100, activation=\"relu\"),\n",
    "    tf.keras.layers.Dense(1)\n",
    "])\n",
    "\n",
    "# 2. Compile the model\n",
    "\n",
    "model.compile(loss=\"mae\", optimizer=tf.keras.optimizers.SGD(), metrics=[\"mae\"])\n",
    "\n",
    "# 3. Fit the model\n",
    "\n",
    "model.fit(tf.expand_dims(X, axis=-1), Y, epochs=100)"
   ]
  },
  {
   "cell_type": "markdown",
   "metadata": {},
   "source": [
    "LOSS AND MAE ARE LOWER YAYY!!! 🥳"
   ]
  },
  {
   "cell_type": "code",
   "execution_count": 62,
   "metadata": {},
   "outputs": [
    {
     "name": "stdout",
     "output_type": "stream",
     "text": [
      "1/1 [==============================] - 0s 74ms/step\n"
     ]
    },
    {
     "data": {
      "text/plain": [
       "([12.0, 17.0, 22.0, 33.0, 37.0, 47.5, 67.2, 74.6, 82.3, 99.9],\n",
       " array([[ 23.315979],\n",
       "        [ 32.607315],\n",
       "        [ 41.898655],\n",
       "        [ 62.339417],\n",
       "        [ 69.772415],\n",
       "        [ 89.2837  ],\n",
       "        [125.88989 ],\n",
       "        [139.64046 ],\n",
       "        [153.94846 ],\n",
       "        [186.65247 ]], dtype=float32))"
      ]
     },
     "execution_count": 62,
     "metadata": {},
     "output_type": "execute_result"
    }
   ],
   "source": [
    "prediction_features = [12.0, 17.0, 22.0, 33.0, 37.0, 47.5, 67.2, 74.6, 82.3, 99.9]\n",
    "prediction_labels = model.predict(prediction_features)\n",
    "prediction_features, prediction_labels"
   ]
  },
  {
   "cell_type": "markdown",
   "metadata": {},
   "source": [
    "BUT THIS OUTPUT IS WORSE THAN BEFORE!!! WHYYY??? 😵😕😖\n",
    "\n",
    "It's because it's learning the training data too well, it knows relations between X and Y that even we might not know... \n",
    "\n",
    "This phenomenon is called ***OVERFITTING*** \n",
    "\n",
    "It's applying those patterns to the values we want predicted instead of the pattern we want it to use... So the error it's predcting, (LOSS AND MAE) are not really related to what we want (thus rendering those low values... kinda useless (**in this case**))  \n",
    "\n",
    "So the real metrics are not obtained from MAE and LOSSES (based on training data) but on the basis of real data that it has never seen before...\n",
    "\n",
    "## Sub-methods to improve a deep model \n",
    "```\n",
    "These are called hyperparameters as each of these can be tweaked\n",
    "```\n",
    "- Adding Layers \n",
    "- Increase the number of hidden units\n",
    "- Change the activation function\n",
    "- Change the optimization function\n",
    "- Change the learning rate 🌟 (most important param)\n",
    "- Fitting for more data\n",
    "- Fitting for longer\n",
    "\n",
    "(hyperparameters are like hardware dials on machine that can be rotated to finetune a machine's work, where as parameters is a pattern the neural network learns (we dont work with these))"
   ]
  },
  {
   "cell_type": "code",
   "execution_count": 63,
   "metadata": {},
   "outputs": [
    {
     "name": "stdout",
     "output_type": "stream",
     "text": [
      "Epoch 1/100\n"
     ]
    },
    {
     "name": "stdout",
     "output_type": "stream",
     "text": [
      "1/1 [==============================] - 1s 672ms/step - loss: 12.9230 - mae: 12.9230\n",
      "Epoch 2/100\n",
      "1/1 [==============================] - 0s 4ms/step - loss: 9.9750 - mae: 9.9750\n",
      "Epoch 3/100\n",
      "1/1 [==============================] - 0s 5ms/step - loss: 6.9769 - mae: 6.9769\n",
      "Epoch 4/100\n",
      "1/1 [==============================] - 0s 4ms/step - loss: 4.1144 - mae: 4.1144\n",
      "Epoch 5/100\n",
      "1/1 [==============================] - 0s 6ms/step - loss: 5.7896 - mae: 5.7896\n",
      "Epoch 6/100\n",
      "1/1 [==============================] - 0s 6ms/step - loss: 5.7759 - mae: 5.7759\n",
      "Epoch 7/100\n",
      "1/1 [==============================] - 0s 5ms/step - loss: 4.7629 - mae: 4.7629\n",
      "Epoch 8/100\n",
      "1/1 [==============================] - 0s 5ms/step - loss: 3.8287 - mae: 3.8287\n",
      "Epoch 9/100\n",
      "1/1 [==============================] - 0s 6ms/step - loss: 4.9472 - mae: 4.9472\n",
      "Epoch 10/100\n",
      "1/1 [==============================] - 0s 5ms/step - loss: 5.3031 - mae: 5.3031\n",
      "Epoch 11/100\n",
      "1/1 [==============================] - 0s 6ms/step - loss: 4.7912 - mae: 4.7912\n",
      "Epoch 12/100\n",
      "1/1 [==============================] - 0s 4ms/step - loss: 3.6806 - mae: 3.6806\n",
      "Epoch 13/100\n",
      "1/1 [==============================] - 0s 5ms/step - loss: 3.6498 - mae: 3.6498\n",
      "Epoch 14/100\n",
      "1/1 [==============================] - 0s 5ms/step - loss: 4.1916 - mae: 4.1916\n",
      "Epoch 15/100\n",
      "1/1 [==============================] - 0s 6ms/step - loss: 4.2331 - mae: 4.2331\n",
      "Epoch 16/100\n",
      "1/1 [==============================] - 0s 7ms/step - loss: 3.7916 - mae: 3.7916\n",
      "Epoch 17/100\n",
      "1/1 [==============================] - 0s 7ms/step - loss: 3.3465 - mae: 3.3465\n",
      "Epoch 18/100\n",
      "1/1 [==============================] - 0s 13ms/step - loss: 3.1318 - mae: 3.1318\n",
      "Epoch 19/100\n",
      "1/1 [==============================] - 0s 5ms/step - loss: 3.3000 - mae: 3.3000\n",
      "Epoch 20/100\n",
      "1/1 [==============================] - 0s 7ms/step - loss: 3.0554 - mae: 3.0554\n",
      "Epoch 21/100\n",
      "1/1 [==============================] - 0s 5ms/step - loss: 2.7188 - mae: 2.7188\n",
      "Epoch 22/100\n",
      "1/1 [==============================] - 0s 4ms/step - loss: 2.6487 - mae: 2.6487\n",
      "Epoch 23/100\n",
      "1/1 [==============================] - 0s 7ms/step - loss: 2.8075 - mae: 2.8075\n",
      "Epoch 24/100\n",
      "1/1 [==============================] - 0s 8ms/step - loss: 2.4917 - mae: 2.4917\n",
      "Epoch 25/100\n",
      "1/1 [==============================] - 0s 6ms/step - loss: 1.9244 - mae: 1.9244\n",
      "Epoch 26/100\n",
      "1/1 [==============================] - 0s 4ms/step - loss: 1.5072 - mae: 1.5072\n",
      "Epoch 27/100\n",
      "1/1 [==============================] - 0s 5ms/step - loss: 1.2380 - mae: 1.2380\n",
      "Epoch 28/100\n",
      "1/1 [==============================] - 0s 6ms/step - loss: 0.7079 - mae: 0.7079\n",
      "Epoch 29/100\n",
      "1/1 [==============================] - 0s 5ms/step - loss: 0.9715 - mae: 0.9715\n",
      "Epoch 30/100\n",
      "1/1 [==============================] - 0s 5ms/step - loss: 0.6279 - mae: 0.6279\n",
      "Epoch 31/100\n",
      "1/1 [==============================] - 0s 4ms/step - loss: 1.2818 - mae: 1.2818\n",
      "Epoch 32/100\n",
      "1/1 [==============================] - 0s 6ms/step - loss: 0.7667 - mae: 0.7667\n",
      "Epoch 33/100\n",
      "1/1 [==============================] - 0s 6ms/step - loss: 0.4720 - mae: 0.4720\n",
      "Epoch 34/100\n",
      "1/1 [==============================] - 0s 5ms/step - loss: 1.3445 - mae: 1.3445\n",
      "Epoch 35/100\n",
      "1/1 [==============================] - 0s 4ms/step - loss: 1.1821 - mae: 1.1821\n",
      "Epoch 36/100\n",
      "1/1 [==============================] - 0s 5ms/step - loss: 0.6771 - mae: 0.6771\n",
      "Epoch 37/100\n",
      "1/1 [==============================] - 0s 5ms/step - loss: 0.3994 - mae: 0.3994\n",
      "Epoch 38/100\n",
      "1/1 [==============================] - 0s 6ms/step - loss: 1.2928 - mae: 1.2928\n",
      "Epoch 39/100\n",
      "1/1 [==============================] - 0s 5ms/step - loss: 1.3973 - mae: 1.3973\n",
      "Epoch 40/100\n",
      "1/1 [==============================] - 0s 4ms/step - loss: 0.5899 - mae: 0.5899\n",
      "Epoch 41/100\n",
      "1/1 [==============================] - 0s 5ms/step - loss: 1.7064 - mae: 1.7064\n",
      "Epoch 42/100\n",
      "1/1 [==============================] - 0s 5ms/step - loss: 1.9486 - mae: 1.9486\n",
      "Epoch 43/100\n",
      "1/1 [==============================] - 0s 5ms/step - loss: 1.2051 - mae: 1.2051\n",
      "Epoch 44/100\n",
      "1/1 [==============================] - 0s 6ms/step - loss: 0.8209 - mae: 0.8209\n",
      "Epoch 45/100\n",
      "1/1 [==============================] - 0s 5ms/step - loss: 1.2145 - mae: 1.2145\n",
      "Epoch 46/100\n",
      "1/1 [==============================] - 0s 5ms/step - loss: 0.7477 - mae: 0.7477\n",
      "Epoch 47/100\n",
      "1/1 [==============================] - 0s 6ms/step - loss: 0.9366 - mae: 0.9366\n",
      "Epoch 48/100\n",
      "1/1 [==============================] - 0s 3ms/step - loss: 1.3012 - mae: 1.3012\n",
      "Epoch 49/100\n",
      "1/1 [==============================] - 0s 4ms/step - loss: 0.6836 - mae: 0.6836\n",
      "Epoch 50/100\n",
      "1/1 [==============================] - 0s 3ms/step - loss: 0.9535 - mae: 0.9535\n",
      "Epoch 51/100\n",
      "1/1 [==============================] - 0s 5ms/step - loss: 1.1901 - mae: 1.1901\n",
      "Epoch 52/100\n",
      "1/1 [==============================] - 0s 4ms/step - loss: 0.6436 - mae: 0.6436\n",
      "Epoch 53/100\n",
      "1/1 [==============================] - 0s 4ms/step - loss: 0.8282 - mae: 0.8282\n",
      "Epoch 54/100\n",
      "1/1 [==============================] - 0s 4ms/step - loss: 1.1402 - mae: 1.1402\n",
      "Epoch 55/100\n",
      "1/1 [==============================] - 0s 5ms/step - loss: 0.5875 - mae: 0.5875\n",
      "Epoch 56/100\n",
      "1/1 [==============================] - 0s 8ms/step - loss: 0.9335 - mae: 0.9335\n",
      "Epoch 57/100\n",
      "1/1 [==============================] - 0s 9ms/step - loss: 1.2172 - mae: 1.2172\n",
      "Epoch 58/100\n",
      "1/1 [==============================] - 0s 7ms/step - loss: 0.9225 - mae: 0.9225\n",
      "Epoch 59/100\n",
      "1/1 [==============================] - 0s 6ms/step - loss: 0.4022 - mae: 0.4022\n",
      "Epoch 60/100\n",
      "1/1 [==============================] - 0s 6ms/step - loss: 0.6132 - mae: 0.6132\n",
      "Epoch 61/100\n",
      "1/1 [==============================] - 0s 5ms/step - loss: 0.2664 - mae: 0.2664\n",
      "Epoch 62/100\n",
      "1/1 [==============================] - 0s 7ms/step - loss: 0.6584 - mae: 0.6584\n",
      "Epoch 63/100\n",
      "1/1 [==============================] - 0s 5ms/step - loss: 0.5702 - mae: 0.5702\n",
      "Epoch 64/100\n",
      "1/1 [==============================] - 0s 5ms/step - loss: 0.2634 - mae: 0.2634\n",
      "Epoch 65/100\n",
      "1/1 [==============================] - 0s 5ms/step - loss: 0.3121 - mae: 0.3121\n",
      "Epoch 66/100\n",
      "1/1 [==============================] - 0s 4ms/step - loss: 0.4674 - mae: 0.4674\n",
      "Epoch 67/100\n",
      "1/1 [==============================] - 0s 5ms/step - loss: 0.3083 - mae: 0.3083\n",
      "Epoch 68/100\n",
      "1/1 [==============================] - 0s 5ms/step - loss: 0.2992 - mae: 0.2992\n",
      "Epoch 69/100\n",
      "1/1 [==============================] - 0s 5ms/step - loss: 0.1795 - mae: 0.1795\n",
      "Epoch 70/100\n",
      "1/1 [==============================] - 0s 6ms/step - loss: 0.1609 - mae: 0.1609\n",
      "Epoch 71/100\n",
      "1/1 [==============================] - 0s 5ms/step - loss: 0.2589 - mae: 0.2589\n",
      "Epoch 72/100\n",
      "1/1 [==============================] - 0s 4ms/step - loss: 0.2737 - mae: 0.2737\n",
      "Epoch 73/100\n",
      "1/1 [==============================] - 0s 6ms/step - loss: 0.2505 - mae: 0.2505\n",
      "Epoch 74/100\n",
      "1/1 [==============================] - 0s 5ms/step - loss: 0.2668 - mae: 0.2668\n",
      "Epoch 75/100\n",
      "1/1 [==============================] - 0s 6ms/step - loss: 0.1230 - mae: 0.1230\n",
      "Epoch 76/100\n",
      "1/1 [==============================] - 0s 5ms/step - loss: 0.6848 - mae: 0.6848\n",
      "Epoch 77/100\n",
      "1/1 [==============================] - 0s 6ms/step - loss: 0.4867 - mae: 0.4867\n",
      "Epoch 78/100\n",
      "1/1 [==============================] - 0s 6ms/step - loss: 0.5402 - mae: 0.5402\n",
      "Epoch 79/100\n",
      "1/1 [==============================] - 0s 6ms/step - loss: 0.6367 - mae: 0.6367\n",
      "Epoch 80/100\n",
      "1/1 [==============================] - 0s 5ms/step - loss: 0.1561 - mae: 0.1561\n",
      "Epoch 81/100\n",
      "1/1 [==============================] - 0s 4ms/step - loss: 0.1393 - mae: 0.1393\n",
      "Epoch 82/100\n",
      "1/1 [==============================] - 0s 6ms/step - loss: 0.2033 - mae: 0.2033\n",
      "Epoch 83/100\n",
      "1/1 [==============================] - 0s 6ms/step - loss: 0.4010 - mae: 0.4010\n",
      "Epoch 84/100\n",
      "1/1 [==============================] - 0s 4ms/step - loss: 0.1242 - mae: 0.1242\n",
      "Epoch 85/100\n",
      "1/1 [==============================] - 0s 4ms/step - loss: 0.6538 - mae: 0.6538\n",
      "Epoch 86/100\n",
      "1/1 [==============================] - 0s 6ms/step - loss: 0.4186 - mae: 0.4186\n",
      "Epoch 87/100\n",
      "1/1 [==============================] - 0s 5ms/step - loss: 0.6512 - mae: 0.6512\n",
      "Epoch 88/100\n",
      "1/1 [==============================] - 0s 5ms/step - loss: 0.9096 - mae: 0.9096\n",
      "Epoch 89/100\n",
      "1/1 [==============================] - 0s 5ms/step - loss: 0.4794 - mae: 0.4794\n",
      "Epoch 90/100\n",
      "1/1 [==============================] - 0s 4ms/step - loss: 0.6755 - mae: 0.6755\n",
      "Epoch 91/100\n",
      "1/1 [==============================] - 0s 6ms/step - loss: 0.8531 - mae: 0.8531\n",
      "Epoch 92/100\n",
      "1/1 [==============================] - 0s 4ms/step - loss: 0.2570 - mae: 0.2570\n",
      "Epoch 93/100\n",
      "1/1 [==============================] - 0s 4ms/step - loss: 1.0376 - mae: 1.0376\n",
      "Epoch 94/100\n",
      "1/1 [==============================] - 0s 5ms/step - loss: 1.4258 - mae: 1.4258\n",
      "Epoch 95/100\n",
      "1/1 [==============================] - 0s 5ms/step - loss: 1.1521 - mae: 1.1521\n",
      "Epoch 96/100\n",
      "1/1 [==============================] - 0s 6ms/step - loss: 0.3457 - mae: 0.3457\n",
      "Epoch 97/100\n",
      "1/1 [==============================] - 0s 5ms/step - loss: 1.1612 - mae: 1.1612\n",
      "Epoch 98/100\n",
      "1/1 [==============================] - 0s 5ms/step - loss: 1.7259 - mae: 1.7259\n",
      "Epoch 99/100\n",
      "1/1 [==============================] - 0s 5ms/step - loss: 1.4225 - mae: 1.4225\n",
      "Epoch 100/100\n",
      "1/1 [==============================] - 0s 6ms/step - loss: 0.4511 - mae: 0.4511\n"
     ]
    },
    {
     "data": {
      "text/plain": [
       "<keras.callbacks.History at 0x2221ad1d240>"
      ]
     },
     "execution_count": 63,
     "metadata": {},
     "output_type": "execute_result"
    }
   ],
   "source": [
    "# 1. Create a model (specified to your problem)\n",
    "\n",
    "model = tf.keras.Sequential([\n",
    "    tf.keras.layers.Dense(100, activation=\"relu\"),\n",
    "    tf.keras.layers.Dense(100, activation=\"relu\"),\n",
    "    tf.keras.layers.Dense(100, activation=\"relu\"),\n",
    "    tf.keras.layers.Dense(1)\n",
    "])\n",
    "\n",
    "# 2. Compile the model\n",
    "model.compile(\n",
    "    loss=tf.keras.losses.mae,\n",
    "    optimizer=tf.keras.optimizers.Adam(lr=0.009),\n",
    "    metrics=[\"mae\"]\n",
    ")\n",
    "\n",
    "# 3. Fit the model\n",
    "model.fit(tf.expand_dims(X, axis=-1), Y, epochs=100)"
   ]
  },
  {
   "cell_type": "markdown",
   "metadata": {},
   "source": [
    "Test again"
   ]
  },
  {
   "cell_type": "code",
   "execution_count": 64,
   "metadata": {},
   "outputs": [
    {
     "name": "stdout",
     "output_type": "stream",
     "text": [
      "1/1 [==============================] - 0s 126ms/step\n"
     ]
    },
    {
     "data": {
      "text/plain": [
       "([12.0, 17.0, 22.0, 33.0, 37.0, 47.5, 67.2, 74.6, 82.3, 99.9],\n",
       " array([[ 19.95536 ],\n",
       "        [ 24.587086],\n",
       "        [ 29.261711],\n",
       "        [ 39.569298],\n",
       "        [ 43.335392],\n",
       "        [ 53.31847 ],\n",
       "        [ 72.28577 ],\n",
       "        [ 79.44973 ],\n",
       "        [ 86.90412 ],\n",
       "        [103.942726]], dtype=float32))"
      ]
     },
     "execution_count": 64,
     "metadata": {},
     "output_type": "execute_result"
    }
   ],
   "source": [
    "prediction_features = [12.0, 17.0, 22.0, 33.0, 37.0, 47.5, 67.2, 74.6, 82.3, 99.9]\n",
    "prediction_labels = model.predict(prediction_features)\n",
    "prediction_features, prediction_labels"
   ]
  },
  {
   "cell_type": "markdown",
   "metadata": {},
   "source": [
    "## Evaluating a model\n",
    "\n",
    "In practice, a typical workflow when building a neural network is:\n",
    "\n",
    "```\n",
    "Build a model -> fit it -> evaluate it -> tweak it -> fit it -> evaluate it -> tweak it -> fit it -> evaluate it -> tweak it -> fit it -> ...\n",
    "```\n",
    "\n",
    "Building model: Experiment, experiment, experiment \n",
    "\n",
    "Evaluating model: Visualize, visualize, visualize\n",
    "\n",
    "It's a good idea to visualize: \n",
    "- The data - what data are we working with? What does it look like?\n",
    "- The model itself - what does our model look like?\n",
    "- The training of a model - how does a model perform while it learns? \n",
    "The predictions of the model - how do the predictions of a model line up against the ground truth (the original labels)?"
   ]
  },
  {
   "cell_type": "code",
   "execution_count": 65,
   "metadata": {},
   "outputs": [
    {
     "data": {
      "text/plain": [
       "(<tf.Tensor: shape=(50,), dtype=int32, numpy=\n",
       " array([-100,  -96,  -92,  -88,  -84,  -80,  -76,  -72,  -68,  -64,  -60,\n",
       "         -56,  -52,  -48,  -44,  -40,  -36,  -32,  -28,  -24,  -20,  -16,\n",
       "         -12,   -8,   -4,    0,    4,    8,   12,   16,   20,   24,   28,\n",
       "          32,   36,   40,   44,   48,   52,   56,   60,   64,   68,   72,\n",
       "          76,   80,   84,   88,   92,   96])>,\n",
       " <tf.Tensor: shape=(50,), dtype=int32, numpy=\n",
       " array([-90, -86, -82, -78, -74, -70, -66, -62, -58, -54, -50, -46, -42,\n",
       "        -38, -34, -30, -26, -22, -18, -14, -10,  -6,  -2,   2,   6,  10,\n",
       "         14,  18,  22,  26,  30,  34,  38,  42,  46,  50,  54,  58,  62,\n",
       "         66,  70,  74,  78,  82,  86,  90,  94,  98, 102, 106])>)"
      ]
     },
     "execution_count": 65,
     "metadata": {},
     "output_type": "execute_result"
    }
   ],
   "source": [
    "# Make a bigger dataset\n",
    "\n",
    "X = tf.range(-100, 100, 4)\n",
    "Y = X + 10\n",
    "X, Y"
   ]
  },
  {
   "cell_type": "code",
   "execution_count": 66,
   "metadata": {},
   "outputs": [
    {
     "data": {
      "text/plain": [
       "<matplotlib.collections.PathCollection at 0x2221c3b7a00>"
      ]
     },
     "execution_count": 66,
     "metadata": {},
     "output_type": "execute_result"
    },
    {
     "data": {
      "image/png": "[encoded data removed]",
      "text/plain": [
       "<Figure size 640x480 with 1 Axes>"
      ]
     },
     "metadata": {},
     "output_type": "display_data"
    }
   ],
   "source": [
    "plt.scatter(X, Y)"
   ]
  },
  {
   "cell_type": "markdown",
   "metadata": {},
   "source": [
    "### The 3 sets... 🌟\n",
    "\n",
    "1. **Training Set** - The model learns from this data, which is typically 70-80% of the total data you have available.\n",
    "2. **Validation Set** - The model gets tuned on this data,  typically 10-15% of the data available \n",
    "3. **Test Set** - The model gets evaluated on this data to test what is learned, this set is typically 10-15% of the total data available as well.\n",
    "\n",
    "#### Analogy\n",
    "Course Material -> Training Set\n",
    "\n",
    "Practice Exam -> Validation Set\n",
    "\n",
    "Final Exam -> Test Set\n",
    "\n",
    "##### Generalization\n",
    "The ability for a ML platform to perform on data it hasn't seen before."
   ]
  },
  {
   "cell_type": "code",
   "execution_count": 67,
   "metadata": {},
   "outputs": [
    {
     "data": {
      "text/plain": [
       "50"
      ]
     },
     "execution_count": 67,
     "metadata": {},
     "output_type": "execute_result"
    }
   ],
   "source": [
    "# Check the length of how many samples we have \n",
    "len(X)"
   ]
  },
  {
   "cell_type": "code",
   "execution_count": 68,
   "metadata": {},
   "outputs": [
    {
     "data": {
      "text/plain": [
       "(40, 10, 40, 10)"
      ]
     },
     "execution_count": 68,
     "metadata": {},
     "output_type": "execute_result"
    }
   ],
   "source": [
    "# Split the data into train and test sets\n",
    "X_train = X[:40] # first 40 are training samples (80% of the data)\n",
    "Y_train = Y[:40]\n",
    "\n",
    "X_test = X[40:] # last 40 are test samples (20% of the data)\n",
    "Y_test = Y[40:]\n",
    "\n",
    "len(X_train), len(X_test), len(Y_train), len(Y_test)"
   ]
  },
  {
   "cell_type": "markdown",
   "metadata": {},
   "source": [
    "### Visualize the data again\n",
    "Now that we have the data, let's visualize again!"
   ]
  },
  {
   "cell_type": "code",
   "execution_count": 69,
   "metadata": {},
   "outputs": [
    {
     "data": {
      "text/plain": [
       "<matplotlib.legend.Legend at 0x2221e572d40>"
      ]
     },
     "execution_count": 69,
     "metadata": {},
     "output_type": "execute_result"
    },
    {
     "data": {
      "image/png": "[encoded data removed]",
      "text/plain": [
       "<Figure size 500x300 with 1 Axes>"
      ]
     },
     "metadata": {},
     "output_type": "display_data"
    }
   ],
   "source": [
    "plt.figure(figsize=(5,3))\n",
    "# plot training data in blue\n",
    "plt.scatter(X_train, Y_train, c='b', label=\"Training Data\")\n",
    "# plot test data in green\n",
    "plt.scatter(X_test, Y_test, c='g', label=\"Testing Data\")\n",
    "plt.legend()"
   ]
  },
  {
   "cell_type": "markdown",
   "metadata": {},
   "source": [
    "# Let's have a look at how to build a neural network for our data"
   ]
  },
  {
   "cell_type": "code",
   "execution_count": 70,
   "metadata": {},
   "outputs": [
    {
     "name": "stdout",
     "output_type": "stream",
     "text": [
      "Model: \"model_1\"\n",
      "_________________________________________________________________\n",
      " Layer (type)                Output Shape              Param #   \n",
      "=================================================================\n",
      " middle_layer_1 (Dense)      (None, 10)                20        \n",
      "                                                                 \n",
      " middle_layer_2 (Dense)      (None, 10)                110       \n",
      "                                                                 \n",
      " output_layer (Dense)        (None, 1)                 11        \n",
      "                                                                 \n",
      "=================================================================\n",
      "Total params: 141\n",
      "Trainable params: 141\n",
      "Non-trainable params: 0\n",
      "_________________________________________________________________\n"
     ]
    }
   ],
   "source": [
    "# Let's create a model which builds automatically by defining the input_shape argument in the first layer\n",
    "tf.random.set_seed(42)\n",
    "\n",
    "# 1. Create a model\n",
    "\n",
    "model = tf.keras.Sequential([\n",
    "    tf.keras.layers.Dense(10, input_shape=[1], name=\"middle_layer_1\"),\n",
    "    tf.keras.layers.Dense(10, input_shape=[1], name=\"middle_layer_2\"),\n",
    "    tf.keras.layers.Dense(1, name=\"output_layer\")\n",
    "], name=\"model_1\")\n",
    "\n",
    "# 2. Compile the model\n",
    "model.compile(loss=tf.keras.losses.mae,optimizer=tf.keras.optimizers.Adam(learning_rate=0.05),metrics=[\"mae\"])\n",
    "\n",
    "model.summary()"
   ]
  },
  {
   "cell_type": "markdown",
   "metadata": {},
   "source": [
    "* Total Params - total number of parameters in the model.\n",
    "* Trainable parameters - these are the parameters (patterns) the model can update as it trains\n",
    "* Non-trainable params - these parameters aren't updated during training (this is typical when you bring in already learnt patterns or parameters from other models during **transfer learning**).\n",
    "\n",
    "📖 **Resource**: MIT's Intro to Deep Learning\n",
    "🛠️ **Exercise**: Try playing around with the number of hidden units in the dense layer, see how that effects the number of parameters (total and trainable) by calling model.summary()."
   ]
  },
  {
   "cell_type": "code",
   "execution_count": 71,
   "metadata": {},
   "outputs": [
    {
     "data": {
      "text/plain": [
       "<keras.callbacks.History at 0x2221c3b52d0>"
      ]
     },
     "execution_count": 71,
     "metadata": {},
     "output_type": "execute_result"
    }
   ],
   "source": [
    "# 3. Fit the model\n",
    "model.fit(tf.expand_dims(X_train, axis=-1), Y_train, epochs=200, verbose=0)"
   ]
  },
  {
   "cell_type": "code",
   "execution_count": 72,
   "metadata": {},
   "outputs": [
    {
     "name": "stdout",
     "output_type": "stream",
     "text": [
      "Model: \"model_1\"\n",
      "_________________________________________________________________\n",
      " Layer (type)                Output Shape              Param #   \n",
      "=================================================================\n",
      " middle_layer_1 (Dense)      (None, 10)                20        \n",
      "                                                                 \n",
      " middle_layer_2 (Dense)      (None, 10)                110       \n",
      "                                                                 \n",
      " output_layer (Dense)        (None, 1)                 11        \n",
      "                                                                 \n",
      "=================================================================\n",
      "Total params: 141\n",
      "Trainable params: 141\n",
      "Non-trainable params: 0\n",
      "_________________________________________________________________\n"
     ]
    }
   ],
   "source": [
    "model.summary()"
   ]
  },
  {
   "cell_type": "code",
   "execution_count": 73,
   "metadata": {},
   "outputs": [
    {
     "data": {
      "image/png": "[encoded data removed]",
      "text/plain": [
       "<IPython.core.display.Image object>"
      ]
     },
     "execution_count": 73,
     "metadata": {},
     "output_type": "execute_result"
    }
   ],
   "source": [
    "from tensorflow.keras.utils import plot_model\n",
    "\n",
    "plot_model(model=model, show_shapes=True)"
   ]
  },
  {
   "cell_type": "markdown",
   "metadata": {},
   "source": [
    "# Visualizing our model's predictions\n",
    "\n",
    "To visualize predictions, it's a good idea to plot them against the ground truth labels\n",
    "\n",
    "Often you'll see this in the form of `y_test` or `y_true` versus `y_pred` (ground truth versus your model's predictions)."
   ]
  },
  {
   "cell_type": "code",
   "execution_count": 74,
   "metadata": {},
   "outputs": [
    {
     "name": "stdout",
     "output_type": "stream",
     "text": [
      "1/1 [==============================] - 0s 62ms/step\n"
     ]
    },
    {
     "data": {
      "text/plain": [
       "(array([[ 70.76132 ],\n",
       "        [ 74.84681 ],\n",
       "        [ 78.932304],\n",
       "        [ 83.01779 ],\n",
       "        [ 87.10329 ],\n",
       "        [ 91.188774],\n",
       "        [ 95.27427 ],\n",
       "        [ 99.35976 ],\n",
       "        [103.445244],\n",
       "        [107.530754]], dtype=float32),\n",
       " <tf.Tensor: shape=(10,), dtype=int32, numpy=array([ 70,  74,  78,  82,  86,  90,  94,  98, 102, 106])>)"
      ]
     },
     "execution_count": 74,
     "metadata": {},
     "output_type": "execute_result"
    }
   ],
   "source": [
    "# Make some predictions\n",
    "Y_pred = model.predict(X_test)\n",
    "\n",
    "Y_pred, Y_test"
   ]
  },
  {
   "cell_type": "code",
   "execution_count": 75,
   "metadata": {},
   "outputs": [],
   "source": [
    "def plot_predictions(train_data=X_train, train_labels=Y_train, test_data=X_test, test_labels=Y_test, predictions=Y_pred):\n",
    "    \"\"\"\n",
    "    Plots training data, test data and compares predictions to the ground truth labels.\n",
    "    \"\"\"\n",
    "    plt.figure(figsize=(10,7))\n",
    "    # Plot training data in blue\n",
    "    plt.scatter(train_data, train_labels, c=\"b\", label=\"Training Data\")\n",
    "    # Plot testing data in green\n",
    "    plt.scatter(test_data, test_labels, c=\"g\", label=\"Testing Data\")\n",
    "    # Plot model's predictions in red\n",
    "    plt.scatter(test_data, predictions, c=\"r\", label=\"Prediction Data\")\n",
    "    # Show the legend\n",
    "    plt.legend();"
   ]
  },
  {
   "cell_type": "code",
   "execution_count": 76,
   "metadata": {},
   "outputs": [
    {
     "data": {
      "image/png": "[encoded data removed]",
      "text/plain": [
       "<Figure size 1000x700 with 1 Axes>"
      ]
     },
     "metadata": {},
     "output_type": "display_data"
    }
   ],
   "source": [
    "plot_predictions(train_data=X_train, \n",
    "                 train_labels=Y_train, \n",
    "                 test_data=X_test, \n",
    "                 test_labels=Y_test, \n",
    "                 predictions=Y_pred\n",
    "                 )"
   ]
  },
  {
   "cell_type": "markdown",
   "metadata": {},
   "source": [
    "# Evaluating our model's prediction with regression evaluation metrics\n",
    "Depending on problem being worked on there will be different evaluation metrics to evaluate your model. Since we are working on a regression, two of the main metrics: \n",
    "- MAE - mean absolute error, \"on average, how wrong is each of the model's predictions\"\n",
    "- MSE - mean square error, \"square the average errors\""
   ]
  },
  {
   "cell_type": "code",
   "execution_count": 77,
   "metadata": {},
   "outputs": [
    {
     "name": "stdout",
     "output_type": "stream",
     "text": [
      "1/1 [==============================] - 0s 137ms/step - loss: 1.1460 - mae: 1.1460\n"
     ]
    },
    {
     "data": {
      "text/plain": [
       "[1.1460297107696533, 1.1460297107696533]"
      ]
     },
     "execution_count": 77,
     "metadata": {},
     "output_type": "execute_result"
    }
   ],
   "source": [
    "model.evaluate(X_test, Y_test)"
   ]
  },
  {
   "cell_type": "code",
   "execution_count": 79,
   "metadata": {},
   "outputs": [
    {
     "data": {
      "text/plain": [
       "(<tf.Tensor: shape=(), dtype=float32, numpy=1.1460311>,\n",
       " <tf.Tensor: shape=(), dtype=float32, numpy=1.3736852>)"
      ]
     },
     "execution_count": 79,
     "metadata": {},
     "output_type": "execute_result"
    }
   ],
   "source": [
    "# Calculate the mean absolute error\n",
    "mae = tf.metrics.mean_absolute_error(Y_test, tf.squeeze(Y_pred))\n",
    "mse = tf.metrics.mean_squared_error(Y_test, tf.squeeze(Y_pred))\n",
    "mae, mse"
   ]
  },
  {
   "cell_type": "code",
   "execution_count": 86,
   "metadata": {},
   "outputs": [],
   "source": [
    "def mae(y_true, y_pred):\n",
    "    return tf.metrics.mean_absolute_error(y_true, tf.squeeze(y_pred))\n",
    "\n",
    "def mse(y_true, y_pred):\n",
    "    return tf.metrics.mean_squared_error(y_true, tf.squeeze(y_pred))"
   ]
  },
  {
   "cell_type": "markdown",
   "metadata": {},
   "source": [
    "## Running experiements on out model\n",
    "\n",
    "```\n",
    "Build a model -> fit it -> tweak it -> evaluate it -> fit it -> tweak it -> evaluate it -> fit it -> tweak it -> evaluate it -> fit it -> tweak it -> evaluate it ... \n",
    "```\n",
    "\n",
    "1. Get more data - get more examples for your model to train on (more opportunities to lean patterns or relationships between features and labels).\n",
    "\n",
    "2. Make your model larger (using a more complex model) - this might come in the form of more layers or more hidden units in each layer.\n",
    "\n",
    "3. Train for longer - give your model more of a chance to find patterns in the data.\n",
    "\n",
    "Let's do 3 modelling experiments:\n",
    "\n",
    "1. `model_1` - same as the original model, 1 layer trained for 100 epochs\n",
    "2. `model_2` - 2 layers trained for 100 epochs\n",
    "3. `model_3` - 2 layers trained for 500 epochs"
   ]
  },
  {
   "cell_type": "markdown",
   "metadata": {},
   "source": [
    "**Build `model_1`**"
   ]
  },
  {
   "cell_type": "code",
   "execution_count": 81,
   "metadata": {},
   "outputs": [
    {
     "name": "stdout",
     "output_type": "stream",
     "text": [
      "Epoch 1/100\n",
      "2/2 [==============================] - 0s 3ms/step - loss: 50.4064 - mae: 50.4064\n",
      "Epoch 2/100\n",
      "2/2 [==============================] - 0s 2ms/step - loss: 17.5601 - mae: 17.5601\n",
      "Epoch 3/100\n",
      "2/2 [==============================] - 0s 4ms/step - loss: 16.8454 - mae: 16.8454\n",
      "Epoch 4/100\n",
      "2/2 [==============================] - 0s 3ms/step - loss: 9.1068 - mae: 9.1068\n",
      "Epoch 5/100\n",
      "2/2 [==============================] - 0s 4ms/step - loss: 11.0392 - mae: 11.0392\n",
      "Epoch 6/100\n",
      "2/2 [==============================] - 0s 4ms/step - loss: 10.1989 - mae: 10.1989\n",
      "Epoch 7/100\n",
      "2/2 [==============================] - 0s 3ms/step - loss: 9.2144 - mae: 9.2144\n",
      "Epoch 8/100\n",
      "2/2 [==============================] - 0s 3ms/step - loss: 9.1497 - mae: 9.1497\n",
      "Epoch 9/100\n",
      "2/2 [==============================] - 0s 4ms/step - loss: 11.7622 - mae: 11.7622\n",
      "Epoch 10/100\n",
      "2/2 [==============================] - 0s 3ms/step - loss: 13.6824 - mae: 13.6824\n",
      "Epoch 11/100\n",
      "2/2 [==============================] - 0s 4ms/step - loss: 11.7500 - mae: 11.7500\n",
      "Epoch 12/100\n",
      "2/2 [==============================] - 0s 4ms/step - loss: 16.4552 - mae: 16.4552\n",
      "Epoch 13/100\n",
      "2/2 [==============================] - 0s 3ms/step - loss: 11.9800 - mae: 11.9800\n",
      "Epoch 14/100\n",
      "2/2 [==============================] - 0s 3ms/step - loss: 13.9192 - mae: 13.9192\n",
      "Epoch 15/100\n",
      "2/2 [==============================] - 0s 2ms/step - loss: 11.3095 - mae: 11.3095\n",
      "Epoch 16/100\n",
      "2/2 [==============================] - 0s 3ms/step - loss: 8.5813 - mae: 8.5813\n",
      "Epoch 17/100\n",
      "2/2 [==============================] - 0s 3ms/step - loss: 13.7198 - mae: 13.7198\n",
      "Epoch 18/100\n",
      "2/2 [==============================] - 0s 3ms/step - loss: 11.5662 - mae: 11.5662\n",
      "Epoch 19/100\n",
      "2/2 [==============================] - 0s 2ms/step - loss: 17.8119 - mae: 17.8119\n",
      "Epoch 20/100\n",
      "2/2 [==============================] - 0s 3ms/step - loss: 14.9473 - mae: 14.9473\n",
      "Epoch 21/100\n",
      "2/2 [==============================] - 0s 3ms/step - loss: 10.8357 - mae: 10.8357\n",
      "Epoch 22/100\n",
      "2/2 [==============================] - 0s 4ms/step - loss: 8.5847 - mae: 8.5847\n",
      "Epoch 23/100\n",
      "2/2 [==============================] - 0s 5ms/step - loss: 9.7375 - mae: 9.7375\n",
      "Epoch 24/100\n",
      "2/2 [==============================] - 0s 4ms/step - loss: 10.9448 - mae: 10.9448\n",
      "Epoch 25/100\n",
      "2/2 [==============================] - 0s 4ms/step - loss: 9.1622 - mae: 9.1622\n",
      "Epoch 26/100\n",
      "2/2 [==============================] - 0s 2ms/step - loss: 13.1808 - mae: 13.1808\n",
      "Epoch 27/100\n",
      "2/2 [==============================] - 0s 4ms/step - loss: 10.6601 - mae: 10.6601\n",
      "Epoch 28/100\n",
      "2/2 [==============================] - 0s 3ms/step - loss: 12.8722 - mae: 12.8722\n",
      "Epoch 29/100\n",
      "2/2 [==============================] - 0s 3ms/step - loss: 9.5151 - mae: 9.5151\n",
      "Epoch 30/100\n",
      "2/2 [==============================] - 0s 4ms/step - loss: 16.3820 - mae: 16.3820\n",
      "Epoch 31/100\n",
      "2/2 [==============================] - 0s 3ms/step - loss: 23.6130 - mae: 23.6130\n",
      "Epoch 32/100\n",
      "2/2 [==============================] - 0s 4ms/step - loss: 7.6243 - mae: 7.6243\n",
      "Epoch 33/100\n",
      "2/2 [==============================] - 0s 3ms/step - loss: 9.3229 - mae: 9.3229\n",
      "Epoch 34/100\n",
      "2/2 [==============================] - 0s 3ms/step - loss: 13.7132 - mae: 13.7132\n",
      "Epoch 35/100\n",
      "2/2 [==============================] - 0s 2ms/step - loss: 11.1496 - mae: 11.1496\n",
      "Epoch 36/100\n",
      "2/2 [==============================] - 0s 3ms/step - loss: 13.3563 - mae: 13.3563\n",
      "Epoch 37/100\n",
      "2/2 [==============================] - 0s 3ms/step - loss: 9.4731 - mae: 9.4731\n",
      "Epoch 38/100\n",
      "2/2 [==============================] - 0s 3ms/step - loss: 10.1306 - mae: 10.1306\n",
      "Epoch 39/100\n",
      "2/2 [==============================] - 0s 2ms/step - loss: 10.2015 - mae: 10.2015\n",
      "Epoch 40/100\n",
      "2/2 [==============================] - 0s 2ms/step - loss: 10.9401 - mae: 10.9401\n",
      "Epoch 41/100\n",
      "2/2 [==============================] - 0s 3ms/step - loss: 7.9297 - mae: 7.9297\n",
      "Epoch 42/100\n",
      "2/2 [==============================] - 0s 2ms/step - loss: 10.0861 - mae: 10.0861\n",
      "Epoch 43/100\n",
      "2/2 [==============================] - 0s 3ms/step - loss: 8.7032 - mae: 8.7032\n",
      "Epoch 44/100\n",
      "2/2 [==============================] - 0s 3ms/step - loss: 12.1864 - mae: 12.1864\n",
      "Epoch 45/100\n",
      "2/2 [==============================] - 0s 3ms/step - loss: 13.8275 - mae: 13.8275\n",
      "Epoch 46/100\n",
      "2/2 [==============================] - 0s 3ms/step - loss: 8.4931 - mae: 8.4931\n",
      "Epoch 47/100\n",
      "2/2 [==============================] - 0s 4ms/step - loss: 9.1295 - mae: 9.1295\n",
      "Epoch 48/100\n",
      "2/2 [==============================] - 0s 3ms/step - loss: 10.6102 - mae: 10.6102\n",
      "Epoch 49/100\n",
      "2/2 [==============================] - 0s 2ms/step - loss: 7.7478 - mae: 7.7478\n",
      "Epoch 50/100\n",
      "2/2 [==============================] - 0s 3ms/step - loss: 9.5330 - mae: 9.5330\n",
      "Epoch 51/100\n",
      "2/2 [==============================] - 0s 3ms/step - loss: 9.1628 - mae: 9.1628\n",
      "Epoch 52/100\n",
      "2/2 [==============================] - 0s 3ms/step - loss: 16.3320 - mae: 16.3320\n",
      "Epoch 53/100\n",
      "2/2 [==============================] - 0s 4ms/step - loss: 14.1504 - mae: 14.1504\n",
      "Epoch 54/100\n",
      "2/2 [==============================] - 0s 5ms/step - loss: 21.1660 - mae: 21.1660\n",
      "Epoch 55/100\n",
      "2/2 [==============================] - 0s 4ms/step - loss: 16.3698 - mae: 16.3698\n",
      "Epoch 56/100\n",
      "2/2 [==============================] - 0s 3ms/step - loss: 10.0104 - mae: 10.0104\n",
      "Epoch 57/100\n",
      "2/2 [==============================] - 0s 3ms/step - loss: 9.9545 - mae: 9.9545\n",
      "Epoch 58/100\n",
      "2/2 [==============================] - 0s 3ms/step - loss: 9.2170 - mae: 9.2170\n",
      "Epoch 59/100\n",
      "2/2 [==============================] - 0s 3ms/step - loss: 8.4190 - mae: 8.4190\n",
      "Epoch 60/100\n",
      "2/2 [==============================] - 0s 4ms/step - loss: 9.4856 - mae: 9.4856\n",
      "Epoch 61/100\n",
      "2/2 [==============================] - 0s 2ms/step - loss: 11.4237 - mae: 11.4237\n",
      "Epoch 62/100\n",
      "2/2 [==============================] - 0s 3ms/step - loss: 11.7187 - mae: 11.7187\n",
      "Epoch 63/100\n",
      "2/2 [==============================] - 0s 2ms/step - loss: 7.0851 - mae: 7.0851\n",
      "Epoch 64/100\n",
      "2/2 [==============================] - 0s 5ms/step - loss: 16.9973 - mae: 16.9973\n",
      "Epoch 65/100\n",
      "2/2 [==============================] - 0s 4ms/step - loss: 12.4845 - mae: 12.4845\n",
      "Epoch 66/100\n",
      "2/2 [==============================] - 0s 4ms/step - loss: 13.0484 - mae: 13.0484\n",
      "Epoch 67/100\n",
      "2/2 [==============================] - 0s 3ms/step - loss: 8.0769 - mae: 8.0769\n",
      "Epoch 68/100\n",
      "2/2 [==============================] - 0s 3ms/step - loss: 10.2107 - mae: 10.2107\n",
      "Epoch 69/100\n",
      "2/2 [==============================] - 0s 3ms/step - loss: 12.3952 - mae: 12.3952\n",
      "Epoch 70/100\n",
      "2/2 [==============================] - 0s 3ms/step - loss: 9.0482 - mae: 9.0482\n",
      "Epoch 71/100\n",
      "2/2 [==============================] - 0s 4ms/step - loss: 10.0327 - mae: 10.0327\n",
      "Epoch 72/100\n",
      "2/2 [==============================] - 0s 5ms/step - loss: 10.0496 - mae: 10.0496\n",
      "Epoch 73/100\n",
      "2/2 [==============================] - 0s 5ms/step - loss: 12.6002 - mae: 12.6002\n",
      "Epoch 74/100\n",
      "2/2 [==============================] - 0s 4ms/step - loss: 10.4137 - mae: 10.4137\n",
      "Epoch 75/100\n",
      "2/2 [==============================] - 0s 4ms/step - loss: 9.7191 - mae: 9.7191\n",
      "Epoch 76/100\n",
      "2/2 [==============================] - 0s 3ms/step - loss: 11.2172 - mae: 11.2172\n",
      "Epoch 77/100\n",
      "2/2 [==============================] - 0s 3ms/step - loss: 8.3609 - mae: 8.3609\n",
      "Epoch 78/100\n",
      "2/2 [==============================] - 0s 3ms/step - loss: 9.1157 - mae: 9.1157\n",
      "Epoch 79/100\n",
      "2/2 [==============================] - 0s 3ms/step - loss: 19.5437 - mae: 19.5437\n",
      "Epoch 80/100\n",
      "2/2 [==============================] - 0s 7ms/step - loss: 14.8713 - mae: 14.8713\n",
      "Epoch 81/100\n",
      "2/2 [==============================] - 0s 3ms/step - loss: 9.0386 - mae: 9.0386\n",
      "Epoch 82/100\n",
      "2/2 [==============================] - 0s 3ms/step - loss: 13.0029 - mae: 13.0029\n",
      "Epoch 83/100\n",
      "2/2 [==============================] - 0s 4ms/step - loss: 7.9224 - mae: 7.9224\n",
      "Epoch 84/100\n",
      "2/2 [==============================] - 0s 3ms/step - loss: 7.7025 - mae: 7.7025\n",
      "Epoch 85/100\n",
      "2/2 [==============================] - 0s 2ms/step - loss: 10.0570 - mae: 10.0570\n",
      "Epoch 86/100\n",
      "2/2 [==============================] - 0s 3ms/step - loss: 9.2619 - mae: 9.2619\n",
      "Epoch 87/100\n",
      "2/2 [==============================] - 0s 4ms/step - loss: 12.0467 - mae: 12.0467\n",
      "Epoch 88/100\n",
      "2/2 [==============================] - 0s 3ms/step - loss: 10.6664 - mae: 10.6664\n",
      "Epoch 89/100\n",
      "2/2 [==============================] - 0s 3ms/step - loss: 7.2767 - mae: 7.2767\n",
      "Epoch 90/100\n",
      "2/2 [==============================] - 0s 4ms/step - loss: 12.8085 - mae: 12.8085\n",
      "Epoch 91/100\n",
      "2/2 [==============================] - 0s 3ms/step - loss: 7.4874 - mae: 7.4874\n",
      "Epoch 92/100\n",
      "2/2 [==============================] - 0s 2ms/step - loss: 6.7614 - mae: 6.7614\n",
      "Epoch 93/100\n",
      "2/2 [==============================] - 0s 3ms/step - loss: 11.9587 - mae: 11.9587\n",
      "Epoch 94/100\n",
      "2/2 [==============================] - 0s 4ms/step - loss: 8.8908 - mae: 8.8908\n",
      "Epoch 95/100\n",
      "2/2 [==============================] - 0s 3ms/step - loss: 7.7303 - mae: 7.7303\n",
      "Epoch 96/100\n",
      "2/2 [==============================] - 0s 3ms/step - loss: 6.7595 - mae: 6.7595\n",
      "Epoch 97/100\n",
      "2/2 [==============================] - 0s 3ms/step - loss: 8.6425 - mae: 8.6425\n",
      "Epoch 98/100\n",
      "2/2 [==============================] - 0s 2ms/step - loss: 9.4006 - mae: 9.4006\n",
      "Epoch 99/100\n",
      "2/2 [==============================] - 0s 3ms/step - loss: 9.1364 - mae: 9.1364\n",
      "Epoch 100/100\n",
      "2/2 [==============================] - 0s 3ms/step - loss: 10.4930 - mae: 10.4930\n"
     ]
    },
    {
     "data": {
      "text/plain": [
       "<keras.callbacks.History at 0x2221c4b3e20>"
      ]
     },
     "execution_count": 81,
     "metadata": {},
     "output_type": "execute_result"
    }
   ],
   "source": [
    "# Set random seed \n",
    "tf.random.set_seed(42)\n",
    "\n",
    "# Create the model\n",
    "model_1 = tf.keras.Sequential([\n",
    "    tf.keras.layers.Dense(1)\n",
    "])\n",
    "\n",
    "# Compile the model\n",
    "model_1.compile(loss=tf.keras.losses.mae,optimizer=tf.keras.optimizers.SGD(), metrics=[\"mae\"])\n",
    "\n",
    "# Fit the model\n",
    "model_1.fit(tf.expand_dims(X_train, axis=-1), Y_train, epochs=100)"
   ]
  },
  {
   "cell_type": "code",
   "execution_count": 82,
   "metadata": {},
   "outputs": [
    {
     "name": "stdout",
     "output_type": "stream",
     "text": [
      "1/1 [==============================] - 0s 41ms/step\n"
     ]
    },
    {
     "data": {
      "image/png": "[encoded data removed]",
      "text/plain": [
       "<Figure size 1000x700 with 1 Axes>"
      ]
     },
     "metadata": {},
     "output_type": "display_data"
    }
   ],
   "source": [
    "# Make and plot predictions for model_1\n",
    "\n",
    "y_preds_1 = model_1.predict(X_test)\n",
    "plot_predictions(predictions=y_preds_1)"
   ]
  },
  {
   "cell_type": "code",
   "execution_count": 87,
   "metadata": {},
   "outputs": [
    {
     "data": {
      "text/plain": [
       "(<tf.Tensor: shape=(), dtype=float32, numpy=14.931368>,\n",
       " <tf.Tensor: shape=(), dtype=float32, numpy=223.78433>)"
      ]
     },
     "execution_count": 87,
     "metadata": {},
     "output_type": "execute_result"
    }
   ],
   "source": [
    "# Calculate model_1 evaluation metrics \n",
    "\n",
    "mae_1 = mae(Y_test, y_preds_1)\n",
    "\n",
    "mse_1 = mse(Y_test, y_preds_1)\n",
    "\n",
    "mae_1, mse_1"
   ]
  },
  {
   "cell_type": "markdown",
   "metadata": {},
   "source": [
    "**Build `model_2`**"
   ]
  },
  {
   "cell_type": "code",
   "execution_count": 145,
   "metadata": {},
   "outputs": [
    {
     "name": "stdout",
     "output_type": "stream",
     "text": [
      "Epoch 1/100\n"
     ]
    },
    {
     "name": "stdout",
     "output_type": "stream",
     "text": [
      "2/2 [==============================] - 0s 3ms/step - loss: 42.3549 - mse: 2525.6038\n",
      "Epoch 2/100\n",
      "2/2 [==============================] - 0s 3ms/step - loss: 32.3326 - mse: 1440.1359\n",
      "Epoch 3/100\n",
      "2/2 [==============================] - 0s 6ms/step - loss: 37.0688 - mse: 2048.6306\n",
      "Epoch 4/100\n",
      "2/2 [==============================] - 0s 3ms/step - loss: 25.1306 - mse: 913.5392\n",
      "Epoch 5/100\n",
      "2/2 [==============================] - 0s 2ms/step - loss: 14.8822 - mse: 277.0834\n",
      "Epoch 6/100\n",
      "2/2 [==============================] - 0s 6ms/step - loss: 11.8498 - mse: 166.4946\n",
      "Epoch 7/100\n",
      "2/2 [==============================] - 0s 4ms/step - loss: 11.1949 - mse: 151.9113\n",
      "Epoch 8/100\n",
      "2/2 [==============================] - 0s 5ms/step - loss: 11.1245 - mse: 160.4005\n",
      "Epoch 9/100\n",
      "2/2 [==============================] - 0s 4ms/step - loss: 40.6809 - mse: 2613.9114\n",
      "Epoch 10/100\n",
      "2/2 [==============================] - 0s 8ms/step - loss: 28.0469 - mse: 1108.8280\n",
      "Epoch 11/100\n",
      "2/2 [==============================] - 0s 5ms/step - loss: 10.2539 - mse: 148.7867\n",
      "Epoch 12/100\n",
      "2/2 [==============================] - 0s 8ms/step - loss: 25.2608 - mse: 889.5089\n",
      "Epoch 13/100\n",
      "2/2 [==============================] - 0s 4ms/step - loss: 17.0795 - mse: 405.2290\n",
      "Epoch 14/100\n",
      "2/2 [==============================] - 0s 4ms/step - loss: 26.0832 - mse: 1064.2218\n",
      "Epoch 15/100\n",
      "2/2 [==============================] - 0s 4ms/step - loss: 18.1266 - mse: 456.8273\n",
      "Epoch 16/100\n",
      "2/2 [==============================] - 0s 4ms/step - loss: 7.8630 - mse: 89.6939\n",
      "Epoch 17/100\n",
      "2/2 [==============================] - 0s 4ms/step - loss: 22.2390 - mse: 685.3594\n",
      "Epoch 18/100\n",
      "2/2 [==============================] - 0s 3ms/step - loss: 10.8347 - mse: 172.2188\n",
      "Epoch 19/100\n",
      "2/2 [==============================] - 0s 4ms/step - loss: 10.7226 - mse: 139.5516\n",
      "Epoch 20/100\n",
      "2/2 [==============================] - 0s 3ms/step - loss: 12.0442 - mse: 165.3900\n",
      "Epoch 21/100\n",
      "2/2 [==============================] - 0s 3ms/step - loss: 20.1521 - mse: 589.6065\n",
      "Epoch 22/100\n",
      "2/2 [==============================] - 0s 3ms/step - loss: 13.7907 - mse: 243.2480\n",
      "Epoch 23/100\n",
      "2/2 [==============================] - 0s 4ms/step - loss: 9.5393 - mse: 94.9778\n",
      "Epoch 24/100\n",
      "2/2 [==============================] - 0s 4ms/step - loss: 11.8957 - mse: 163.8857\n",
      "Epoch 25/100\n",
      "2/2 [==============================] - 0s 4ms/step - loss: 16.2044 - mse: 384.6380\n",
      "Epoch 26/100\n",
      "2/2 [==============================] - 0s 2ms/step - loss: 16.3969 - mse: 374.2254\n",
      "Epoch 27/100\n",
      "2/2 [==============================] - 0s 3ms/step - loss: 11.5874 - mse: 181.3174\n",
      "Epoch 28/100\n",
      "2/2 [==============================] - 0s 5ms/step - loss: 29.9720 - mse: 1464.6954\n",
      "Epoch 29/100\n",
      "2/2 [==============================] - 0s 4ms/step - loss: 9.2540 - mse: 92.6297\n",
      "Epoch 30/100\n",
      "2/2 [==============================] - 0s 4ms/step - loss: 30.5206 - mse: 1708.0807\n",
      "Epoch 31/100\n",
      "2/2 [==============================] - 0s 6ms/step - loss: 55.4805 - mse: 5521.9297\n",
      "Epoch 32/100\n",
      "2/2 [==============================] - 0s 4ms/step - loss: 9.7286 - mse: 103.3447\n",
      "Epoch 33/100\n",
      "2/2 [==============================] - 0s 4ms/step - loss: 12.3465 - mse: 194.4514\n",
      "Epoch 34/100\n",
      "2/2 [==============================] - 0s 3ms/step - loss: 24.6865 - mse: 926.7806\n",
      "Epoch 35/100\n",
      "2/2 [==============================] - 0s 4ms/step - loss: 11.9225 - mse: 211.4204\n",
      "Epoch 36/100\n",
      "2/2 [==============================] - 0s 2ms/step - loss: 22.1081 - mse: 696.0553\n",
      "Epoch 37/100\n",
      "2/2 [==============================] - 0s 6ms/step - loss: 17.5525 - mse: 440.1929\n",
      "Epoch 38/100\n",
      "2/2 [==============================] - 0s 4ms/step - loss: 10.7277 - mse: 133.4893\n",
      "Epoch 39/100\n",
      "2/2 [==============================] - 0s 4ms/step - loss: 11.2447 - mse: 166.6972\n",
      "Epoch 40/100\n",
      "2/2 [==============================] - 0s 5ms/step - loss: 18.2145 - mse: 479.1647\n",
      "Epoch 41/100\n",
      "2/2 [==============================] - 0s 4ms/step - loss: 10.4928 - mse: 181.9422\n",
      "Epoch 42/100\n",
      "2/2 [==============================] - 0s 2ms/step - loss: 7.8437 - mse: 83.4315\n",
      "Epoch 43/100\n",
      "2/2 [==============================] - 0s 2ms/step - loss: 14.2078 - mse: 290.9336\n",
      "Epoch 44/100\n",
      "2/2 [==============================] - 0s 3ms/step - loss: 24.9612 - mse: 988.6949\n",
      "Epoch 45/100\n",
      "2/2 [==============================] - 0s 3ms/step - loss: 10.9553 - mse: 138.0012\n",
      "Epoch 46/100\n",
      "2/2 [==============================] - 0s 3ms/step - loss: 13.0528 - mse: 243.8582\n",
      "Epoch 47/100\n",
      "2/2 [==============================] - 0s 5ms/step - loss: 10.4359 - mse: 172.0704\n",
      "Epoch 48/100\n",
      "2/2 [==============================] - 0s 5ms/step - loss: 17.1520 - mse: 398.8463\n",
      "Epoch 49/100\n",
      "2/2 [==============================] - 0s 4ms/step - loss: 9.6294 - mse: 101.1360\n",
      "Epoch 50/100\n",
      "2/2 [==============================] - 0s 3ms/step - loss: 13.9174 - mse: 266.0584\n",
      "Epoch 51/100\n",
      "2/2 [==============================] - 0s 2ms/step - loss: 11.6347 - mse: 156.4962\n",
      "Epoch 52/100\n",
      "2/2 [==============================] - 0s 3ms/step - loss: 30.7969 - mse: 1641.5029\n",
      "Epoch 53/100\n",
      "2/2 [==============================] - 0s 3ms/step - loss: 14.4613 - mse: 307.7661\n",
      "Epoch 54/100\n",
      "2/2 [==============================] - 0s 3ms/step - loss: 24.1589 - mse: 874.3959\n",
      "Epoch 55/100\n",
      "2/2 [==============================] - 0s 2ms/step - loss: 23.3988 - mse: 820.7614\n",
      "Epoch 56/100\n",
      "2/2 [==============================] - 0s 4ms/step - loss: 10.9512 - mse: 170.8576\n",
      "Epoch 57/100\n",
      "2/2 [==============================] - 0s 7ms/step - loss: 12.8355 - mse: 202.2840\n",
      "Epoch 58/100\n",
      "2/2 [==============================] - 0s 5ms/step - loss: 9.6514 - mse: 103.3381\n",
      "Epoch 59/100\n",
      "2/2 [==============================] - 0s 4ms/step - loss: 12.9987 - mse: 232.7809\n",
      "Epoch 60/100\n",
      "2/2 [==============================] - 0s 5ms/step - loss: 10.6880 - mse: 133.2749\n",
      "Epoch 61/100\n",
      "2/2 [==============================] - 0s 7ms/step - loss: 17.4526 - mse: 428.2155\n",
      "Epoch 62/100\n",
      "2/2 [==============================] - 0s 10ms/step - loss: 10.6032 - mse: 136.8983\n",
      "Epoch 63/100\n",
      "2/2 [==============================] - 0s 6ms/step - loss: 10.4885 - mse: 152.2594\n",
      "Epoch 64/100\n",
      "2/2 [==============================] - 0s 3ms/step - loss: 24.8339 - mse: 910.8787\n",
      "Epoch 65/100\n",
      "2/2 [==============================] - 0s 3ms/step - loss: 10.6752 - mse: 142.6050\n",
      "Epoch 66/100\n",
      "2/2 [==============================] - 0s 5ms/step - loss: 21.7716 - mse: 703.7504\n",
      "Epoch 67/100\n",
      "2/2 [==============================] - 0s 3ms/step - loss: 10.7120 - mse: 135.9237\n",
      "Epoch 68/100\n",
      "2/2 [==============================] - 0s 4ms/step - loss: 10.6389 - mse: 149.0672\n",
      "Epoch 69/100\n",
      "2/2 [==============================] - 0s 3ms/step - loss: 22.6802 - mse: 741.4147\n",
      "Epoch 70/100\n",
      "2/2 [==============================] - 0s 4ms/step - loss: 9.3346 - mse: 166.1267\n",
      "Epoch 71/100\n",
      "2/2 [==============================] - 0s 3ms/step - loss: 15.4399 - mse: 323.2536\n",
      "Epoch 72/100\n",
      "2/2 [==============================] - 0s 4ms/step - loss: 6.7457 - mse: 67.0927\n",
      "Epoch 73/100\n",
      "2/2 [==============================] - 0s 3ms/step - loss: 11.6883 - mse: 183.7812\n",
      "Epoch 74/100\n",
      "2/2 [==============================] - 0s 4ms/step - loss: 24.0296 - mse: 908.0622\n",
      "Epoch 75/100\n",
      "2/2 [==============================] - 0s 3ms/step - loss: 9.5884 - mse: 149.4685\n",
      "Epoch 76/100\n",
      "2/2 [==============================] - 0s 3ms/step - loss: 12.4354 - mse: 188.2425\n",
      "Epoch 77/100\n",
      "2/2 [==============================] - 0s 4ms/step - loss: 16.6424 - mse: 428.8804\n",
      "Epoch 78/100\n",
      "2/2 [==============================] - 0s 6ms/step - loss: 9.0619 - mse: 95.4347\n",
      "Epoch 79/100\n",
      "2/2 [==============================] - 0s 4ms/step - loss: 23.9590 - mse: 863.4020\n",
      "Epoch 80/100\n",
      "2/2 [==============================] - 0s 3ms/step - loss: 26.7362 - mse: 1103.4926\n",
      "Epoch 81/100\n",
      "2/2 [==============================] - 0s 16ms/step - loss: 11.6684 - mse: 170.5300\n",
      "Epoch 82/100\n",
      "2/2 [==============================] - 0s 4ms/step - loss: 12.0258 - mse: 211.9829\n",
      "Epoch 83/100\n",
      "2/2 [==============================] - 0s 6ms/step - loss: 17.4259 - mse: 395.7472\n",
      "Epoch 84/100\n",
      "2/2 [==============================] - 0s 3ms/step - loss: 7.2649 - mse: 73.1151\n",
      "Epoch 85/100\n",
      "2/2 [==============================] - 0s 4ms/step - loss: 14.9681 - mse: 312.9539\n",
      "Epoch 86/100\n",
      "2/2 [==============================] - 0s 3ms/step - loss: 15.2887 - mse: 315.4333\n",
      "Epoch 87/100\n",
      "2/2 [==============================] - 0s 3ms/step - loss: 19.1127 - mse: 521.4378\n",
      "Epoch 88/100\n",
      "2/2 [==============================] - 0s 4ms/step - loss: 29.8126 - mse: 1286.2428\n",
      "Epoch 89/100\n",
      "2/2 [==============================] - 0s 5ms/step - loss: 10.1741 - mse: 124.1525\n",
      "Epoch 90/100\n",
      "2/2 [==============================] - 0s 3ms/step - loss: 21.5161 - mse: 663.3673\n",
      "Epoch 91/100\n",
      "2/2 [==============================] - 0s 4ms/step - loss: 10.5711 - mse: 161.8029\n",
      "Epoch 92/100\n",
      "2/2 [==============================] - 0s 4ms/step - loss: 18.3912 - mse: 463.7822\n",
      "Epoch 93/100\n",
      "2/2 [==============================] - 0s 7ms/step - loss: 7.4145 - mse: 82.0529\n",
      "Epoch 94/100\n",
      "2/2 [==============================] - 0s 4ms/step - loss: 17.7324 - mse: 445.4436\n",
      "Epoch 95/100\n",
      "2/2 [==============================] - 0s 5ms/step - loss: 11.1133 - mse: 163.9604\n",
      "Epoch 96/100\n",
      "2/2 [==============================] - 0s 3ms/step - loss: 19.4294 - mse: 510.3089\n",
      "Epoch 97/100\n",
      "2/2 [==============================] - 0s 3ms/step - loss: 12.1577 - mse: 209.8267\n",
      "Epoch 98/100\n",
      "2/2 [==============================] - 0s 3ms/step - loss: 11.5644 - mse: 169.3345\n",
      "Epoch 99/100\n",
      "2/2 [==============================] - 0s 3ms/step - loss: 13.8801 - mse: 265.3245\n",
      "Epoch 100/100\n",
      "2/2 [==============================] - 0s 3ms/step - loss: 20.2220 - mse: 608.4575\n"
     ]
    },
    {
     "data": {
      "text/plain": [
       "<keras.callbacks.History at 0x22224c2eda0>"
      ]
     },
     "execution_count": 145,
     "metadata": {},
     "output_type": "execute_result"
    }
   ],
   "source": [
    "# Set random seed \n",
    "tf.random.set_seed(42)\n",
    "\n",
    "# Create the model\n",
    "model_2 = tf.keras.Sequential([\n",
    "    tf.keras.layers.Dense(100),\n",
    "    tf.keras.layers.Dense(1)\n",
    "])\n",
    "\n",
    "# Compile the model\n",
    "model_2.compile(loss=tf.keras.losses.mae,optimizer=tf.keras.optimizers.SGD(), metrics=[\"mse\"])\n",
    "\n",
    "# Fit the model\n",
    "model_2.fit(tf.expand_dims(X_train, axis=-1), Y_train, epochs=100)"
   ]
  },
  {
   "cell_type": "code",
   "execution_count": 146,
   "metadata": {},
   "outputs": [
    {
     "name": "stdout",
     "output_type": "stream",
     "text": [
      "1/1 [==============================] - 0s 49ms/step\n"
     ]
    },
    {
     "data": {
      "image/png": "[encoded data removed]",
      "text/plain": [
       "<Figure size 1000x700 with 1 Axes>"
      ]
     },
     "metadata": {},
     "output_type": "display_data"
    }
   ],
   "source": [
    "y_preds_2 = model_2.predict(X_test)\n",
    "plot_predictions(predictions=y_preds_2)"
   ]
  },
  {
   "cell_type": "code",
   "execution_count": 147,
   "metadata": {},
   "outputs": [
    {
     "data": {
      "text/plain": [
       "(<tf.Tensor: shape=(), dtype=float32, numpy=3.178576>,\n",
       " <tf.Tensor: shape=(), dtype=float32, numpy=12.945129>)"
      ]
     },
     "execution_count": 147,
     "metadata": {},
     "output_type": "execute_result"
    }
   ],
   "source": [
    "# Calculate model_1 evaluation metrics \n",
    "\n",
    "mae_2 = mae(Y_test, y_preds_2)\n",
    "\n",
    "mse_2 = mse(Y_test, y_preds_2)\n",
    "\n",
    "mae_2, mse_2"
   ]
  },
  {
   "cell_type": "markdown",
   "metadata": {},
   "source": [
    "**Build `model_3`**"
   ]
  },
  {
   "cell_type": "code",
   "execution_count": 116,
   "metadata": {},
   "outputs": [
    {
     "name": "stdout",
     "output_type": "stream",
     "text": [
      "Epoch 1/500\n",
      "2/2 [==============================] - 0s 4ms/step - loss: 52.8386 - mae: 52.8386\n",
      "Epoch 2/500\n",
      "2/2 [==============================] - 0s 4ms/step - loss: 23.1857 - mae: 23.1857\n",
      "Epoch 3/500\n",
      "2/2 [==============================] - 0s 5ms/step - loss: 18.3321 - mae: 18.3321\n",
      "Epoch 4/500\n",
      "2/2 [==============================] - 0s 4ms/step - loss: 13.3844 - mae: 13.3844\n",
      "Epoch 5/500\n",
      "2/2 [==============================] - 0s 4ms/step - loss: 14.7479 - mae: 14.7479\n",
      "Epoch 6/500\n",
      "2/2 [==============================] - 0s 6ms/step - loss: 11.7404 - mae: 11.7404\n",
      "Epoch 7/500\n",
      "2/2 [==============================] - 0s 6ms/step - loss: 11.0801 - mae: 11.0801\n",
      "Epoch 8/500\n",
      "2/2 [==============================] - 0s 12ms/step - loss: 11.0618 - mae: 11.0618\n",
      "Epoch 9/500\n",
      "2/2 [==============================] - 0s 6ms/step - loss: 40.0167 - mae: 40.0167\n",
      "Epoch 10/500\n",
      "2/2 [==============================] - 0s 2ms/step - loss: 27.4672 - mae: 27.4672\n",
      "Epoch 11/500\n",
      "2/2 [==============================] - 0s 5ms/step - loss: 10.2503 - mae: 10.2503\n",
      "Epoch 12/500\n",
      "2/2 [==============================] - 0s 6ms/step - loss: 25.4119 - mae: 25.4119\n",
      "Epoch 13/500\n",
      "2/2 [==============================] - 0s 7ms/step - loss: 16.8018 - mae: 16.8018\n",
      "Epoch 14/500\n",
      "2/2 [==============================] - 0s 6ms/step - loss: 25.5742 - mae: 25.5742\n",
      "Epoch 15/500\n",
      "2/2 [==============================] - 0s 11ms/step - loss: 17.4704 - mae: 17.4704\n",
      "Epoch 16/500\n",
      "2/2 [==============================] - 0s 8ms/step - loss: 10.0171 - mae: 10.0171\n",
      "Epoch 17/500\n",
      "2/2 [==============================] - 0s 5ms/step - loss: 18.4962 - mae: 18.4962\n",
      "Epoch 18/500\n",
      "2/2 [==============================] - 0s 7ms/step - loss: 11.3439 - mae: 11.3439\n",
      "Epoch 19/500\n",
      "2/2 [==============================] - 0s 7ms/step - loss: 13.9158 - mae: 13.9158\n",
      "Epoch 20/500\n",
      "2/2 [==============================] - 0s 5ms/step - loss: 11.1892 - mae: 11.1892\n",
      "Epoch 21/500\n",
      "2/2 [==============================] - 0s 12ms/step - loss: 17.2319 - mae: 17.2319\n",
      "Epoch 22/500\n",
      "2/2 [==============================] - 0s 7ms/step - loss: 15.4690 - mae: 15.4690\n",
      "Epoch 23/500\n",
      "2/2 [==============================] - 0s 5ms/step - loss: 9.2429 - mae: 9.2429\n",
      "Epoch 24/500\n",
      "2/2 [==============================] - 0s 6ms/step - loss: 17.2840 - mae: 17.2840\n",
      "Epoch 25/500\n",
      "2/2 [==============================] - 0s 7ms/step - loss: 15.9523 - mae: 15.9523\n",
      "Epoch 26/500\n",
      "2/2 [==============================] - 0s 9ms/step - loss: 20.9632 - mae: 20.9632\n",
      "Epoch 27/500\n",
      "2/2 [==============================] - 0s 3ms/step - loss: 25.8913 - mae: 25.8913\n",
      "Epoch 28/500\n",
      "2/2 [==============================] - 0s 8ms/step - loss: 18.3985 - mae: 18.3985\n",
      "Epoch 29/500\n",
      "2/2 [==============================] - 0s 4ms/step - loss: 9.2409 - mae: 9.2409\n",
      "Epoch 30/500\n",
      "2/2 [==============================] - 0s 6ms/step - loss: 29.0088 - mae: 29.0088\n",
      "Epoch 31/500\n",
      "2/2 [==============================] - 0s 7ms/step - loss: 52.5319 - mae: 52.5319\n",
      "Epoch 32/500\n",
      "2/2 [==============================] - 0s 6ms/step - loss: 11.8959 - mae: 11.8959\n",
      "Epoch 33/500\n",
      "2/2 [==============================] - 0s 5ms/step - loss: 15.4679 - mae: 15.4679\n",
      "Epoch 34/500\n",
      "2/2 [==============================] - 0s 10ms/step - loss: 12.5758 - mae: 12.5758\n",
      "Epoch 35/500\n",
      "2/2 [==============================] - 0s 13ms/step - loss: 9.1871 - mae: 9.1871\n",
      "Epoch 36/500\n",
      "2/2 [==============================] - 0s 7ms/step - loss: 16.4401 - mae: 16.4401\n",
      "Epoch 37/500\n",
      "2/2 [==============================] - 0s 6ms/step - loss: 11.0952 - mae: 11.0952\n",
      "Epoch 38/500\n",
      "2/2 [==============================] - 0s 4ms/step - loss: 18.2258 - mae: 18.2258\n",
      "Epoch 39/500\n",
      "2/2 [==============================] - 0s 6ms/step - loss: 19.1567 - mae: 19.1567\n",
      "Epoch 40/500\n",
      "2/2 [==============================] - 0s 6ms/step - loss: 20.5335 - mae: 20.5335\n",
      "Epoch 41/500\n",
      "2/2 [==============================] - 0s 4ms/step - loss: 14.7821 - mae: 14.7821\n",
      "Epoch 42/500\n",
      "2/2 [==============================] - 0s 8ms/step - loss: 12.1839 - mae: 12.1839\n",
      "Epoch 43/500\n",
      "2/2 [==============================] - 0s 6ms/step - loss: 10.6867 - mae: 10.6867\n",
      "Epoch 44/500\n",
      "2/2 [==============================] - 0s 4ms/step - loss: 32.2075 - mae: 32.2075\n",
      "Epoch 45/500\n",
      "2/2 [==============================] - 0s 5ms/step - loss: 12.4511 - mae: 12.4511\n",
      "Epoch 46/500\n",
      "2/2 [==============================] - 0s 5ms/step - loss: 17.4686 - mae: 17.4686\n",
      "Epoch 47/500\n",
      "2/2 [==============================] - 0s 8ms/step - loss: 15.7733 - mae: 15.7733\n",
      "Epoch 48/500\n",
      "2/2 [==============================] - 0s 7ms/step - loss: 8.3857 - mae: 8.3857\n",
      "Epoch 49/500\n",
      "2/2 [==============================] - 0s 9ms/step - loss: 14.0009 - mae: 14.0009\n",
      "Epoch 50/500\n",
      "2/2 [==============================] - 0s 6ms/step - loss: 12.8405 - mae: 12.8405\n",
      "Epoch 51/500\n",
      "2/2 [==============================] - 0s 6ms/step - loss: 14.8475 - mae: 14.8475\n",
      "Epoch 52/500\n",
      "2/2 [==============================] - 0s 9ms/step - loss: 18.7311 - mae: 18.7311\n",
      "Epoch 53/500\n",
      "2/2 [==============================] - 0s 5ms/step - loss: 24.1911 - mae: 24.1911\n",
      "Epoch 54/500\n",
      "2/2 [==============================] - 0s 7ms/step - loss: 23.1264 - mae: 23.1264\n",
      "Epoch 55/500\n",
      "2/2 [==============================] - 0s 6ms/step - loss: 23.9692 - mae: 23.9692\n",
      "Epoch 56/500\n",
      "2/2 [==============================] - 0s 5ms/step - loss: 11.1398 - mae: 11.1398\n",
      "Epoch 57/500\n",
      "2/2 [==============================] - 0s 6ms/step - loss: 13.0869 - mae: 13.0869\n",
      "Epoch 58/500\n",
      "2/2 [==============================] - 0s 6ms/step - loss: 9.7939 - mae: 9.7939\n",
      "Epoch 59/500\n",
      "2/2 [==============================] - 0s 5ms/step - loss: 13.2699 - mae: 13.2699\n",
      "Epoch 60/500\n",
      "2/2 [==============================] - 0s 8ms/step - loss: 10.8492 - mae: 10.8492\n",
      "Epoch 61/500\n",
      "2/2 [==============================] - 0s 7ms/step - loss: 13.4412 - mae: 13.4412\n",
      "Epoch 62/500\n",
      "2/2 [==============================] - 0s 3ms/step - loss: 17.4403 - mae: 17.4403\n",
      "Epoch 63/500\n",
      "2/2 [==============================] - 0s 5ms/step - loss: 9.1458 - mae: 9.1458\n",
      "Epoch 64/500\n",
      "2/2 [==============================] - 0s 4ms/step - loss: 18.3121 - mae: 18.3121\n",
      "Epoch 65/500\n",
      "2/2 [==============================] - 0s 6ms/step - loss: 10.1008 - mae: 10.1008\n",
      "Epoch 66/500\n",
      "2/2 [==============================] - 0s 12ms/step - loss: 24.1582 - mae: 24.1582\n",
      "Epoch 67/500\n",
      "2/2 [==============================] - 0s 6ms/step - loss: 10.8585 - mae: 10.8585\n",
      "Epoch 68/500\n",
      "2/2 [==============================] - 0s 8ms/step - loss: 10.7484 - mae: 10.7484\n",
      "Epoch 69/500\n",
      "2/2 [==============================] - 0s 13ms/step - loss: 23.1337 - mae: 23.1337\n",
      "Epoch 70/500\n",
      "2/2 [==============================] - 0s 5ms/step - loss: 8.8343 - mae: 8.8343\n",
      "Epoch 71/500\n",
      "2/2 [==============================] - 0s 4ms/step - loss: 16.0573 - mae: 16.0573\n",
      "Epoch 72/500\n",
      "2/2 [==============================] - 0s 3ms/step - loss: 7.7506 - mae: 7.7506\n",
      "Epoch 73/500\n",
      "2/2 [==============================] - 0s 6ms/step - loss: 10.1569 - mae: 10.1569\n",
      "Epoch 74/500\n",
      "2/2 [==============================] - 0s 6ms/step - loss: 28.3334 - mae: 28.3334\n",
      "Epoch 75/500\n",
      "2/2 [==============================] - 0s 7ms/step - loss: 10.0073 - mae: 10.0073\n",
      "Epoch 76/500\n",
      "2/2 [==============================] - 0s 4ms/step - loss: 12.9227 - mae: 12.9227\n",
      "Epoch 77/500\n",
      "2/2 [==============================] - 0s 4ms/step - loss: 17.8853 - mae: 17.8853\n",
      "Epoch 78/500\n",
      "2/2 [==============================] - 0s 5ms/step - loss: 8.9617 - mae: 8.9617\n",
      "Epoch 79/500\n",
      "2/2 [==============================] - 0s 3ms/step - loss: 28.7109 - mae: 28.7109\n",
      "Epoch 80/500\n",
      "2/2 [==============================] - 0s 10ms/step - loss: 31.0470 - mae: 31.0470\n",
      "Epoch 81/500\n",
      "2/2 [==============================] - 0s 3ms/step - loss: 13.4099 - mae: 13.4099\n",
      "Epoch 82/500\n",
      "2/2 [==============================] - 0s 4ms/step - loss: 14.5165 - mae: 14.5165\n",
      "Epoch 83/500\n",
      "2/2 [==============================] - 0s 4ms/step - loss: 18.5356 - mae: 18.5356\n",
      "Epoch 84/500\n",
      "2/2 [==============================] - 0s 4ms/step - loss: 8.8124 - mae: 8.8124\n",
      "Epoch 85/500\n",
      "2/2 [==============================] - 0s 10ms/step - loss: 18.4105 - mae: 18.4105\n",
      "Epoch 86/500\n",
      "2/2 [==============================] - 0s 5ms/step - loss: 22.5660 - mae: 22.5660\n",
      "Epoch 87/500\n",
      "2/2 [==============================] - 0s 5ms/step - loss: 11.3708 - mae: 11.3708\n",
      "Epoch 88/500\n",
      "2/2 [==============================] - 0s 3ms/step - loss: 26.5893 - mae: 26.5893\n",
      "Epoch 89/500\n",
      "2/2 [==============================] - 0s 6ms/step - loss: 9.6559 - mae: 9.6559\n",
      "Epoch 90/500\n",
      "2/2 [==============================] - 0s 4ms/step - loss: 18.7368 - mae: 18.7368\n",
      "Epoch 91/500\n",
      "2/2 [==============================] - 0s 5ms/step - loss: 10.4897 - mae: 10.4897\n",
      "Epoch 92/500\n",
      "2/2 [==============================] - 0s 2ms/step - loss: 17.9618 - mae: 17.9618\n",
      "Epoch 93/500\n",
      "2/2 [==============================] - 0s 4ms/step - loss: 6.5870 - mae: 6.5870\n",
      "Epoch 94/500\n",
      "2/2 [==============================] - 0s 3ms/step - loss: 11.1366 - mae: 11.1366\n",
      "Epoch 95/500\n",
      "2/2 [==============================] - 0s 6ms/step - loss: 24.2985 - mae: 24.2985\n",
      "Epoch 96/500\n",
      "2/2 [==============================] - 0s 4ms/step - loss: 10.7402 - mae: 10.7402\n",
      "Epoch 97/500\n",
      "2/2 [==============================] - 0s 3ms/step - loss: 15.3140 - mae: 15.3140\n",
      "Epoch 98/500\n",
      "2/2 [==============================] - 0s 3ms/step - loss: 8.2585 - mae: 8.2585\n",
      "Epoch 99/500\n",
      "2/2 [==============================] - 0s 5ms/step - loss: 16.4718 - mae: 16.4718\n",
      "Epoch 100/500\n",
      "2/2 [==============================] - 0s 4ms/step - loss: 13.8789 - mae: 13.8789\n",
      "Epoch 101/500\n",
      "2/2 [==============================] - 0s 4ms/step - loss: 17.8275 - mae: 17.8275\n",
      "Epoch 102/500\n",
      "2/2 [==============================] - 0s 5ms/step - loss: 11.0221 - mae: 11.0221\n",
      "Epoch 103/500\n",
      "2/2 [==============================] - 0s 6ms/step - loss: 9.2861 - mae: 9.2861\n",
      "Epoch 104/500\n",
      "2/2 [==============================] - 0s 7ms/step - loss: 24.3793 - mae: 24.3793\n",
      "Epoch 105/500\n",
      "2/2 [==============================] - 0s 7ms/step - loss: 11.4075 - mae: 11.4075\n",
      "Epoch 106/500\n",
      "2/2 [==============================] - 0s 4ms/step - loss: 9.9825 - mae: 9.9825\n",
      "Epoch 107/500\n",
      "2/2 [==============================] - 0s 5ms/step - loss: 21.7972 - mae: 21.7972\n",
      "Epoch 108/500\n",
      "2/2 [==============================] - 0s 5ms/step - loss: 8.0178 - mae: 8.0178\n",
      "Epoch 109/500\n",
      "2/2 [==============================] - 0s 4ms/step - loss: 12.3547 - mae: 12.3547\n",
      "Epoch 110/500\n",
      "2/2 [==============================] - 0s 3ms/step - loss: 10.2969 - mae: 10.2969\n",
      "Epoch 111/500\n",
      "2/2 [==============================] - 0s 4ms/step - loss: 16.1133 - mae: 16.1133\n",
      "Epoch 112/500\n",
      "2/2 [==============================] - 0s 4ms/step - loss: 9.3504 - mae: 9.3504\n",
      "Epoch 113/500\n",
      "2/2 [==============================] - 0s 3ms/step - loss: 16.6490 - mae: 16.6490\n",
      "Epoch 114/500\n",
      "2/2 [==============================] - 0s 5ms/step - loss: 18.1275 - mae: 18.1275\n",
      "Epoch 115/500\n",
      "2/2 [==============================] - 0s 4ms/step - loss: 10.8232 - mae: 10.8232\n",
      "Epoch 116/500\n",
      "2/2 [==============================] - 0s 6ms/step - loss: 22.0419 - mae: 22.0419\n",
      "Epoch 117/500\n",
      "2/2 [==============================] - 0s 4ms/step - loss: 9.2477 - mae: 9.2477\n",
      "Epoch 118/500\n",
      "2/2 [==============================] - 0s 3ms/step - loss: 10.2508 - mae: 10.2508\n",
      "Epoch 119/500\n",
      "2/2 [==============================] - 0s 5ms/step - loss: 8.0394 - mae: 8.0394\n",
      "Epoch 120/500\n",
      "2/2 [==============================] - 0s 5ms/step - loss: 46.5120 - mae: 46.5120\n",
      "Epoch 121/500\n",
      "2/2 [==============================] - 0s 4ms/step - loss: 12.1594 - mae: 12.1594\n",
      "Epoch 122/500\n",
      "2/2 [==============================] - 0s 5ms/step - loss: 23.1795 - mae: 23.1795\n",
      "Epoch 123/500\n",
      "2/2 [==============================] - 0s 4ms/step - loss: 27.9415 - mae: 27.9415\n",
      "Epoch 124/500\n",
      "2/2 [==============================] - 0s 6ms/step - loss: 15.6692 - mae: 15.6692\n",
      "Epoch 125/500\n",
      "2/2 [==============================] - 0s 2ms/step - loss: 8.4153 - mae: 8.4153\n",
      "Epoch 126/500\n",
      "2/2 [==============================] - 0s 4ms/step - loss: 11.2731 - mae: 11.2731\n",
      "Epoch 127/500\n",
      "2/2 [==============================] - 0s 7ms/step - loss: 17.5541 - mae: 17.5541\n",
      "Epoch 128/500\n",
      "2/2 [==============================] - 0s 10ms/step - loss: 11.0562 - mae: 11.0562\n",
      "Epoch 129/500\n",
      "2/2 [==============================] - 0s 13ms/step - loss: 19.7075 - mae: 19.7075\n",
      "Epoch 130/500\n",
      "2/2 [==============================] - 0s 4ms/step - loss: 10.2050 - mae: 10.2050\n",
      "Epoch 131/500\n",
      "2/2 [==============================] - 0s 6ms/step - loss: 21.3552 - mae: 21.3552\n",
      "Epoch 132/500\n",
      "2/2 [==============================] - 0s 6ms/step - loss: 8.2387 - mae: 8.2387\n",
      "Epoch 133/500\n",
      "2/2 [==============================] - 0s 7ms/step - loss: 9.0228 - mae: 9.0228\n",
      "Epoch 134/500\n",
      "2/2 [==============================] - 0s 5ms/step - loss: 16.4029 - mae: 16.4029\n",
      "Epoch 135/500\n",
      "2/2 [==============================] - 0s 6ms/step - loss: 11.3240 - mae: 11.3240\n",
      "Epoch 136/500\n",
      "2/2 [==============================] - 0s 4ms/step - loss: 20.3322 - mae: 20.3322\n",
      "Epoch 137/500\n",
      "2/2 [==============================] - 0s 5ms/step - loss: 23.8002 - mae: 23.8002\n",
      "Epoch 138/500\n",
      "2/2 [==============================] - 0s 4ms/step - loss: 9.4231 - mae: 9.4231\n",
      "Epoch 139/500\n",
      "2/2 [==============================] - 0s 3ms/step - loss: 9.1104 - mae: 9.1104\n",
      "Epoch 140/500\n",
      "2/2 [==============================] - 0s 4ms/step - loss: 17.1533 - mae: 17.1533\n",
      "Epoch 141/500\n",
      "2/2 [==============================] - 0s 3ms/step - loss: 8.3736 - mae: 8.3736\n",
      "Epoch 142/500\n",
      "2/2 [==============================] - 0s 8ms/step - loss: 34.2719 - mae: 34.2719\n",
      "Epoch 143/500\n",
      "2/2 [==============================] - 0s 6ms/step - loss: 23.3145 - mae: 23.3145\n",
      "Epoch 144/500\n",
      "2/2 [==============================] - 0s 4ms/step - loss: 10.4994 - mae: 10.4994\n",
      "Epoch 145/500\n",
      "2/2 [==============================] - 0s 5ms/step - loss: 25.8566 - mae: 25.8566\n",
      "Epoch 146/500\n",
      "2/2 [==============================] - 0s 4ms/step - loss: 9.9440 - mae: 9.9440\n",
      "Epoch 147/500\n",
      "2/2 [==============================] - 0s 5ms/step - loss: 14.7584 - mae: 14.7584\n",
      "Epoch 148/500\n",
      "2/2 [==============================] - 0s 12ms/step - loss: 17.8761 - mae: 17.8761\n",
      "Epoch 149/500\n",
      "2/2 [==============================] - 0s 10ms/step - loss: 8.4465 - mae: 8.4465\n",
      "Epoch 150/500\n",
      "2/2 [==============================] - 0s 7ms/step - loss: 7.6293 - mae: 7.6293\n",
      "Epoch 151/500\n",
      "2/2 [==============================] - 0s 4ms/step - loss: 18.7816 - mae: 18.7816\n",
      "Epoch 152/500\n",
      "2/2 [==============================] - 0s 3ms/step - loss: 10.4637 - mae: 10.4637\n",
      "Epoch 153/500\n",
      "2/2 [==============================] - 0s 6ms/step - loss: 30.2624 - mae: 30.2624\n",
      "Epoch 154/500\n",
      "2/2 [==============================] - 0s 4ms/step - loss: 10.0209 - mae: 10.0209\n",
      "Epoch 155/500\n",
      "2/2 [==============================] - 0s 4ms/step - loss: 15.7695 - mae: 15.7695\n",
      "Epoch 156/500\n",
      "2/2 [==============================] - 0s 5ms/step - loss: 17.7113 - mae: 17.7113\n",
      "Epoch 157/500\n",
      "2/2 [==============================] - 0s 4ms/step - loss: 31.0097 - mae: 31.0097\n",
      "Epoch 158/500\n",
      "2/2 [==============================] - 0s 5ms/step - loss: 10.2019 - mae: 10.2019\n",
      "Epoch 159/500\n",
      "2/2 [==============================] - 0s 10ms/step - loss: 8.6918 - mae: 8.6918\n",
      "Epoch 160/500\n",
      "2/2 [==============================] - 0s 5ms/step - loss: 20.6690 - mae: 20.6690\n",
      "Epoch 161/500\n",
      "2/2 [==============================] - 0s 6ms/step - loss: 11.7932 - mae: 11.7932\n",
      "Epoch 162/500\n",
      "2/2 [==============================] - 0s 10ms/step - loss: 21.6443 - mae: 21.6443\n",
      "Epoch 163/500\n",
      "2/2 [==============================] - 0s 11ms/step - loss: 19.3233 - mae: 19.3233\n",
      "Epoch 164/500\n",
      "2/2 [==============================] - 0s 8ms/step - loss: 11.0999 - mae: 11.0999\n",
      "Epoch 165/500\n",
      "2/2 [==============================] - 0s 6ms/step - loss: 9.6380 - mae: 9.6380\n",
      "Epoch 166/500\n",
      "2/2 [==============================] - 0s 4ms/step - loss: 21.5904 - mae: 21.5904\n",
      "Epoch 167/500\n",
      "2/2 [==============================] - 0s 4ms/step - loss: 26.3043 - mae: 26.3043\n",
      "Epoch 168/500\n",
      "2/2 [==============================] - 0s 5ms/step - loss: 9.9150 - mae: 9.9150\n",
      "Epoch 169/500\n",
      "2/2 [==============================] - 0s 5ms/step - loss: 22.5372 - mae: 22.5372\n",
      "Epoch 170/500\n",
      "2/2 [==============================] - 0s 5ms/step - loss: 10.1849 - mae: 10.1849\n",
      "Epoch 171/500\n",
      "2/2 [==============================] - 0s 3ms/step - loss: 18.0750 - mae: 18.0750\n",
      "Epoch 172/500\n",
      "2/2 [==============================] - 0s 5ms/step - loss: 28.7758 - mae: 28.7758\n",
      "Epoch 173/500\n",
      "2/2 [==============================] - 0s 34ms/step - loss: 16.4976 - mae: 16.4976\n",
      "Epoch 174/500\n",
      "2/2 [==============================] - 0s 8ms/step - loss: 11.2445 - mae: 11.2445\n",
      "Epoch 175/500\n",
      "2/2 [==============================] - 0s 5ms/step - loss: 27.6059 - mae: 27.6059\n",
      "Epoch 176/500\n",
      "2/2 [==============================] - 0s 10ms/step - loss: 8.3003 - mae: 8.3003\n",
      "Epoch 177/500\n",
      "2/2 [==============================] - 0s 4ms/step - loss: 9.2972 - mae: 9.2972\n",
      "Epoch 178/500\n",
      "2/2 [==============================] - 0s 3ms/step - loss: 18.0580 - mae: 18.0580\n",
      "Epoch 179/500\n",
      "2/2 [==============================] - 0s 5ms/step - loss: 10.6563 - mae: 10.6563\n",
      "Epoch 180/500\n",
      "2/2 [==============================] - 0s 3ms/step - loss: 7.9353 - mae: 7.9353\n",
      "Epoch 181/500\n",
      "2/2 [==============================] - 0s 8ms/step - loss: 17.2998 - mae: 17.2998\n",
      "Epoch 182/500\n",
      "2/2 [==============================] - 0s 6ms/step - loss: 11.0141 - mae: 11.0141\n",
      "Epoch 183/500\n",
      "2/2 [==============================] - 0s 3ms/step - loss: 11.6626 - mae: 11.6626\n",
      "Epoch 184/500\n",
      "2/2 [==============================] - 0s 5ms/step - loss: 30.1770 - mae: 30.1770\n",
      "Epoch 185/500\n",
      "2/2 [==============================] - 0s 7ms/step - loss: 8.2289 - mae: 8.2289\n",
      "Epoch 186/500\n",
      "2/2 [==============================] - 0s 6ms/step - loss: 18.7283 - mae: 18.7283\n",
      "Epoch 187/500\n",
      "2/2 [==============================] - 0s 3ms/step - loss: 8.8143 - mae: 8.8143\n",
      "Epoch 188/500\n",
      "2/2 [==============================] - 0s 5ms/step - loss: 23.7187 - mae: 23.7187\n",
      "Epoch 189/500\n",
      "2/2 [==============================] - 0s 4ms/step - loss: 9.4076 - mae: 9.4076\n",
      "Epoch 190/500\n",
      "2/2 [==============================] - 0s 7ms/step - loss: 17.0505 - mae: 17.0505\n",
      "Epoch 191/500\n",
      "2/2 [==============================] - 0s 6ms/step - loss: 8.6236 - mae: 8.6236\n",
      "Epoch 192/500\n",
      "2/2 [==============================] - 0s 5ms/step - loss: 15.1971 - mae: 15.1971\n",
      "Epoch 193/500\n",
      "2/2 [==============================] - 0s 5ms/step - loss: 30.0407 - mae: 30.0407\n",
      "Epoch 194/500\n",
      "2/2 [==============================] - 0s 6ms/step - loss: 9.6866 - mae: 9.6866\n",
      "Epoch 195/500\n",
      "2/2 [==============================] - 0s 3ms/step - loss: 12.0452 - mae: 12.0452\n",
      "Epoch 196/500\n",
      "2/2 [==============================] - 0s 11ms/step - loss: 23.4212 - mae: 23.4212\n",
      "Epoch 197/500\n",
      "2/2 [==============================] - 0s 6ms/step - loss: 17.8012 - mae: 17.8012\n",
      "Epoch 198/500\n",
      "2/2 [==============================] - 0s 11ms/step - loss: 12.6004 - mae: 12.6004\n",
      "Epoch 199/500\n",
      "2/2 [==============================] - 0s 4ms/step - loss: 18.0562 - mae: 18.0562\n",
      "Epoch 200/500\n",
      "2/2 [==============================] - 0s 5ms/step - loss: 13.8887 - mae: 13.8887\n",
      "Epoch 201/500\n",
      "2/2 [==============================] - 0s 5ms/step - loss: 6.1118 - mae: 6.1118\n",
      "Epoch 202/500\n",
      "2/2 [==============================] - 0s 3ms/step - loss: 22.8443 - mae: 22.8443\n",
      "Epoch 203/500\n",
      "2/2 [==============================] - 0s 4ms/step - loss: 9.0237 - mae: 9.0237\n",
      "Epoch 204/500\n",
      "2/2 [==============================] - 0s 4ms/step - loss: 18.7926 - mae: 18.7926\n",
      "Epoch 205/500\n",
      "2/2 [==============================] - 0s 4ms/step - loss: 9.4093 - mae: 9.4093\n",
      "Epoch 206/500\n",
      "2/2 [==============================] - 0s 2ms/step - loss: 10.4726 - mae: 10.4726\n",
      "Epoch 207/500\n",
      "2/2 [==============================] - 0s 4ms/step - loss: 20.9780 - mae: 20.9780\n",
      "Epoch 208/500\n",
      "2/2 [==============================] - 0s 6ms/step - loss: 16.4180 - mae: 16.4180\n",
      "Epoch 209/500\n",
      "2/2 [==============================] - 0s 5ms/step - loss: 14.2854 - mae: 14.2854\n",
      "Epoch 210/500\n",
      "2/2 [==============================] - 0s 3ms/step - loss: 17.2306 - mae: 17.2306\n",
      "Epoch 211/500\n",
      "2/2 [==============================] - 0s 4ms/step - loss: 10.2804 - mae: 10.2804\n",
      "Epoch 212/500\n",
      "2/2 [==============================] - 0s 6ms/step - loss: 19.6701 - mae: 19.6701\n",
      "Epoch 213/500\n",
      "2/2 [==============================] - 0s 3ms/step - loss: 14.7156 - mae: 14.7156\n",
      "Epoch 214/500\n",
      "2/2 [==============================] - 0s 6ms/step - loss: 14.3874 - mae: 14.3874\n",
      "Epoch 215/500\n",
      "2/2 [==============================] - 0s 3ms/step - loss: 22.9023 - mae: 22.9023\n",
      "Epoch 216/500\n",
      "2/2 [==============================] - 0s 12ms/step - loss: 13.8630 - mae: 13.8630\n",
      "Epoch 217/500\n",
      "2/2 [==============================] - 0s 6ms/step - loss: 10.3169 - mae: 10.3169\n",
      "Epoch 218/500\n",
      "2/2 [==============================] - 0s 4ms/step - loss: 12.2965 - mae: 12.2965\n",
      "Epoch 219/500\n",
      "2/2 [==============================] - 0s 4ms/step - loss: 6.5794 - mae: 6.5794\n",
      "Epoch 220/500\n",
      "2/2 [==============================] - 0s 4ms/step - loss: 7.1791 - mae: 7.1791\n",
      "Epoch 221/500\n",
      "2/2 [==============================] - 0s 5ms/step - loss: 37.3726 - mae: 37.3726\n",
      "Epoch 222/500\n",
      "2/2 [==============================] - 0s 5ms/step - loss: 37.1556 - mae: 37.1556\n",
      "Epoch 223/500\n",
      "2/2 [==============================] - 0s 22ms/step - loss: 6.6874 - mae: 6.6874\n",
      "Epoch 224/500\n",
      "2/2 [==============================] - 0s 6ms/step - loss: 13.8503 - mae: 13.8503\n",
      "Epoch 225/500\n",
      "2/2 [==============================] - 0s 21ms/step - loss: 16.0268 - mae: 16.0268\n",
      "Epoch 226/500\n",
      "2/2 [==============================] - 0s 3ms/step - loss: 15.2407 - mae: 15.2407\n",
      "Epoch 227/500\n",
      "2/2 [==============================] - 0s 4ms/step - loss: 15.5736 - mae: 15.5736\n",
      "Epoch 228/500\n",
      "2/2 [==============================] - 0s 7ms/step - loss: 13.6328 - mae: 13.6328\n",
      "Epoch 229/500\n",
      "2/2 [==============================] - 0s 3ms/step - loss: 17.7223 - mae: 17.7223\n",
      "Epoch 230/500\n",
      "2/2 [==============================] - 0s 3ms/step - loss: 15.2101 - mae: 15.2101\n",
      "Epoch 231/500\n",
      "2/2 [==============================] - 0s 3ms/step - loss: 21.1127 - mae: 21.1127\n",
      "Epoch 232/500\n",
      "2/2 [==============================] - 0s 4ms/step - loss: 25.2164 - mae: 25.2164\n",
      "Epoch 233/500\n",
      "2/2 [==============================] - 0s 5ms/step - loss: 16.2888 - mae: 16.2888\n",
      "Epoch 234/500\n",
      "2/2 [==============================] - 0s 7ms/step - loss: 7.3351 - mae: 7.3351\n",
      "Epoch 235/500\n",
      "2/2 [==============================] - 0s 5ms/step - loss: 16.9175 - mae: 16.9175\n",
      "Epoch 236/500\n",
      "2/2 [==============================] - 0s 4ms/step - loss: 7.1648 - mae: 7.1648\n",
      "Epoch 237/500\n",
      "2/2 [==============================] - 0s 5ms/step - loss: 9.2232 - mae: 9.2232\n",
      "Epoch 238/500\n",
      "2/2 [==============================] - 0s 4ms/step - loss: 8.1368 - mae: 8.1368\n",
      "Epoch 239/500\n",
      "2/2 [==============================] - 0s 5ms/step - loss: 16.8760 - mae: 16.8760\n",
      "Epoch 240/500\n",
      "2/2 [==============================] - 0s 6ms/step - loss: 8.8635 - mae: 8.8635\n",
      "Epoch 241/500\n",
      "2/2 [==============================] - 0s 14ms/step - loss: 12.6962 - mae: 12.6962\n",
      "Epoch 242/500\n",
      "2/2 [==============================] - 0s 5ms/step - loss: 10.8495 - mae: 10.8495\n",
      "Epoch 243/500\n",
      "2/2 [==============================] - 0s 6ms/step - loss: 17.1268 - mae: 17.1268\n",
      "Epoch 244/500\n",
      "2/2 [==============================] - 0s 5ms/step - loss: 14.5864 - mae: 14.5864\n",
      "Epoch 245/500\n",
      "2/2 [==============================] - 0s 10ms/step - loss: 15.1478 - mae: 15.1478\n",
      "Epoch 246/500\n",
      "2/2 [==============================] - 0s 4ms/step - loss: 16.2502 - mae: 16.2502\n",
      "Epoch 247/500\n",
      "2/2 [==============================] - 0s 8ms/step - loss: 18.2692 - mae: 18.2692\n",
      "Epoch 248/500\n",
      "2/2 [==============================] - 0s 6ms/step - loss: 13.7956 - mae: 13.7956\n",
      "Epoch 249/500\n",
      "2/2 [==============================] - 0s 4ms/step - loss: 14.8770 - mae: 14.8770\n",
      "Epoch 250/500\n",
      "2/2 [==============================] - 0s 6ms/step - loss: 18.5944 - mae: 18.5944\n",
      "Epoch 251/500\n",
      "2/2 [==============================] - 0s 5ms/step - loss: 13.8737 - mae: 13.8737\n",
      "Epoch 252/500\n",
      "2/2 [==============================] - 0s 3ms/step - loss: 29.4730 - mae: 29.4730\n",
      "Epoch 253/500\n",
      "2/2 [==============================] - 0s 6ms/step - loss: 8.2783 - mae: 8.2783\n",
      "Epoch 254/500\n",
      "2/2 [==============================] - 0s 3ms/step - loss: 11.7420 - mae: 11.7420\n",
      "Epoch 255/500\n",
      "2/2 [==============================] - 0s 6ms/step - loss: 15.6590 - mae: 15.6590\n",
      "Epoch 256/500\n",
      "2/2 [==============================] - 0s 5ms/step - loss: 9.8153 - mae: 9.8153\n",
      "Epoch 257/500\n",
      "2/2 [==============================] - 0s 5ms/step - loss: 14.3507 - mae: 14.3507\n",
      "Epoch 258/500\n",
      "2/2 [==============================] - 0s 4ms/step - loss: 5.8546 - mae: 5.8546\n",
      "Epoch 259/500\n",
      "2/2 [==============================] - 0s 4ms/step - loss: 14.9107 - mae: 14.9107\n",
      "Epoch 260/500\n",
      "2/2 [==============================] - 0s 4ms/step - loss: 7.1504 - mae: 7.1504\n",
      "Epoch 261/500\n",
      "2/2 [==============================] - 0s 4ms/step - loss: 19.9005 - mae: 19.9005\n",
      "Epoch 262/500\n",
      "2/2 [==============================] - 0s 7ms/step - loss: 7.3639 - mae: 7.3639\n",
      "Epoch 263/500\n",
      "2/2 [==============================] - 0s 7ms/step - loss: 13.3413 - mae: 13.3413\n",
      "Epoch 264/500\n",
      "2/2 [==============================] - 0s 4ms/step - loss: 20.2925 - mae: 20.2925\n",
      "Epoch 265/500\n",
      "2/2 [==============================] - 0s 5ms/step - loss: 9.6853 - mae: 9.6853\n",
      "Epoch 266/500\n",
      "2/2 [==============================] - 0s 3ms/step - loss: 7.7907 - mae: 7.7907\n",
      "Epoch 267/500\n",
      "2/2 [==============================] - 0s 7ms/step - loss: 7.5916 - mae: 7.5916\n",
      "Epoch 268/500\n",
      "2/2 [==============================] - 0s 5ms/step - loss: 18.1896 - mae: 18.1896\n",
      "Epoch 269/500\n",
      "2/2 [==============================] - 0s 4ms/step - loss: 21.3555 - mae: 21.3555\n",
      "Epoch 270/500\n",
      "2/2 [==============================] - 0s 31ms/step - loss: 4.6267 - mae: 4.6267\n",
      "Epoch 271/500\n",
      "2/2 [==============================] - 0s 5ms/step - loss: 9.9270 - mae: 9.9270\n",
      "Epoch 272/500\n",
      "2/2 [==============================] - 0s 17ms/step - loss: 19.5369 - mae: 19.5369\n",
      "Epoch 273/500\n",
      "2/2 [==============================] - 0s 5ms/step - loss: 6.3869 - mae: 6.3869\n",
      "Epoch 274/500\n",
      "2/2 [==============================] - 0s 7ms/step - loss: 14.6913 - mae: 14.6913\n",
      "Epoch 275/500\n",
      "2/2 [==============================] - 0s 3ms/step - loss: 30.6096 - mae: 30.6096\n",
      "Epoch 276/500\n",
      "2/2 [==============================] - 0s 8ms/step - loss: 11.4906 - mae: 11.4906\n",
      "Epoch 277/500\n",
      "2/2 [==============================] - 0s 8ms/step - loss: 29.6300 - mae: 29.6300\n",
      "Epoch 278/500\n",
      "2/2 [==============================] - 0s 5ms/step - loss: 9.6549 - mae: 9.6549\n",
      "Epoch 279/500\n",
      "2/2 [==============================] - 0s 5ms/step - loss: 16.0348 - mae: 16.0348\n",
      "Epoch 280/500\n",
      "2/2 [==============================] - 0s 5ms/step - loss: 21.0775 - mae: 21.0775\n",
      "Epoch 281/500\n",
      "2/2 [==============================] - 0s 6ms/step - loss: 18.1587 - mae: 18.1587\n",
      "Epoch 282/500\n",
      "2/2 [==============================] - 0s 4ms/step - loss: 6.9236 - mae: 6.9236\n",
      "Epoch 283/500\n",
      "2/2 [==============================] - 0s 6ms/step - loss: 8.1076 - mae: 8.1076\n",
      "Epoch 284/500\n",
      "2/2 [==============================] - 0s 3ms/step - loss: 24.6807 - mae: 24.6807\n",
      "Epoch 285/500\n",
      "2/2 [==============================] - 0s 4ms/step - loss: 13.4946 - mae: 13.4946\n",
      "Epoch 286/500\n",
      "2/2 [==============================] - 0s 9ms/step - loss: 7.7747 - mae: 7.7747\n",
      "Epoch 287/500\n",
      "2/2 [==============================] - 0s 7ms/step - loss: 23.4138 - mae: 23.4138\n",
      "Epoch 288/500\n",
      "2/2 [==============================] - 0s 6ms/step - loss: 23.4841 - mae: 23.4841\n",
      "Epoch 289/500\n",
      "2/2 [==============================] - 0s 5ms/step - loss: 12.0315 - mae: 12.0315\n",
      "Epoch 290/500\n",
      "2/2 [==============================] - 0s 3ms/step - loss: 16.6009 - mae: 16.6009\n",
      "Epoch 291/500\n",
      "2/2 [==============================] - 0s 5ms/step - loss: 16.8841 - mae: 16.8841\n",
      "Epoch 292/500\n",
      "2/2 [==============================] - 0s 3ms/step - loss: 9.5211 - mae: 9.5211\n",
      "Epoch 293/500\n",
      "2/2 [==============================] - 0s 13ms/step - loss: 15.3177 - mae: 15.3177\n",
      "Epoch 294/500\n",
      "2/2 [==============================] - 0s 4ms/step - loss: 22.8076 - mae: 22.8076\n",
      "Epoch 295/500\n",
      "2/2 [==============================] - 0s 3ms/step - loss: 17.7310 - mae: 17.7310\n",
      "Epoch 296/500\n",
      "2/2 [==============================] - 0s 5ms/step - loss: 6.1053 - mae: 6.1053\n",
      "Epoch 297/500\n",
      "2/2 [==============================] - 0s 3ms/step - loss: 10.9841 - mae: 10.9841\n",
      "Epoch 298/500\n",
      "2/2 [==============================] - 0s 3ms/step - loss: 23.2401 - mae: 23.2401\n",
      "Epoch 299/500\n",
      "2/2 [==============================] - 0s 5ms/step - loss: 17.5421 - mae: 17.5421\n",
      "Epoch 300/500\n",
      "2/2 [==============================] - 0s 3ms/step - loss: 6.9559 - mae: 6.9559\n",
      "Epoch 301/500\n",
      "2/2 [==============================] - 0s 3ms/step - loss: 24.9590 - mae: 24.9590\n",
      "Epoch 302/500\n",
      "2/2 [==============================] - 0s 3ms/step - loss: 8.8345 - mae: 8.8345\n",
      "Epoch 303/500\n",
      "2/2 [==============================] - 0s 7ms/step - loss: 17.5828 - mae: 17.5828\n",
      "Epoch 304/500\n",
      "2/2 [==============================] - 0s 4ms/step - loss: 10.9148 - mae: 10.9148\n",
      "Epoch 305/500\n",
      "2/2 [==============================] - 0s 6ms/step - loss: 12.7740 - mae: 12.7740\n",
      "Epoch 306/500\n",
      "2/2 [==============================] - 0s 5ms/step - loss: 8.3386 - mae: 8.3386\n",
      "Epoch 307/500\n",
      "2/2 [==============================] - 0s 5ms/step - loss: 13.2096 - mae: 13.2096\n",
      "Epoch 308/500\n",
      "2/2 [==============================] - 0s 9ms/step - loss: 8.2008 - mae: 8.2008\n",
      "Epoch 309/500\n",
      "2/2 [==============================] - 0s 5ms/step - loss: 11.8581 - mae: 11.8581\n",
      "Epoch 310/500\n",
      "2/2 [==============================] - 0s 4ms/step - loss: 6.4073 - mae: 6.4073\n",
      "Epoch 311/500\n",
      "2/2 [==============================] - 0s 7ms/step - loss: 4.2522 - mae: 4.2522\n",
      "Epoch 312/500\n",
      "2/2 [==============================] - 0s 5ms/step - loss: 11.9752 - mae: 11.9752\n",
      "Epoch 313/500\n",
      "2/2 [==============================] - 0s 4ms/step - loss: 13.4075 - mae: 13.4075\n",
      "Epoch 314/500\n",
      "2/2 [==============================] - 0s 6ms/step - loss: 13.3382 - mae: 13.3382\n",
      "Epoch 315/500\n",
      "2/2 [==============================] - 0s 5ms/step - loss: 23.0703 - mae: 23.0703\n",
      "Epoch 316/500\n",
      "2/2 [==============================] - 0s 5ms/step - loss: 15.3379 - mae: 15.3379\n",
      "Epoch 317/500\n",
      "2/2 [==============================] - 0s 5ms/step - loss: 21.3696 - mae: 21.3696\n",
      "Epoch 318/500\n",
      "2/2 [==============================] - 0s 3ms/step - loss: 8.0134 - mae: 8.0134\n",
      "Epoch 319/500\n",
      "2/2 [==============================] - 0s 3ms/step - loss: 18.2287 - mae: 18.2287\n",
      "Epoch 320/500\n",
      "2/2 [==============================] - 0s 4ms/step - loss: 10.7144 - mae: 10.7144\n",
      "Epoch 321/500\n",
      "2/2 [==============================] - 0s 48ms/step - loss: 7.0610 - mae: 7.0610\n",
      "Epoch 322/500\n",
      "2/2 [==============================] - 0s 15ms/step - loss: 8.6335 - mae: 8.6335\n",
      "Epoch 323/500\n",
      "2/2 [==============================] - 0s 6ms/step - loss: 18.2865 - mae: 18.2865\n",
      "Epoch 324/500\n",
      "2/2 [==============================] - 0s 8ms/step - loss: 16.3378 - mae: 16.3378\n",
      "Epoch 325/500\n",
      "2/2 [==============================] - 0s 4ms/step - loss: 18.3297 - mae: 18.3297\n",
      "Epoch 326/500\n",
      "2/2 [==============================] - 0s 7ms/step - loss: 22.3237 - mae: 22.3237\n",
      "Epoch 327/500\n",
      "2/2 [==============================] - 0s 10ms/step - loss: 8.4442 - mae: 8.4442\n",
      "Epoch 328/500\n",
      "2/2 [==============================] - 0s 5ms/step - loss: 6.9923 - mae: 6.9923\n",
      "Epoch 329/500\n",
      "2/2 [==============================] - 0s 2ms/step - loss: 10.2248 - mae: 10.2248\n",
      "Epoch 330/500\n",
      "2/2 [==============================] - 0s 5ms/step - loss: 9.3867 - mae: 9.3867\n",
      "Epoch 331/500\n",
      "2/2 [==============================] - 0s 2ms/step - loss: 22.7305 - mae: 22.7305\n",
      "Epoch 332/500\n",
      "2/2 [==============================] - 0s 6ms/step - loss: 19.8958 - mae: 19.8958\n",
      "Epoch 333/500\n",
      "2/2 [==============================] - 0s 5ms/step - loss: 10.9994 - mae: 10.9994\n",
      "Epoch 334/500\n",
      "2/2 [==============================] - 0s 3ms/step - loss: 9.0652 - mae: 9.0652\n",
      "Epoch 335/500\n",
      "2/2 [==============================] - 0s 5ms/step - loss: 13.0583 - mae: 13.0583\n",
      "Epoch 336/500\n",
      "2/2 [==============================] - 0s 4ms/step - loss: 32.5405 - mae: 32.5405\n",
      "Epoch 337/500\n",
      "2/2 [==============================] - 0s 4ms/step - loss: 11.0784 - mae: 11.0784\n",
      "Epoch 338/500\n",
      "2/2 [==============================] - 0s 3ms/step - loss: 20.0385 - mae: 20.0385\n",
      "Epoch 339/500\n",
      "2/2 [==============================] - 0s 4ms/step - loss: 34.0752 - mae: 34.0752\n",
      "Epoch 340/500\n",
      "2/2 [==============================] - 0s 6ms/step - loss: 8.6367 - mae: 8.6367\n",
      "Epoch 341/500\n",
      "2/2 [==============================] - 0s 3ms/step - loss: 21.7761 - mae: 21.7761\n",
      "Epoch 342/500\n",
      "2/2 [==============================] - 0s 16ms/step - loss: 13.9904 - mae: 13.9904\n",
      "Epoch 343/500\n",
      "2/2 [==============================] - 0s 8ms/step - loss: 11.5143 - mae: 11.5143\n",
      "Epoch 344/500\n",
      "2/2 [==============================] - 0s 11ms/step - loss: 10.6510 - mae: 10.6510\n",
      "Epoch 345/500\n",
      "2/2 [==============================] - 0s 3ms/step - loss: 30.8063 - mae: 30.8063\n",
      "Epoch 346/500\n",
      "2/2 [==============================] - 0s 8ms/step - loss: 10.5702 - mae: 10.5702\n",
      "Epoch 347/500\n",
      "2/2 [==============================] - 0s 7ms/step - loss: 25.4148 - mae: 25.4148\n",
      "Epoch 348/500\n",
      "2/2 [==============================] - 0s 6ms/step - loss: 13.6302 - mae: 13.6302\n",
      "Epoch 349/500\n",
      "2/2 [==============================] - 0s 5ms/step - loss: 12.9002 - mae: 12.9002\n",
      "Epoch 350/500\n",
      "2/2 [==============================] - 0s 7ms/step - loss: 15.3465 - mae: 15.3465\n",
      "Epoch 351/500\n",
      "2/2 [==============================] - 0s 4ms/step - loss: 32.7949 - mae: 32.7949\n",
      "Epoch 352/500\n",
      "2/2 [==============================] - 0s 7ms/step - loss: 13.8386 - mae: 13.8386\n",
      "Epoch 353/500\n",
      "2/2 [==============================] - 0s 6ms/step - loss: 17.8107 - mae: 17.8107\n",
      "Epoch 354/500\n",
      "2/2 [==============================] - 0s 6ms/step - loss: 11.3580 - mae: 11.3580\n",
      "Epoch 355/500\n",
      "2/2 [==============================] - 0s 3ms/step - loss: 26.8095 - mae: 26.8095\n",
      "Epoch 356/500\n",
      "2/2 [==============================] - 0s 5ms/step - loss: 9.6860 - mae: 9.6860\n",
      "Epoch 357/500\n",
      "2/2 [==============================] - 0s 5ms/step - loss: 17.0710 - mae: 17.0710\n",
      "Epoch 358/500\n",
      "2/2 [==============================] - 0s 5ms/step - loss: 15.7315 - mae: 15.7315\n",
      "Epoch 359/500\n",
      "2/2 [==============================] - 0s 5ms/step - loss: 11.7024 - mae: 11.7024\n",
      "Epoch 360/500\n",
      "2/2 [==============================] - 0s 4ms/step - loss: 20.2640 - mae: 20.2640\n",
      "Epoch 361/500\n",
      "2/2 [==============================] - 0s 4ms/step - loss: 11.0170 - mae: 11.0170\n",
      "Epoch 362/500\n",
      "2/2 [==============================] - 0s 5ms/step - loss: 6.8073 - mae: 6.8073\n",
      "Epoch 363/500\n",
      "2/2 [==============================] - 0s 3ms/step - loss: 24.0159 - mae: 24.0159\n",
      "Epoch 364/500\n",
      "2/2 [==============================] - 0s 7ms/step - loss: 29.7841 - mae: 29.7841\n",
      "Epoch 365/500\n",
      "2/2 [==============================] - 0s 3ms/step - loss: 8.3462 - mae: 8.3462\n",
      "Epoch 366/500\n",
      "2/2 [==============================] - 0s 4ms/step - loss: 6.0799 - mae: 6.0799\n",
      "Epoch 367/500\n",
      "2/2 [==============================] - 0s 2ms/step - loss: 34.9576 - mae: 34.9576\n",
      "Epoch 368/500\n",
      "2/2 [==============================] - 0s 7ms/step - loss: 7.4029 - mae: 7.4029\n",
      "Epoch 369/500\n",
      "2/2 [==============================] - 0s 5ms/step - loss: 9.2319 - mae: 9.2319\n",
      "Epoch 370/500\n",
      "2/2 [==============================] - 0s 7ms/step - loss: 10.9470 - mae: 10.9470\n",
      "Epoch 371/500\n",
      "2/2 [==============================] - 0s 4ms/step - loss: 9.0094 - mae: 9.0094\n",
      "Epoch 372/500\n",
      "2/2 [==============================] - 0s 5ms/step - loss: 7.6831 - mae: 7.6831\n",
      "Epoch 373/500\n",
      "2/2 [==============================] - 0s 3ms/step - loss: 25.0318 - mae: 25.0318\n",
      "Epoch 374/500\n",
      "2/2 [==============================] - 0s 5ms/step - loss: 13.2791 - mae: 13.2791\n",
      "Epoch 375/500\n",
      "2/2 [==============================] - 0s 3ms/step - loss: 11.8266 - mae: 11.8266\n",
      "Epoch 376/500\n",
      "2/2 [==============================] - 0s 6ms/step - loss: 14.1074 - mae: 14.1074\n",
      "Epoch 377/500\n",
      "2/2 [==============================] - 0s 3ms/step - loss: 15.6912 - mae: 15.6912\n",
      "Epoch 378/500\n",
      "2/2 [==============================] - 0s 5ms/step - loss: 17.0010 - mae: 17.0010\n",
      "Epoch 379/500\n",
      "2/2 [==============================] - 0s 10ms/step - loss: 19.4693 - mae: 19.4693\n",
      "Epoch 380/500\n",
      "2/2 [==============================] - 0s 6ms/step - loss: 15.8308 - mae: 15.8308\n",
      "Epoch 381/500\n",
      "2/2 [==============================] - 0s 6ms/step - loss: 11.4304 - mae: 11.4304\n",
      "Epoch 382/500\n",
      "2/2 [==============================] - 0s 6ms/step - loss: 16.3134 - mae: 16.3134\n",
      "Epoch 383/500\n",
      "2/2 [==============================] - 0s 3ms/step - loss: 22.0579 - mae: 22.0579\n",
      "Epoch 384/500\n",
      "2/2 [==============================] - 0s 3ms/step - loss: 7.7812 - mae: 7.7812\n",
      "Epoch 385/500\n",
      "2/2 [==============================] - 0s 2ms/step - loss: 10.5835 - mae: 10.5835\n",
      "Epoch 386/500\n",
      "2/2 [==============================] - 0s 5ms/step - loss: 19.0402 - mae: 19.0402\n",
      "Epoch 387/500\n",
      "2/2 [==============================] - 0s 10ms/step - loss: 26.6180 - mae: 26.6180\n",
      "Epoch 388/500\n",
      "2/2 [==============================] - 0s 4ms/step - loss: 10.1626 - mae: 10.1626\n",
      "Epoch 389/500\n",
      "2/2 [==============================] - 0s 3ms/step - loss: 5.1740 - mae: 5.1740\n",
      "Epoch 390/500\n",
      "2/2 [==============================] - 0s 23ms/step - loss: 18.9370 - mae: 18.9370\n",
      "Epoch 391/500\n",
      "2/2 [==============================] - 0s 18ms/step - loss: 9.2950 - mae: 9.2950\n",
      "Epoch 392/500\n",
      "2/2 [==============================] - 0s 5ms/step - loss: 14.3691 - mae: 14.3691\n",
      "Epoch 393/500\n",
      "2/2 [==============================] - 0s 5ms/step - loss: 15.3723 - mae: 15.3723\n",
      "Epoch 394/500\n",
      "2/2 [==============================] - 0s 9ms/step - loss: 14.7221 - mae: 14.7221\n",
      "Epoch 395/500\n",
      "2/2 [==============================] - 0s 6ms/step - loss: 24.9319 - mae: 24.9319\n",
      "Epoch 396/500\n",
      "2/2 [==============================] - 0s 5ms/step - loss: 19.2642 - mae: 19.2642\n",
      "Epoch 397/500\n",
      "2/2 [==============================] - 0s 5ms/step - loss: 11.5459 - mae: 11.5459\n",
      "Epoch 398/500\n",
      "2/2 [==============================] - 0s 5ms/step - loss: 19.1671 - mae: 19.1671\n",
      "Epoch 399/500\n",
      "2/2 [==============================] - 0s 3ms/step - loss: 26.0629 - mae: 26.0629\n",
      "Epoch 400/500\n",
      "2/2 [==============================] - 0s 5ms/step - loss: 15.7110 - mae: 15.7110\n",
      "Epoch 401/500\n",
      "2/2 [==============================] - 0s 6ms/step - loss: 14.6326 - mae: 14.6326\n",
      "Epoch 402/500\n",
      "2/2 [==============================] - 0s 5ms/step - loss: 24.2333 - mae: 24.2333\n",
      "Epoch 403/500\n",
      "2/2 [==============================] - 0s 5ms/step - loss: 16.5105 - mae: 16.5105\n",
      "Epoch 404/500\n",
      "2/2 [==============================] - 0s 7ms/step - loss: 9.1608 - mae: 9.1608\n",
      "Epoch 405/500\n",
      "2/2 [==============================] - 0s 4ms/step - loss: 10.4356 - mae: 10.4356\n",
      "Epoch 406/500\n",
      "2/2 [==============================] - 0s 3ms/step - loss: 7.3558 - mae: 7.3558\n",
      "Epoch 407/500\n",
      "2/2 [==============================] - 0s 4ms/step - loss: 13.4640 - mae: 13.4640\n",
      "Epoch 408/500\n",
      "2/2 [==============================] - 0s 3ms/step - loss: 5.5912 - mae: 5.5912\n",
      "Epoch 409/500\n",
      "2/2 [==============================] - 0s 5ms/step - loss: 29.8200 - mae: 29.8200\n",
      "Epoch 410/500\n",
      "2/2 [==============================] - 0s 5ms/step - loss: 9.9360 - mae: 9.9360\n",
      "Epoch 411/500\n",
      "2/2 [==============================] - 0s 7ms/step - loss: 14.7882 - mae: 14.7882\n",
      "Epoch 412/500\n",
      "2/2 [==============================] - 0s 3ms/step - loss: 21.5994 - mae: 21.5994\n",
      "Epoch 413/500\n",
      "2/2 [==============================] - 0s 9ms/step - loss: 13.0437 - mae: 13.0437\n",
      "Epoch 414/500\n",
      "2/2 [==============================] - 0s 8ms/step - loss: 8.3126 - mae: 8.3126\n",
      "Epoch 415/500\n",
      "2/2 [==============================] - 0s 7ms/step - loss: 11.7120 - mae: 11.7120\n",
      "Epoch 416/500\n",
      "2/2 [==============================] - 0s 12ms/step - loss: 25.6558 - mae: 25.6558\n",
      "Epoch 417/500\n",
      "2/2 [==============================] - 0s 4ms/step - loss: 15.6480 - mae: 15.6480\n",
      "Epoch 418/500\n",
      "2/2 [==============================] - 0s 10ms/step - loss: 12.6073 - mae: 12.6073\n",
      "Epoch 419/500\n",
      "2/2 [==============================] - 0s 7ms/step - loss: 15.7440 - mae: 15.7440\n",
      "Epoch 420/500\n",
      "2/2 [==============================] - 0s 4ms/step - loss: 24.4667 - mae: 24.4667\n",
      "Epoch 421/500\n",
      "2/2 [==============================] - 0s 3ms/step - loss: 18.1792 - mae: 18.1792\n",
      "Epoch 422/500\n",
      "2/2 [==============================] - 0s 3ms/step - loss: 8.6579 - mae: 8.6579\n",
      "Epoch 423/500\n",
      "2/2 [==============================] - 0s 5ms/step - loss: 24.6735 - mae: 24.6735\n",
      "Epoch 424/500\n",
      "2/2 [==============================] - 0s 5ms/step - loss: 16.7945 - mae: 16.7945\n",
      "Epoch 425/500\n",
      "2/2 [==============================] - 0s 3ms/step - loss: 7.3160 - mae: 7.3160\n",
      "Epoch 426/500\n",
      "2/2 [==============================] - 0s 4ms/step - loss: 20.9721 - mae: 20.9721\n",
      "Epoch 427/500\n",
      "2/2 [==============================] - 0s 3ms/step - loss: 6.4931 - mae: 6.4931\n",
      "Epoch 428/500\n",
      "2/2 [==============================] - 0s 58ms/step - loss: 13.4324 - mae: 13.4324\n",
      "Epoch 429/500\n",
      "2/2 [==============================] - 0s 11ms/step - loss: 11.1632 - mae: 11.1632\n",
      "Epoch 430/500\n",
      "2/2 [==============================] - 0s 10ms/step - loss: 12.0604 - mae: 12.0604\n",
      "Epoch 431/500\n",
      "2/2 [==============================] - 0s 15ms/step - loss: 9.0772 - mae: 9.0772\n",
      "Epoch 432/500\n",
      "2/2 [==============================] - 0s 7ms/step - loss: 15.5791 - mae: 15.5791\n",
      "Epoch 433/500\n",
      "2/2 [==============================] - 0s 10ms/step - loss: 11.9625 - mae: 11.9625\n",
      "Epoch 434/500\n",
      "2/2 [==============================] - 0s 3ms/step - loss: 30.4874 - mae: 30.4874\n",
      "Epoch 435/500\n",
      "2/2 [==============================] - 0s 5ms/step - loss: 11.1048 - mae: 11.1048\n",
      "Epoch 436/500\n",
      "2/2 [==============================] - 0s 4ms/step - loss: 28.5690 - mae: 28.5690\n",
      "Epoch 437/500\n",
      "2/2 [==============================] - 0s 3ms/step - loss: 6.9191 - mae: 6.9191\n",
      "Epoch 438/500\n",
      "2/2 [==============================] - 0s 4ms/step - loss: 13.2458 - mae: 13.2458\n",
      "Epoch 439/500\n",
      "2/2 [==============================] - 0s 6ms/step - loss: 34.3637 - mae: 34.3637\n",
      "Epoch 440/500\n",
      "2/2 [==============================] - 0s 10ms/step - loss: 16.1151 - mae: 16.1151\n",
      "Epoch 441/500\n",
      "2/2 [==============================] - 0s 3ms/step - loss: 19.0380 - mae: 19.0380\n",
      "Epoch 442/500\n",
      "2/2 [==============================] - 0s 4ms/step - loss: 25.3907 - mae: 25.3907\n",
      "Epoch 443/500\n",
      "2/2 [==============================] - 0s 4ms/step - loss: 7.3386 - mae: 7.3386\n",
      "Epoch 444/500\n",
      "2/2 [==============================] - 0s 2ms/step - loss: 23.1510 - mae: 23.1510\n",
      "Epoch 445/500\n",
      "2/2 [==============================] - 0s 7ms/step - loss: 13.5043 - mae: 13.5043\n",
      "Epoch 446/500\n",
      "2/2 [==============================] - 0s 4ms/step - loss: 15.9491 - mae: 15.9491\n",
      "Epoch 447/500\n",
      "2/2 [==============================] - 0s 5ms/step - loss: 9.2609 - mae: 9.2609\n",
      "Epoch 448/500\n",
      "2/2 [==============================] - 0s 5ms/step - loss: 3.6514 - mae: 3.6514\n",
      "Epoch 449/500\n",
      "2/2 [==============================] - 0s 3ms/step - loss: 13.1729 - mae: 13.1729\n",
      "Epoch 450/500\n",
      "2/2 [==============================] - 0s 5ms/step - loss: 16.0385 - mae: 16.0385\n",
      "Epoch 451/500\n",
      "2/2 [==============================] - 0s 5ms/step - loss: 18.8109 - mae: 18.8109\n",
      "Epoch 452/500\n",
      "2/2 [==============================] - 0s 5ms/step - loss: 40.5665 - mae: 40.5665\n",
      "Epoch 453/500\n",
      "2/2 [==============================] - 0s 11ms/step - loss: 22.9746 - mae: 22.9746\n",
      "Epoch 454/500\n",
      "2/2 [==============================] - 0s 3ms/step - loss: 19.4740 - mae: 19.4740\n",
      "Epoch 455/500\n",
      "2/2 [==============================] - 0s 6ms/step - loss: 6.2454 - mae: 6.2454\n",
      "Epoch 456/500\n",
      "2/2 [==============================] - 0s 5ms/step - loss: 6.8290 - mae: 6.8290\n",
      "Epoch 457/500\n",
      "2/2 [==============================] - 0s 3ms/step - loss: 16.0814 - mae: 16.0814\n",
      "Epoch 458/500\n",
      "2/2 [==============================] - 0s 4ms/step - loss: 11.0153 - mae: 11.0153\n",
      "Epoch 459/500\n",
      "2/2 [==============================] - 0s 4ms/step - loss: 23.0807 - mae: 23.0807\n",
      "Epoch 460/500\n",
      "2/2 [==============================] - 0s 6ms/step - loss: 22.3524 - mae: 22.3524\n",
      "Epoch 461/500\n",
      "2/2 [==============================] - 0s 20ms/step - loss: 7.9420 - mae: 7.9420\n",
      "Epoch 462/500\n",
      "2/2 [==============================] - 0s 9ms/step - loss: 13.3737 - mae: 13.3737\n",
      "Epoch 463/500\n",
      "2/2 [==============================] - 0s 4ms/step - loss: 29.6626 - mae: 29.6626\n",
      "Epoch 464/500\n",
      "2/2 [==============================] - 0s 17ms/step - loss: 4.1061 - mae: 4.1061\n",
      "Epoch 465/500\n",
      "2/2 [==============================] - 0s 3ms/step - loss: 23.0504 - mae: 23.0504\n",
      "Epoch 466/500\n",
      "2/2 [==============================] - 0s 13ms/step - loss: 21.4906 - mae: 21.4906\n",
      "Epoch 467/500\n",
      "2/2 [==============================] - 0s 4ms/step - loss: 11.7036 - mae: 11.7036\n",
      "Epoch 468/500\n",
      "2/2 [==============================] - 0s 8ms/step - loss: 10.3586 - mae: 10.3586\n",
      "Epoch 469/500\n",
      "2/2 [==============================] - 0s 5ms/step - loss: 27.3111 - mae: 27.3111\n",
      "Epoch 470/500\n",
      "2/2 [==============================] - 0s 5ms/step - loss: 12.5529 - mae: 12.5529\n",
      "Epoch 471/500\n",
      "2/2 [==============================] - 0s 4ms/step - loss: 12.2326 - mae: 12.2326\n",
      "Epoch 472/500\n",
      "2/2 [==============================] - 0s 3ms/step - loss: 15.4754 - mae: 15.4754\n",
      "Epoch 473/500\n",
      "2/2 [==============================] - 0s 5ms/step - loss: 15.4758 - mae: 15.4758\n",
      "Epoch 474/500\n",
      "2/2 [==============================] - 0s 5ms/step - loss: 11.9401 - mae: 11.9401\n",
      "Epoch 475/500\n",
      "2/2 [==============================] - 0s 5ms/step - loss: 16.5915 - mae: 16.5915\n",
      "Epoch 476/500\n",
      "2/2 [==============================] - 0s 5ms/step - loss: 13.0143 - mae: 13.0143\n",
      "Epoch 477/500\n",
      "2/2 [==============================] - 0s 6ms/step - loss: 28.8916 - mae: 28.8916\n",
      "Epoch 478/500\n",
      "2/2 [==============================] - 0s 7ms/step - loss: 6.3405 - mae: 6.3405\n",
      "Epoch 479/500\n",
      "2/2 [==============================] - 0s 5ms/step - loss: 3.0202 - mae: 3.0202\n",
      "Epoch 480/500\n",
      "2/2 [==============================] - 0s 11ms/step - loss: 23.4782 - mae: 23.4782\n",
      "Epoch 481/500\n",
      "2/2 [==============================] - 0s 4ms/step - loss: 6.4568 - mae: 6.4568\n",
      "Epoch 482/500\n",
      "2/2 [==============================] - 0s 6ms/step - loss: 22.2109 - mae: 22.2109\n",
      "Epoch 483/500\n",
      "2/2 [==============================] - 0s 4ms/step - loss: 23.5161 - mae: 23.5161\n",
      "Epoch 484/500\n",
      "2/2 [==============================] - 0s 5ms/step - loss: 21.9853 - mae: 21.9853\n",
      "Epoch 485/500\n",
      "2/2 [==============================] - 0s 3ms/step - loss: 5.4268 - mae: 5.4268\n",
      "Epoch 486/500\n",
      "2/2 [==============================] - 0s 6ms/step - loss: 17.8944 - mae: 17.8944\n",
      "Epoch 487/500\n",
      "2/2 [==============================] - 0s 5ms/step - loss: 14.1547 - mae: 14.1547\n",
      "Epoch 488/500\n",
      "2/2 [==============================] - 0s 3ms/step - loss: 30.8214 - mae: 30.8214\n",
      "Epoch 489/500\n",
      "2/2 [==============================] - 0s 2ms/step - loss: 12.2579 - mae: 12.2579\n",
      "Epoch 490/500\n",
      "2/2 [==============================] - 0s 5ms/step - loss: 12.8991 - mae: 12.8991\n",
      "Epoch 491/500\n",
      "2/2 [==============================] - 0s 2ms/step - loss: 23.9454 - mae: 23.9454\n",
      "Epoch 492/500\n",
      "2/2 [==============================] - 0s 3ms/step - loss: 19.7168 - mae: 19.7168\n",
      "Epoch 493/500\n",
      "2/2 [==============================] - 0s 6ms/step - loss: 4.8224 - mae: 4.8224\n",
      "Epoch 494/500\n",
      "2/2 [==============================] - 0s 3ms/step - loss: 12.1098 - mae: 12.1098\n",
      "Epoch 495/500\n",
      "2/2 [==============================] - 0s 6ms/step - loss: 13.6657 - mae: 13.6657\n",
      "Epoch 496/500\n",
      "2/2 [==============================] - 0s 5ms/step - loss: 12.8754 - mae: 12.8754\n",
      "Epoch 497/500\n",
      "2/2 [==============================] - 0s 5ms/step - loss: 17.9839 - mae: 17.9839\n",
      "Epoch 498/500\n",
      "2/2 [==============================] - 0s 6ms/step - loss: 22.7434 - mae: 22.7434\n",
      "Epoch 499/500\n",
      "2/2 [==============================] - 0s 8ms/step - loss: 8.6223 - mae: 8.6223\n",
      "Epoch 500/500\n",
      "2/2 [==============================] - 0s 4ms/step - loss: 14.4497 - mae: 14.4497\n"
     ]
    },
    {
     "data": {
      "text/plain": [
       "<keras.callbacks.History at 0x2221acfd540>"
      ]
     },
     "execution_count": 116,
     "metadata": {},
     "output_type": "execute_result"
    }
   ],
   "source": [
    "# Set random seed \n",
    "tf.random.set_seed(42)\n",
    "\n",
    "# Create the model\n",
    "model_3 = tf.keras.Sequential([\n",
    "    tf.keras.layers.Dense(10),\n",
    "    tf.keras.layers.Dense(1)\n",
    "])\n",
    "\n",
    "# Compile the model\n",
    "model_3.compile(loss=tf.keras.losses.mae,optimizer=tf.keras.optimizers.SGD(), metrics=[\"mae\"])\n",
    "\n",
    "# Fit the model\n",
    "model_3.fit(tf.expand_dims(X_train, axis=-1), Y_train, epochs=500)"
   ]
  },
  {
   "cell_type": "code",
   "execution_count": 117,
   "metadata": {},
   "outputs": [
    {
     "name": "stdout",
     "output_type": "stream",
     "text": [
      "1/1 [==============================] - 0s 90ms/step\n"
     ]
    },
    {
     "data": {
      "image/png": "[encoded data removed]",
      "text/plain": [
       "<Figure size 1000x700 with 1 Axes>"
      ]
     },
     "metadata": {},
     "output_type": "display_data"
    }
   ],
   "source": [
    "y_preds_3 = model_3.predict(X_test)\n",
    "plot_predictions(predictions=y_preds_3)"
   ]
  },
  {
   "cell_type": "code",
   "execution_count": 118,
   "metadata": {},
   "outputs": [
    {
     "data": {
      "text/plain": [
       "(<tf.Tensor: shape=(), dtype=float32, numpy=68.12582>,\n",
       " <tf.Tensor: shape=(), dtype=float32, numpy=4726.066>)"
      ]
     },
     "execution_count": 118,
     "metadata": {},
     "output_type": "execute_result"
    }
   ],
   "source": [
    "# Calculate model_1 evaluation metrics \n",
    "\n",
    "mae_3 = mae(Y_test, y_preds_3)\n",
    "\n",
    "mse_3 = mse(Y_test, y_preds_3)\n",
    "\n",
    "mae_3, mse_3"
   ]
  },
  {
   "cell_type": "markdown",
   "metadata": {},
   "source": [
    "**🔑 Note:** You want to start with small experiemnts (small models) and make sure they work and then increase their scale when necessary.\n",
    "\n",
    "## Comparing the results of our experiments\n",
    "We've run a few experiments, let's compare the results."
   ]
  },
  {
   "cell_type": "code",
   "execution_count": 148,
   "metadata": {},
   "outputs": [
    {
     "data": {
      "text/html": [
       "<div>\n",
       "<style scoped>\n",
       "    .dataframe tbody tr th:only-of-type {\n",
       "        vertical-align: middle;\n",
       "    }\n",
       "\n",
       "    .dataframe tbody tr th {\n",
       "        vertical-align: top;\n",
       "    }\n",
       "\n",
       "    .dataframe thead th {\n",
       "        text-align: right;\n",
       "    }\n",
       "</style>\n",
       "<table border=\"1\" class=\"dataframe\">\n",
       "  <thead>\n",
       "    <tr style=\"text-align: right;\">\n",
       "      <th></th>\n",
       "      <th>model</th>\n",
       "      <th>mae</th>\n",
       "      <th>mse</th>\n",
       "    </tr>\n",
       "  </thead>\n",
       "  <tbody>\n",
       "    <tr>\n",
       "      <th>0</th>\n",
       "      <td>model_1</td>\n",
       "      <td>14.931368</td>\n",
       "      <td>223.784332</td>\n",
       "    </tr>\n",
       "    <tr>\n",
       "      <th>1</th>\n",
       "      <td>model_2</td>\n",
       "      <td>3.178576</td>\n",
       "      <td>12.945129</td>\n",
       "    </tr>\n",
       "    <tr>\n",
       "      <th>2</th>\n",
       "      <td>model_3</td>\n",
       "      <td>68.125816</td>\n",
       "      <td>4726.065918</td>\n",
       "    </tr>\n",
       "  </tbody>\n",
       "</table>\n",
       "</div>"
      ],
      "text/plain": [
       "     model        mae          mse\n",
       "0  model_1  14.931368   223.784332\n",
       "1  model_2   3.178576    12.945129\n",
       "2  model_3  68.125816  4726.065918"
      ]
     },
     "execution_count": 148,
     "metadata": {},
     "output_type": "execute_result"
    }
   ],
   "source": [
    "# Let's compare our model's results using a pandas DataFrame\n",
    "\n",
    "import pandas as pd\n",
    "\n",
    "model_results = [[\"model_1\", mae_1.numpy(), mse_1.numpy()],[\"model_2\", mae_2.numpy(), mse_2.numpy()],[\"model_3\", mae_3.numpy(), mse_3.numpy()]]\n",
    "all_results = pd.DataFrame(model_results, columns=[\"model\",\"mae\", \"mse\"])\n",
    "all_results"
   ]
  },
  {
   "cell_type": "markdown",
   "metadata": {},
   "source": [
    "Model 2 performed best"
   ]
  },
  {
   "cell_type": "code",
   "execution_count": 149,
   "metadata": {},
   "outputs": [
    {
     "name": "stdout",
     "output_type": "stream",
     "text": [
      "Model: \"sequential_34\"\n",
      "_________________________________________________________________\n",
      " Layer (type)                Output Shape              Param #   \n",
      "=================================================================\n",
      " dense_67 (Dense)            (None, 100)               200       \n",
      "                                                                 \n",
      " dense_68 (Dense)            (None, 1)                 101       \n",
      "                                                                 \n",
      "=================================================================\n",
      "Total params: 301\n",
      "Trainable params: 301\n",
      "Non-trainable params: 0\n",
      "_________________________________________________________________\n"
     ]
    }
   ],
   "source": [
    "model_2.summary()"
   ]
  },
  {
   "cell_type": "markdown",
   "metadata": {},
   "source": [
    "## Tracking results \n",
    "\n",
    "One really good habit in ML modelling is to trach the results of your experiments.\n",
    "\n",
    "And when doing so, it can be tedious if you're running lots of experiments.\n",
    "\n",
    "Luckilu, there are tools to help us!\n",
    "\n",
    "**📖 Resource:** As you build more models, you'll want to look into using:\n",
    "\n",
    "* TensorBoard - a component of the TensorFlow library to help track modelling experiments (we'll see this one later).\n",
    "* Weights & Biases - a tool for tracking all kinds of ML experiments (plugs straight into TensorBoard).\n"
   ]
  },
  {
   "cell_type": "markdown",
   "metadata": {},
   "source": [
    "# Saving models\n",
    "\n",
    "Saving the model allows us to use them outside of training app such as in a web app or a mobile app\n",
    "\n",
    "There are 2 legacy formats to save the models:\n",
    "1. The SavedModel format\n",
    "2. The HDF5 format\n",
    "\n",
    "Comparision at https://github.com/huggingface/safetensors#yet-another-format-\n",
    "\n",
    "at date of writing safetensors is best format, but not with tensorflow lib so, will visit later as it's outside of scope of this proj rn"
   ]
  },
  {
   "cell_type": "code",
   "execution_count": 151,
   "metadata": {},
   "outputs": [
    {
     "name": "stdout",
     "output_type": "stream",
     "text": [
      "INFO:tensorflow:Assets written to: model-save\\assets\n"
     ]
    }
   ],
   "source": [
    "# Saving using SavedModel format\n",
    "model_2.save(\"model-save\")\n",
    "model_2.save(\"model-save.h5\")"
   ]
  },
  {
   "cell_type": "markdown",
   "metadata": {},
   "source": [
    "# Loading models\n"
   ]
  },
  {
   "cell_type": "code",
   "execution_count": 152,
   "metadata": {},
   "outputs": [
    {
     "name": "stdout",
     "output_type": "stream",
     "text": [
      "Model: \"sequential_34\"\n",
      "_________________________________________________________________\n",
      " Layer (type)                Output Shape              Param #   \n",
      "=================================================================\n",
      " dense_67 (Dense)            (None, 100)               200       \n",
      "                                                                 \n",
      " dense_68 (Dense)            (None, 1)                 101       \n",
      "                                                                 \n",
      "=================================================================\n",
      "Total params: 301\n",
      "Trainable params: 301\n",
      "Non-trainable params: 0\n",
      "_________________________________________________________________\n"
     ]
    }
   ],
   "source": [
    "loaded_model = tf.keras.models.load_model(\"./model-save\")\n",
    "loaded_model.summary()"
   ]
  },
  {
   "cell_type": "code",
   "execution_count": 153,
   "metadata": {},
   "outputs": [
    {
     "name": "stdout",
     "output_type": "stream",
     "text": [
      "1/1 [==============================] - 0s 23ms/step\n",
      "1/1 [==============================] - 0s 59ms/step\n"
     ]
    },
    {
     "data": {
      "text/plain": [
       "array([[ True],\n",
       "       [ True],\n",
       "       [ True],\n",
       "       [ True],\n",
       "       [ True],\n",
       "       [ True],\n",
       "       [ True],\n",
       "       [ True],\n",
       "       [ True],\n",
       "       [ True]])"
      ]
     },
     "execution_count": 153,
     "metadata": {},
     "output_type": "execute_result"
    }
   ],
   "source": [
    "# Compare model_2 predictions with SavedModel format model predictions\n",
    "model_2_preds = model_2.predict(X_test)\n",
    "loaded_model_preds = loaded_model.predict(X_test)\n",
    "\n",
    "model_2_preds == loaded_model_preds"
   ]
  }
 ],
 "metadata": {
  "kernelspec": {
   "display_name": ".venv",
   "language": "python",
   "name": "python3"
  },
  "language_info": {
   "codemirror_mode": {
    "name": "ipython",
    "version": 3
   },
   "file_extension": ".py",
   "mimetype": "text/x-python",
   "name": "python",
   "nbconvert_exporter": "python",
   "pygments_lexer": "ipython3",
   "version": "3.10.11"
  },
  "orig_nbformat": 4
 },
 "nbformat": 4,
 "nbformat_minor": 2
}
